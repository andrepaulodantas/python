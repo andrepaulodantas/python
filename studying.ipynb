{
  "nbformat": 4,
  "nbformat_minor": 0,
  "metadata": {
    "colab": {
      "name": "Olá, este é o Colaboratory",
      "provenance": [],
      "collapsed_sections": [],
      "toc_visible": true,
      "include_colab_link": true
    },
    "kernelspec": {
      "display_name": "Python 3",
      "name": "python3"
    }
  },
  "cells": [
    {
      "cell_type": "markdown",
      "metadata": {
        "id": "view-in-github",
        "colab_type": "text"
      },
      "source": [
        "<a href=\"https://colab.research.google.com/github/andrepaulodantas/python/blob/main/studying.ipynb\" target=\"_parent\"><img src=\"https://colab.research.google.com/assets/colab-badge.svg\" alt=\"Open In Colab\"/></a>"
      ]
    },
    {
      "cell_type": "markdown",
      "metadata": {
        "id": "dVLuoBLyJ9fN"
      },
      "source": [
        ""
      ]
    },
    {
      "cell_type": "code",
      "metadata": {
        "id": "7hzDFYi4J8Vf",
        "outputId": "824a3d62-5435-4973-cdea-67683f1913c0",
        "colab": {
          "base_uri": "https://localhost:8080/"
        }
      },
      "source": [
        "from google.colab import drive\r\n",
        "drive.mount('/content/drive')"
      ],
      "execution_count": 13,
      "outputs": [
        {
          "output_type": "stream",
          "text": [
            "Mounted at /content/drive\n"
          ],
          "name": "stdout"
        }
      ]
    },
    {
      "cell_type": "code",
      "metadata": {
        "colab": {
          "base_uri": "https://localhost:8080/"
        },
        "id": "gJr_9dXGpJ05",
        "outputId": "a533ac8b-9c05-4784-abf0-44551a75fcea"
      },
      "source": [
        "print('-=-' * 20)\n",
        "print('         QUANTIDADE DE SEGUNDOS DURANTE 24H')\n",
        "print('-=-' * 20)\n",
        "seconds_in_a_day = 24 * 60 * 60\n",
        "seconds_in_a_day"
      ],
      "execution_count": null,
      "outputs": [
        {
          "output_type": "stream",
          "text": [
            "-=--=--=--=--=--=--=--=--=--=--=--=--=--=--=--=--=--=--=--=-\n",
            "         QUANTIDADE DE SEGUNDOS DURANTE 24H\n",
            "-=--=--=--=--=--=--=--=--=--=--=--=--=--=--=--=--=--=--=--=-\n"
          ],
          "name": "stdout"
        },
        {
          "output_type": "execute_result",
          "data": {
            "text/plain": [
              "86400"
            ]
          },
          "metadata": {
            "tags": []
          },
          "execution_count": 85
        }
      ]
    },
    {
      "cell_type": "code",
      "metadata": {
        "id": "Pc7_oRhh4Czs",
        "colab": {
          "base_uri": "https://localhost:8080/"
        },
        "outputId": "3d45a9fa-2ae5-4943-9833-5005732a0a96"
      },
      "source": [
        "print('-=-' * 20)\r\n",
        "print('         TRANSFORMAÇÃO DE TEMPERATURA DE °F PARA °C')\r\n",
        "print('-=-' * 20)\r\n",
        "c = float(input('Informe a temperatura em ºC: '))\r\n",
        "f = ((9 * c) / 5 ) + 32\r\n",
        "print('A temperatura de {}ºC correspondente a {}ºF'.format(c, f))"
      ],
      "execution_count": null,
      "outputs": [
        {
          "output_type": "stream",
          "text": [
            "-=--=--=--=--=--=--=--=--=--=--=--=--=--=--=--=--=--=--=--=-\n",
            "         TRANSFORMAÇÃO DE TEMPERATURA DE °F PARA °C\n",
            "-=--=--=--=--=--=--=--=--=--=--=--=--=--=--=--=--=--=--=--=-\n",
            "Informe a temperatura em ºC: 55\n",
            "A temperatura de 55.0ºC correspondente a 131.0ºF\n"
          ],
          "name": "stdout"
        }
      ]
    },
    {
      "cell_type": "code",
      "metadata": {
        "id": "ynrjpSJS4FIm",
        "colab": {
          "base_uri": "https://localhost:8080/"
        },
        "outputId": "095d1fab-ab96-401a-d0b9-7ca99d8e9b64"
      },
      "source": [
        "print('-=-' * 20)\r\n",
        "print('         ALUGUEL DE CARROS')\r\n",
        "print('-=-' * 20)\r\n",
        "dias = int(input('Quantos dias alugados? '))\r\n",
        "km = float(input('Qunatos km rodados? '))\r\n",
        "pago = (dias * 60) + (km * 0.15)\r\n",
        "print('O total a pagar é de R${:.2f}'.format(pago)) #duas casas décimais :.2f"
      ],
      "execution_count": null,
      "outputs": [
        {
          "output_type": "stream",
          "text": [
            "-=--=--=--=--=--=--=--=--=--=--=--=--=--=--=--=--=--=--=--=-\n",
            "         ALUGUEL DE CARROS\n",
            "-=--=--=--=--=--=--=--=--=--=--=--=--=--=--=--=--=--=--=--=-\n",
            "Quantos dias alugados? 10\n",
            "Qunatos km rodados? 20\n",
            "O total a pagar é de R$603.00\n"
          ],
          "name": "stdout"
        }
      ]
    },
    {
      "cell_type": "code",
      "metadata": {
        "id": "eJx79s6UDpLl",
        "colab": {
          "base_uri": "https://localhost:8080/"
        },
        "outputId": "e34d8d17-8b09-4ac3-f17a-bf261092c691"
      },
      "source": [
        "import math \r\n",
        "num = int(input('Digite um número: '))\r\n",
        "raiz = math.sqrt(num)\r\n",
        "print('A raiz de {} é igual a {:.2f}'.format(num, raiz))\r\n"
      ],
      "execution_count": null,
      "outputs": [
        {
          "output_type": "stream",
          "text": [
            "Digite um número: 29\n",
            "A raiz de 29 é igual a 5.39\n"
          ],
          "name": "stdout"
        }
      ]
    },
    {
      "cell_type": "code",
      "metadata": {
        "colab": {
          "base_uri": "https://localhost:8080/"
        },
        "id": "TXd2J-9WINX0",
        "outputId": "b997958c-9194-4cd9-fb6d-b16b3fbcea71"
      },
      "source": [
        "import math \r\n",
        "num = float(input('Digite um número: '))\r\n",
        "print('O valor digitado foi {} é a sua parte inteira é {}'.format(num, math.trunc(num)))\r\n"
      ],
      "execution_count": null,
      "outputs": [
        {
          "output_type": "stream",
          "text": [
            "Digite um número: 3.1415\n",
            "O valor digitado foi 3.1415 é a sua parte inteira é 3\n"
          ],
          "name": "stdout"
        }
      ]
    },
    {
      "cell_type": "code",
      "metadata": {
        "colab": {
          "base_uri": "https://localhost:8080/"
        },
        "id": "agZUHOEmIMiM",
        "outputId": "f7df1a72-a622-4a3e-f71c-820dfe6da70c"
      },
      "source": [
        "import random\r\n",
        "n1 = str(input('Primeiro Aluno: '))\r\n",
        "n2 = str(input('Segundo Aluno: '))\r\n",
        "n3 = str(input('Terceiro Aluno: '))\r\n",
        "n4 = str(input('Quarto Aluno: '))\r\n",
        "lista = [n1, n2, n3, n4]\r\n",
        "escolhido = random.choice(lista)\r\n",
        "print('O aluno escolhido foi {}'.format(escolhido))"
      ],
      "execution_count": null,
      "outputs": [
        {
          "output_type": "stream",
          "text": [
            "Primeiro Aluno: André\n",
            "Segundo Aluno: Juliana\n",
            "Terceiro Aluno: Larissa\n",
            "Quarto Aluno: Izolda\n",
            "O aluno escolhido foi Larissa\n"
          ],
          "name": "stdout"
        }
      ]
    },
    {
      "cell_type": "code",
      "metadata": {
        "colab": {
          "base_uri": "https://localhost:8080/"
        },
        "id": "tCloSi8ToGve",
        "outputId": "3a342c1c-d692-415c-c98a-98ba1a3d44ad"
      },
      "source": [
        "import random\r\n",
        "n1 = str(input('Primeiro Aluno: '))\r\n",
        "n2 = str(input('Segundo Aluno: '))\r\n",
        "n3 = str(input('Terceiro Aluno: '))\r\n",
        "n4 = str(input('Quarto Aluno: '))\r\n",
        "lista = [n1, n2, n3, n4]\r\n",
        "random.shuffle(lista)\r\n",
        "print('O aluno escolhido foi ')\r\n",
        "print(lista)"
      ],
      "execution_count": null,
      "outputs": [
        {
          "output_type": "stream",
          "text": [
            "Primeiro Aluno: André \n",
            "Segundo Aluno: Larissa\n",
            "Terceiro Aluno: Izolda\n",
            "Quarto Aluno: Juliana\n",
            "O aluno escolhido foi \n",
            "['Izolda', 'Larissa', 'André ', 'Juliana']\n"
          ],
          "name": "stdout"
        }
      ]
    },
    {
      "cell_type": "code",
      "metadata": {
        "colab": {
          "base_uri": "https://localhost:8080/"
        },
        "id": "QWvMQPgBs5bH",
        "outputId": "32885380-8edc-4328-d59f-3fe1b3205109"
      },
      "source": [
        "frase = ('André Paulo!')\r\n",
        "\r\n",
        "print(frase.split())\r\n",
        "\r\n",
        "print(frase.count('o',0,12))\r\n",
        "\r\n",
        "print('-'.join(frase))\r\n"
      ],
      "execution_count": null,
      "outputs": [
        {
          "output_type": "stream",
          "text": [
            "['André', 'Paulo!']\n",
            "1\n",
            "A-n-d-r-é- -P-a-u-l-o-!\n"
          ],
          "name": "stdout"
        }
      ]
    },
    {
      "cell_type": "code",
      "metadata": {
        "colab": {
          "base_uri": "https://localhost:8080/"
        },
        "id": "MUl6rT_d6jx-",
        "outputId": "404438ba-d791-4ac5-80a3-ca07abe24142"
      },
      "source": [
        "nome = str(input('Digite seu nome completo: ')).strip()\r\n",
        "print('Seu nome tem ao todo {} letras'.format(len(nome) - nome.count(' ')))\r\n",
        "print('Seu primeiro nome tem {} letras'.format(nome.find(' ')))"
      ],
      "execution_count": null,
      "outputs": [
        {
          "output_type": "stream",
          "text": [
            "Digite seu nome completo: André Paulo Dantas de Araújo\n",
            "Seu nome tem ao todo 24 letras\n",
            "Seu Primeiro nome tem 5 letras\n"
          ],
          "name": "stdout"
        }
      ]
    },
    {
      "cell_type": "code",
      "metadata": {
        "colab": {
          "base_uri": "https://localhost:8080/",
          "height": 34
        },
        "id": "-gE-Ez1qtyIA",
        "outputId": "94cb2224-0edf-457b-90b5-0ac3488d8a97"
      },
      "source": [
        "seconds_in_a_week = 7 * seconds_in_a_day\n",
        "seconds_in_a_week"
      ],
      "execution_count": null,
      "outputs": [
        {
          "output_type": "execute_result",
          "data": {
            "text/plain": [
              "604800"
            ]
          },
          "metadata": {
            "tags": []
          },
          "execution_count": 0
        }
      ]
    },
    {
      "cell_type": "code",
      "metadata": {
        "colab": {
          "base_uri": "https://localhost:8080/"
        },
        "id": "VAGTovIm9xf3",
        "outputId": "37a339f5-d896-43c1-9107-b00b340ba1ed"
      },
      "source": [
        "frase = str(input('Digite uma frase: ')).upper().strip() #retira espaços indesejados\r\n",
        "print('A letra A aparece {} vezes na frase.'. format(frase.count('A')))\r\n",
        "print('A primeira letra A aparece na posição {}'. format(frase.find('A')+1))\r\n",
        "print('A última letra A apareceu na posição {}'. format(frase.rfind('A')+1))\r\n"
      ],
      "execution_count": null,
      "outputs": [
        {
          "output_type": "stream",
          "text": [
            "Digite uma frase: André Paulo Dantas de Araújo\n",
            "A letra A aparece 6 vezes na frase.\n",
            "A primeira letra A aparece na posição 1\n",
            "A última letra A apareceu na posição 25\n"
          ],
          "name": "stdout"
        }
      ]
    },
    {
      "cell_type": "code",
      "metadata": {
        "colab": {
          "base_uri": "https://localhost:8080/"
        },
        "id": "RswZmQlF_dD5",
        "outputId": "ee79115b-77cb-4ab5-e748-c5f2d04f563b"
      },
      "source": [
        "n = str(input('Digite seu nome completo ')).strip() #retira espaços indesejados\r\n",
        "nome = n.split() #divide as plavras achadas no input\r\n",
        "print('Muito prazer em te conhecer!')\r\n",
        "print('Seu primeiro nome é {}'.format(nome[0]))\r\n",
        "print('Seu último nome é {}'.format(nome[len(nome)-1]))\r\n"
      ],
      "execution_count": null,
      "outputs": [
        {
          "output_type": "stream",
          "text": [
            "Digite seu nome completo André Paulo Dantas de Araújo\n",
            "Muito prazer em te conhecer!\n",
            "Seu primeiro nome é André\n",
            "Seu último nome é Araújo\n"
          ],
          "name": "stdout"
        }
      ]
    },
    {
      "cell_type": "code",
      "metadata": {
        "id": "OOg8IjNZkuFg",
        "colab": {
          "base_uri": "https://localhost:8080/"
        },
        "outputId": "3f7e7a88-0642-4187-e6d4-49b356e341f4"
      },
      "source": [
        "from random import randint\r\n",
        "from time import sleep\r\n",
        "pc = randint(0, 5) #Faz o PC gerar números aleatórios\r\n",
        "print('-=-' * 20)\r\n",
        "print('Vou pensar em um número entre 0 e 5. Tente adivinhar...')\r\n",
        "print('-=-' * 20)\r\n",
        "jogador = int(input('Em que número eu pensei? ')) #Jogador tenta adivinhar\r\n",
        "print('PROCESSANDO...')\r\n",
        "sleep(3)\r\n",
        "if jogador == pc:\r\n",
        "  print('PARABÉNS! Você conseguiu me vencer!')\r\n",
        "else:\r\n",
        "  print('GANHEI! Eu pensei no número {} e não no {}!'.format(pc, jogador))\r\n"
      ],
      "execution_count": null,
      "outputs": [
        {
          "output_type": "stream",
          "text": [
            "-=--=--=--=--=--=--=--=--=--=--=--=--=--=--=--=--=--=--=--=-\n",
            "Vou pensar em um número entre 0 e 5. Tente adivinhar...\n",
            "-=--=--=--=--=--=--=--=--=--=--=--=--=--=--=--=--=--=--=--=-\n",
            "Em que número eu pensei? 5\n",
            "PROCESSANDO...\n",
            "GANHEI! Eu pensei no número 3 e não no 5!\n"
          ],
          "name": "stdout"
        }
      ]
    },
    {
      "cell_type": "code",
      "metadata": {
        "colab": {
          "base_uri": "https://localhost:8080/"
        },
        "id": "qh7zrIpE4soN",
        "outputId": "a51bd7bb-5c12-4b32-df3b-bce9e2168e3c"
      },
      "source": [
        "num = int(input('Me diga um número inteiro: '))\r\n",
        "resultado = num % 2\r\n",
        "if resultado == 0:\r\n",
        "  print('O número {} é PAR'.format(num))\r\n",
        "else:\r\n",
        "  print('O número {} é ÍMPAR'.format(num))\r\n"
      ],
      "execution_count": null,
      "outputs": [
        {
          "output_type": "stream",
          "text": [
            "Me diga um número inteiro: 31\n",
            "O número 31 é ÍMPAR\n"
          ],
          "name": "stdout"
        }
      ]
    },
    {
      "cell_type": "code",
      "metadata": {
        "colab": {
          "base_uri": "https://localhost:8080/"
        },
        "id": "rDohZuir8bLw",
        "outputId": "325656d1-879a-4028-c482-cebea6b868b8"
      },
      "source": [
        "dist = float(input('Qual é a distância de sua viagem? '))\r\n",
        "print('Você está prestes a começar uma viagem de {}km.'.format(dist))\r\n",
        "if dist <= 200:\r\n",
        "  preço = dist * 0.50\r\n",
        "else:\r\n",
        "  preço = dist * 0.45\r\n",
        "print('E o preço da sua passagem será de R${:.2f}'.format(preço))"
      ],
      "execution_count": null,
      "outputs": [
        {
          "output_type": "stream",
          "text": [
            "Qual é a distância de sua viagem? 200\n",
            "Você está prestes a começar uma viagem de 200.0km.\n",
            "E o preço da sua passagem será de R$100.00\n"
          ],
          "name": "stdout"
        }
      ]
    },
    {
      "cell_type": "code",
      "metadata": {
        "colab": {
          "base_uri": "https://localhost:8080/"
        },
        "id": "2s8OVf_192VA",
        "outputId": "4be6b739-ec8c-4faa-ee7c-07305423e7eb"
      },
      "source": [
        "from datetime import date\r\n",
        "ano = int(input('Que ano quer analisar? Coloque 0 para analisar o ano atual: '))\r\n",
        "if ano == 0:\r\n",
        "  ano = date.today().year\r\n",
        "if ano % 4 == 0 and ano % 100 != 0 or ano % 400 == 0:\r\n",
        "  print('O ano {} é BISSEXTO'.format(ano))\r\n",
        "else:\r\n",
        "  print('O ano {} NÃO é BISSEXTO'.format(ano))"
      ],
      "execution_count": null,
      "outputs": [
        {
          "output_type": "stream",
          "text": [
            "Que ano quer analisar? Coloque 0 para analisar o ano atual: 20000\n",
            "O ano 20000 é BISSEXTO\n"
          ],
          "name": "stdout"
        }
      ]
    },
    {
      "cell_type": "code",
      "metadata": {
        "colab": {
          "base_uri": "https://localhost:8080/"
        },
        "id": "9maD7Owouozd",
        "outputId": "3bdf3c1f-cd71-464f-8aa4-7993481a823b"
      },
      "source": [
        "a = int(input('Primeiro valor: '))\r\n",
        "b = int(input('Segundo valor: '))\r\n",
        "c = int(input('Terceiro valor: '))\r\n",
        "# Verificando quem é menor\r\n",
        "menor = a \r\n",
        "if b<a and b<c:\r\n",
        "  menor = b\r\n",
        "if c<a and c<b:\r\n",
        "  menor = c \r\n",
        "# Verificando quem é maior\r\n",
        "maior = a \r\n",
        "if b>a and b>c:\r\n",
        "  maior = b\r\n",
        "if c>a and c>b:\r\n",
        "  maior = c \r\n",
        "\r\n",
        "print('O menor valor digitado foi {}'.format(menor))\r\n",
        "print('O maior valor digitado foi {}'.format(maior))\r\n"
      ],
      "execution_count": null,
      "outputs": [
        {
          "output_type": "stream",
          "text": [
            "Primeiro valor: 25656555\n",
            "Segundo valor: 52656\n",
            "Terceiro valor: 45645646545645\n",
            "O menor valor digitado foi 52656\n",
            "O maior valor digitado foi 45645646545645\n"
          ],
          "name": "stdout"
        }
      ]
    },
    {
      "cell_type": "code",
      "metadata": {
        "colab": {
          "base_uri": "https://localhost:8080/"
        },
        "id": "9dmLVKOGy6sY",
        "outputId": "a42bb14b-9efa-4248-b372-39083b8ec863"
      },
      "source": [
        "salário = float(input('Qual é o salário do funcionário? R$'))\r\n",
        "if salário <= 1250:\r\n",
        "  novo = salário + (salário * 15 /100)\r\n",
        "else:\r\n",
        "  novo = salário + (salário * 10 /100)\r\n",
        "print('Quem ganhava R${:.2f} passa a ganhar R$ {:.2F} agora.'.format(salário, novo))"
      ],
      "execution_count": null,
      "outputs": [
        {
          "output_type": "stream",
          "text": [
            "Qual é o salário do funcionário? R$2000\n",
            "Quem ganhava R$2000.00 passa a ganhar R$ 2200.00 agora.\n"
          ],
          "name": "stdout"
        }
      ]
    },
    {
      "cell_type": "code",
      "metadata": {
        "colab": {
          "base_uri": "https://localhost:8080/"
        },
        "id": "aHa0946c-27_",
        "outputId": "0daefc7c-0818-44bf-e877-eaff4653e70c"
      },
      "source": [
        "nome = 'CMASM'\r\n",
        "cores = {'limpa':'\\033[m',\r\n",
        "       'azul':'\\033][34m',\r\n",
        "       'amarelo':'\\033[33m',\r\n",
        "       'pretoebranco':'\\033[7;30m'}\r\n",
        "\r\n",
        "print('Olá! Muito prazer em te conhecer, {}{}{}!!'.format(cores['pretoebranco'], nome, cores ['limpa']))  \r\n",
        "\r\n",
        "print('-='*20)\r\n",
        "print('Analisador de Triângulos')\r\n",
        "print('-='*20)\r\n",
        "\r\n"
      ],
      "execution_count": null,
      "outputs": [
        {
          "output_type": "stream",
          "text": [
            "Olá! Muito prazer em te conhecer, \u001b[7;30mCMASM\u001b[m!!\n",
            "-=-=-=-=-=-=-=-=-=-=-=-=-=-=-=-=-=-=-=-=\n",
            "Analisador de Triângulos\n",
            "-=-=-=-=-=-=-=-=-=-=-=-=-=-=-=-=-=-=-=-=\n"
          ],
          "name": "stdout"
        }
      ]
    },
    {
      "cell_type": "code",
      "metadata": {
        "id": "Xs95suCaGrcP",
        "colab": {
          "base_uri": "https://localhost:8080/"
        },
        "outputId": "8a5661d2-c478-4ce0-a794-5cf4c37d0320"
      },
      "source": [
        "casa = float(input('Valor da casa: R$'))\r\n",
        "salário = float(input('Salário do comprador: R$'))\r\n",
        "anos = int(input('Quantos anos de financiamento? '))\r\n",
        "prestação = casa /(anos * 12)\r\n",
        "mínimo = salário * 30 / 100 #aprestação mensal, não pode execeder 30% do salário\r\n",
        "print('Para pagar uma casa de R${:.2f} em {} anos'.format(casa, anos), end='') #end é para concatenar \r\n",
        "print(' a prestação será de R${:.2f}'.format(prestação))\r\n",
        "if prestação <= mínimo:\r\n",
        "  print('Empréstimo pode ser CONCEDIDO!')\r\n",
        "else:\r\n",
        "  print('Empréstimo NEGADO!')"
      ],
      "execution_count": null,
      "outputs": [
        {
          "output_type": "stream",
          "text": [
            "Valor da casa: R$20000\n",
            "Salário do comprador: R$5000\n",
            "Quantos anos de financiamento? 10\n",
            "Para pagar uma casa de R$20000.00 em 10 anos a prestação será de R$166.67\n",
            "Empréstimo pode ser CONCEDIDO!\n"
          ],
          "name": "stdout"
        }
      ]
    },
    {
      "cell_type": "code",
      "metadata": {
        "id": "gpb7I_oyqKqL",
        "colab": {
          "base_uri": "https://localhost:8080/"
        },
        "outputId": "7382d08e-602b-48b7-8ab8-0b5b07e0a193"
      },
      "source": [
        "from time import sleep\r\n",
        "num = int(input('Digite um número inteiro: '))\r\n",
        "print('''Escolha uma das bases para conversão:\r\n",
        "[ 1 ] converter para BINÁRIO\r\n",
        "[ 2 ] converter para OCTAL\r\n",
        "[ 3 ] converter para HEXADECIMAL''')\r\n",
        "\r\n",
        "opção = int(input('Sua opção: '))\r\n",
        "\r\n",
        "print('PROCESSANDO...')\r\n",
        "sleep(2)\r\n",
        "\r\n",
        "if opção == 1:\r\n",
        "  print('{} convertido para BINÁRIO é igual a {}'.format(num, bin(num)[2:])) #pega so duas strings após o resultado\r\n",
        "elif opção == 2:\r\n",
        "  print('{} convertido para OCTAL é igual a {}'.format(num, oct(num)[2:])) \r\n",
        "elif opção == 3:\r\n",
        "  print('{} convertido para HEXADECIMAL é igual a {}'.format(num, hex(num)[2:])) #pega so duas strings após o resultado\r\n",
        "else:\r\n",
        "  print('Opção inválida. Tente novamente.')\r\n"
      ],
      "execution_count": null,
      "outputs": [
        {
          "output_type": "stream",
          "text": [
            "Digite um número inteiro: 55\n",
            "Escolha uma das bases para conversão:\n",
            "[ 1 ] converter para BINÁRIO\n",
            "[ 2 ] converter para OCTAL\n",
            "[ 3 ] converter para HEXADECIMAL\n",
            "Sua opção: 2\n",
            "PROCESSANDO...\n",
            "55 convertido para OCTAL é igual a 67\n"
          ],
          "name": "stdout"
        }
      ]
    },
    {
      "cell_type": "code",
      "metadata": {
        "id": "n7xOX8dUW8IO",
        "colab": {
          "base_uri": "https://localhost:8080/"
        },
        "outputId": "6f726b80-9526-46c9-92a2-58924ff05e7f"
      },
      "source": [
        "peso = float(input('Qual é seu peso? (Kg) '))\r\n",
        "altura = float(input('Qual é seu altura? (m) '))\r\n",
        "imc = peso / (altura ** 2)\r\n",
        "print('O IMC dessa pessoa é de {:.1f}'.format(imc))\r\n",
        "if imc < 18.5:\r\n",
        "  print('Você está abaixo do peso normal')\r\n",
        "elif 18.5 <= imc < 25:\r\n",
        "  print('Parabéns, você está na faixa de peso normal')\r\n",
        "elif 25 <= imc < 30:\r\n",
        "  print('Você está em SOBREPESO')\r\n",
        "elif 30 <= imc < 40:\r\n",
        "  print('Você está OBESO')\r\n",
        "else:\r\n",
        "  print('Você está com OBESESIDADE MÓRBIDA, CUIDADO!')\r\n",
        "  "
      ],
      "execution_count": null,
      "outputs": [
        {
          "output_type": "stream",
          "text": [
            "Qual é seu peso? (Kg) 80\n",
            "Qual é seu altura? (m) 1.68\n",
            "O IMC dessa pessoa é de 28.3\n",
            "Você está em SOBREPESO\n"
          ],
          "name": "stdout"
        }
      ]
    },
    {
      "cell_type": "code",
      "metadata": {
        "id": "QRQP1890VYg7",
        "colab": {
          "base_uri": "https://localhost:8080/"
        },
        "outputId": "cbb469ea-7db5-4ab4-a845-16a37b505d38"
      },
      "source": [
        "from time import sleep\r\n",
        "print ('{:=^40}'.format('LOJAS ARAÚJO'))\r\n",
        "num = int(input('Preço das compras: R$ '))\r\n",
        "juros2x = num + (num * 5 / 100)\r\n",
        "juros3x = num + (num * 9 / 100)\r\n",
        "print('''FORMAS DE PAGAMENTO\r\n",
        "[ 1 ] à vista dinheiro/cheque\r\n",
        "[ 2 ] à vista cartão\r\n",
        "[ 3 ] 2X no cartão com juros de 5%\r\n",
        "[ 4 ] 3X no cartão com juros de 9% ''')\r\n",
        "\r\n",
        "opção = int(input('Qual sua opção? '))\r\n",
        "\r\n",
        "print('PROCESSANDO...')\r\n",
        "sleep(2)\r\n",
        "\r\n",
        "if opção == 1:\r\n",
        "  print('Sua compra foi de {:.2f}.'.format(num)) \r\n",
        "elif opção == 2:\r\n",
        "  print('Sua compra foi de {:.2f}.'.format(num)) \r\n",
        "elif opção == 3:\r\n",
        "  parcela = num / 2\r\n",
        "  print('Sua compra foi parcelada em 2X de {:.2f} com juros de 5%.'.format(parcela)) \r\n",
        "  print('Sua compra foi de {:.2f}. vai custar R${:.2f} no final'.format(num, juros2x)) \r\n",
        "elif opção == 4:\r\n",
        "  parcela = num / 3\r\n",
        "  print('Sua compra foi parcelada em 3X de {:.2f} com juros de 9%.'.format(parcela)) \r\n",
        "  print('Sua compra foi de {:.2f}. vai custar R${:.2f} no final'.format(num, juros3x)) \r\n",
        "else:\r\n",
        "  print('Opção inválida. Tente novamente.')"
      ],
      "execution_count": null,
      "outputs": [
        {
          "output_type": "stream",
          "text": [
            "==============LOJAS ARAÚJO==============\n",
            "Preço das compras: R$ 60\n",
            "FORMAS DE PAGAMENTO\n",
            "[ 1 ] à vista dinheiro/cheque\n",
            "[ 2 ] à vista cartão\n",
            "[ 3 ] 2X no cartão com juros de 5%\n",
            "[ 4 ] 3X no cartão com juros de 9% \n",
            "Qual sua opção? 3\n",
            "PROCESSANDO...\n",
            "Sua compra foi parcelada em 2X de 30.00 com juros de 5%.\n",
            "Sua compra foi de 60.00. vai custar R$63.00 no final\n"
          ],
          "name": "stdout"
        }
      ]
    },
    {
      "cell_type": "code",
      "metadata": {
        "id": "hVEKa-NiSYAL",
        "colab": {
          "base_uri": "https://localhost:8080/"
        },
        "outputId": "a1443fbb-b1ba-4469-c7a8-f02b89dde389"
      },
      "source": [
        "print('-=-' * 10)\r\n",
        "print('         TABUADA')\r\n",
        "print('-=-' * 10)\r\n",
        "num = int(input('Digite um número para ver a sua tabuada: '))\r\n",
        "for c in range(1, 11):\r\n",
        "  print('{} x {:2} = {}'.format(num, c, num*c))"
      ],
      "execution_count": null,
      "outputs": [
        {
          "output_type": "stream",
          "text": [
            "-=--=--=--=--=--=--=--=--=--=-\n",
            "         TABUADA\n",
            "-=--=--=--=--=--=--=--=--=--=-\n",
            "Digite um número para ver a sua tabuada: 7\n",
            "7 x  1 = 7\n",
            "7 x  2 = 14\n",
            "7 x  3 = 21\n",
            "7 x  4 = 28\n",
            "7 x  5 = 35\n",
            "7 x  6 = 42\n",
            "7 x  7 = 49\n",
            "7 x  8 = 56\n",
            "7 x  9 = 63\n",
            "7 x 10 = 70\n"
          ],
          "name": "stdout"
        }
      ]
    },
    {
      "cell_type": "code",
      "metadata": {
        "colab": {
          "base_uri": "https://localhost:8080/"
        },
        "id": "2kbwgWojBBN9",
        "outputId": "bb08cb0d-4783-4829-f777-40a2d5067240"
      },
      "source": [
        "print('-=-' * 10)\r\n",
        "print('     10 TERMOS DE UMA PA')\r\n",
        "print('-=-' * 10)\r\n",
        "primeiro = int(input('Primeiro termo: '))\r\n",
        "razão = int(input('Razão: '))\r\n",
        "décimo = primeiro + (10 - 1) * razão\r\n",
        "for c in range (primeiro, décimo + razão, razão):\r\n",
        "  print('{}'.format(c), end='-> ')\r\n",
        "print('ACABOU')\r\n"
      ],
      "execution_count": null,
      "outputs": [
        {
          "output_type": "stream",
          "text": [
            "-=--=--=--=--=--=--=--=--=--=-\n",
            "     10 TERMOS DE UMA PA\n",
            "-=--=--=--=--=--=--=--=--=--=-\n",
            "Primeiro termo: 25\n",
            "Razão: 5\n",
            "25-> 30-> 35-> 40-> 45-> 50-> 55-> 60-> 65-> 70-> ACABOU\n"
          ],
          "name": "stdout"
        }
      ]
    },
    {
      "cell_type": "code",
      "metadata": {
        "colab": {
          "base_uri": "https://localhost:8080/"
        },
        "id": "NXTdO1LpDfkI",
        "outputId": "1ebae167-a28c-4f16-cc34-9ceb4a4b7493"
      },
      "source": [
        "import urllib.request\r\n",
        "import pandas as pd\r\n",
        "import json\r\n",
        "import ast\r\n",
        "import datetime\r\n",
        "from datetime import timedelta\r\n",
        "\r\n",
        "def getBTCData(start_date: str = None, end_date: str = None):\r\n",
        "    '''\r\n",
        "    Função que obtem os dados históricos do Bitcoin. \r\n",
        "    Args -\r\n",
        "    start_date : Str - String ('Ano-Mês-dia') contendo a data de início da série histórica. \r\n",
        "                 Default - 5 anos a menos que end_date;\r\n",
        "    end_date : Str - String ('Ano-Mês-dia') contendo a data de fim da série histórica. \r\n",
        "               Default Data atual\r\n",
        "    \r\n",
        "    Returns:\r\n",
        "            Pandas DataFrame. Columns = [Open, High, Low, Close, Volumne], Index = Datetime Object\r\n",
        "    '''\r\n",
        "    now = datetime.datetime.now().date()\r\n",
        "    end = end_date if end_date else now.strftime('%Y-%m-%d')\r\n",
        "    start = start_date if start_date else (now - timedelta(days=1826)).strftime('%Y-%m-%d')\r\n",
        "    url = f\"https://data.messari.io/api/v1/assets/bitcoin/metrics/price/time-series?start={start}&end={end}&interval=1d\"\r\n",
        "    data_dict = urllib.request.urlopen(url).read()\r\n",
        "    data_dict = json.loads(data_dict.decode(\"utf-8\"))\r\n",
        "    df = pd.DataFrame(data_dict['data']['values'], columns = data_dict['data']['parameters']['columns'])\r\n",
        "    df['timestamp'] = pd.to_datetime(df['timestamp'], unit = \"ms\")\r\n",
        "    df.set_index('timestamp', inplace=True)\r\n",
        "    return df\r\n",
        "\r\n",
        "if __name__ == \"__main__\":\r\n",
        "    dados_bitcoin = getBTCData()\r\n",
        "    print(dados_bitcoin.sample(5))"
      ],
      "execution_count": null,
      "outputs": [
        {
          "output_type": "stream",
          "text": [
            "                    open          high  ...         close        volume\n",
            "timestamp                               ...                            \n",
            "2019-05-19   7271.798455   8305.049249  ...   8190.779727  3.125810e+09\n",
            "2017-01-16    820.001167    835.191481  ...    831.449701  5.550954e+07\n",
            "2016-08-22    579.123758    587.925361  ...    585.281605  1.538520e+07\n",
            "2017-07-14   2338.381421   2349.058604  ...   2214.403500  2.038601e+08\n",
            "2020-12-01  19665.003729  19930.772698  ...  18792.608524  6.824014e+09\n",
            "\n",
            "[5 rows x 5 columns]\n"
          ],
          "name": "stdout"
        }
      ]
    },
    {
      "cell_type": "code",
      "metadata": {
        "colab": {
          "base_uri": "https://localhost:8080/"
        },
        "id": "sKmuSElND9kd",
        "outputId": "39682afe-f3b4-4cbe-8a1c-16460d096cd9"
      },
      "source": [
        "num = int (input('Digite umm número:: '))\r\n",
        "tot = 0\r\n",
        "for c in range (1, num + 1):\r\n",
        "  if num % c == 0:\r\n",
        "    print('\\033[33m', end='')\r\n",
        "    tot += 1\r\n",
        "  else:\r\n",
        "    print('\\033[31m', end='')\r\n",
        "  print('{} '.format(c), end='')\r\n",
        "print('\\n\\033[32m O número {} foi divisível {} vezes'.format(num, tot))\r\n",
        "if tot == 2:\r\n",
        "  print('\\033[35m E por isso ele É PRIMO!')\r\n",
        "else:\r\n",
        "  print('\\033[36m E por isso ele NÃO É PRIMO!')"
      ],
      "execution_count": null,
      "outputs": [
        {
          "output_type": "stream",
          "text": [
            "Digite umm número:: 4\n",
            "\u001b[33m1 \u001b[33m2 \u001b[31m3 \u001b[33m4 \n",
            "\u001b[32m O número 4 foi divisível 3 vezes\n",
            "\u001b[36m E por isso ele NÃO É PRIMO!\n"
          ],
          "name": "stdout"
        }
      ]
    },
    {
      "cell_type": "code",
      "metadata": {
        "colab": {
          "base_uri": "https://localhost:8080/"
        },
        "id": "5vsaO9jrHlnF",
        "outputId": "a3e48906-958b-4409-c85b-8867e5fe88f2"
      },
      "source": [
        "print('-=-' * 6)\r\n",
        "print('    PALÍNDROMO')\r\n",
        "print('-=-' * 6)\r\n",
        "frase = str(input('Digite uma frase: ')).strip().upper()\r\n",
        "palavras = frase.split()\r\n",
        "junto = ''.join(palavras)\r\n",
        "print('Você digitou a frase {}'.format(junto))\r\n",
        "inverso = ''\r\n",
        "for letra in range(len(junto) -1, -1, -1):\r\n",
        "  inverso += junto[letra]\r\n",
        "print('O inverso de {} é {}'.format(junto, inverso))\r\n",
        "if inverso == junto:\r\n",
        "  print('\\033[36m Temos um palíndromo!')\r\n",
        "else:\r\n",
        "  print('\\033[36m A frase digitada não é um palíndromo')"
      ],
      "execution_count": null,
      "outputs": [
        {
          "output_type": "stream",
          "text": [
            "-=--=--=--=--=--=-\n",
            "    PALÍNDROMO\n",
            "-=--=--=--=--=--=-\n",
            "Digite uma frase: ana\n",
            "Você digitou a frase ANA\n",
            "O inverso de ANA é ANA\n",
            "\u001b[36m Temos um palíndromo!\n"
          ],
          "name": "stdout"
        }
      ]
    },
    {
      "cell_type": "code",
      "metadata": {
        "id": "m0-MmRhpLARj",
        "colab": {
          "base_uri": "https://localhost:8080/"
        },
        "outputId": "7e30ce1a-2125-4833-e470-02543a2a8a78"
      },
      "source": [
        "print('-=-' * 6)\r\n",
        "print('    MAIORIDADE')\r\n",
        "print('-=-' * 6)\r\n",
        "from datetime import date\r\n",
        "atual = date.today().year\r\n",
        "totmaior = 0\r\n",
        "totmenor = 0\r\n",
        "for pessoa in range(1, 4):\r\n",
        "  nasc = int(input('Em que ano a {} pessoa nasceu? '.format(pessoa)))\r\n",
        "  idade = atual - nasc\r\n",
        "  if idade >= 21:\r\n",
        "    totmaior += 1\r\n",
        "    print('\\033[36m Essa pessoa é maior de idade')\r\n",
        "  else:\r\n",
        "    totmenor += 1\r\n",
        "    print('\\033[30m Essa pessoa é menor de idade')\r\n",
        "print ('Ao todo tivemos {} pessoas maiores de idade'.format(totmaior))\r\n",
        "print ('Ao todo tivemos {} pessoas maiores de idade'.format(totmenor))"
      ],
      "execution_count": null,
      "outputs": [
        {
          "output_type": "stream",
          "text": [
            "-=--=--=--=--=--=-\n",
            "    MAIORIDADE\n",
            "-=--=--=--=--=--=-\n",
            "Em que ano a 1 pessoa nasceu? 2000\n",
            "\u001b[36m Essa pessoa é maior de idade\n",
            "Em que ano a 2 pessoa nasceu? 1986\n",
            "\u001b[36m Essa pessoa é maior de idade\n",
            "Em que ano a 3 pessoa nasceu? 2015\n",
            "\u001b[30m Essa pessoa é menor de idade\n",
            "Ao todo tivemos 2 pessoas maiores de idade\n",
            "Ao todo tivemos 1 pessoas maiores de idade\n"
          ],
          "name": "stdout"
        }
      ]
    },
    {
      "cell_type": "code",
      "metadata": {
        "colab": {
          "base_uri": "https://localhost:8080/"
        },
        "id": "mww-D7tpuZl8",
        "outputId": "d159df70-77bf-4985-ff8f-fa1e63971964"
      },
      "source": [
        "print('-=-' * 6)\r\n",
        "print('    MAIOR PESSO')\r\n",
        "print('-=-' * 6)\r\n",
        "\r\n",
        "maior = 0\r\n",
        "menor = 0\r\n",
        "for p in range(1,6):\r\n",
        "  peso = float(input('Peso da {} pessoa: '.format(p)))\r\n",
        "  if p == 1:\r\n",
        "    maior = peso\r\n",
        "    menor = peso\r\n",
        "     \r\n",
        "  else:\r\n",
        "    if peso > maior:\r\n",
        "      maior = peso\r\n",
        "    if peso < menor:\r\n",
        "      menor = peso\r\n",
        "\r\n",
        "print('O menor valor digitado foi {}kg'.format(menor))\r\n",
        "print('O maior valor digitado foi {}kg'.format(maior))"
      ],
      "execution_count": null,
      "outputs": [
        {
          "output_type": "stream",
          "text": [
            "-=--=--=--=--=--=-\n",
            "    MAIOR PESSO\n",
            "-=--=--=--=--=--=-\n",
            "Peso da 1 pessoa: 100\n",
            "Peso da 2 pessoa: 115\n",
            "Peso da 3 pessoa: 90\n",
            "Peso da 4 pessoa: 80\n",
            "Peso da 5 pessoa: 65\n",
            "O menor valor digitado foi 65.0kg\n",
            "O maior valor digitado foi 115.0kg\n"
          ],
          "name": "stdout"
        }
      ]
    },
    {
      "cell_type": "code",
      "metadata": {
        "colab": {
          "base_uri": "https://localhost:8080/"
        },
        "id": "GQRKTMGtjDpl",
        "outputId": "56c3e896-5579-4905-92f6-f100c464487c"
      },
      "source": [
        "print('-=-' * 10)\r\n",
        "print('  COLETA DE DADOS PESSOAIS')\r\n",
        "print('-=-' * 10)\r\n",
        "\r\n",
        "somaidade = 0\r\n",
        "médiaidade = 0\r\n",
        "maioridadehomem = 0\r\n",
        "nomevelho = 0\r\n",
        "totmulher20 = 0\r\n",
        "for p in range(1,5):\r\n",
        "  print('------ {}ª PESSOA ------'.format(p))\r\n",
        "  nome = str(input('Nome: ')).strip()\r\n",
        "  idade = int(input('Idade: '))\r\n",
        "  sexo = str(input('Sexo [M/F]: ')).strip()\r\n",
        "  somaidade += idade\r\n",
        "  if p == 1 and sexo in 'Mm':\r\n",
        "    maioridadehomem = idade\r\n",
        "    nomevelho = nome\r\n",
        "  if sexo in 'Mm' and idade > maioridadehomem:\r\n",
        "    maioridadehomem = idade\r\n",
        "    nomevelho = nome\r\n",
        "  if sexo in 'Ff' and idade < 20:\r\n",
        "    totmulher20 += 1\r\n",
        "médiadade = somaidade / 4\r\n",
        "\r\n",
        "print('A média de idade do grupo é de {} anos'.format(médiadade))\r\n",
        "print('O homem mais velho tem {} anos e se chama {}'.format(maioridadehomem, nomevelho))\r\n",
        "print('Ao todo são {} mulheres com menos de 20 anos'.format(totmulher20))\r\n"
      ],
      "execution_count": null,
      "outputs": [
        {
          "output_type": "stream",
          "text": [
            "-=--=--=--=--=--=--=--=--=--=-\n",
            "  COLETA DE DADOS PESSOAIS\n",
            "-=--=--=--=--=--=--=--=--=--=-\n",
            "------ 1ª PESSOA ------\n",
            "Nome: Andre\n",
            "Idade: 34\n",
            "Sexo [M/F]: M\n",
            "------ 2ª PESSOA ------\n",
            "Nome: Izolda\n",
            "Idade: 59\n",
            "Sexo [M/F]: F\n",
            "------ 3ª PESSOA ------\n",
            "Nome: Juliana\n",
            "Idade: 32\n",
            "Sexo [M/F]: F\n",
            "------ 4ª PESSOA ------\n",
            "Nome: Larissa\n",
            "Idade: 27 \n",
            "Sexo [M/F]: F\n",
            "A média de idade do grupo é de 38.0 anos\n",
            "O homem mais velho tem 34 anos e se chama Andre\n",
            "Ao todo são 0 mulheres com menos de 20 anos\n"
          ],
          "name": "stdout"
        }
      ]
    },
    {
      "cell_type": "code",
      "metadata": {
        "colab": {
          "base_uri": "https://localhost:8080/"
        },
        "id": "3a1N8K1DNUim",
        "outputId": "699291bb-a3b2-40ab-faed-d1d526f55fc0"
      },
      "source": [
        "print('-=-' * 10)\r\n",
        "print('  VALIDAÇÃO DE DADOS')\r\n",
        "print('-=-' * 10)\r\n",
        "\r\n",
        "for p in range(1, 10):\r\n",
        "  sexo = str(input('Informe seu Sexo [M/F]: ')).strip()\r\n",
        "  if sexo in 'Mm' or sexo in 'Ff':\r\n",
        "    print('Sexo {} registrado com sucesso'.format(sexo))\r\n",
        "  else:\r\n",
        "    print('Dados inválidos. Por favor, informe seu sexo {}'.format(sexo))\r\n",
        "    \r\n"
      ],
      "execution_count": null,
      "outputs": [
        {
          "output_type": "stream",
          "text": [
            "-=--=--=--=--=--=--=--=--=--=-\n",
            "  VALIDAÇÃO DE DADOS\n",
            "-=--=--=--=--=--=--=--=--=--=-\n",
            "Informe seu Sexo [M/F]: a\n",
            "Dados inválidos. Por favor, informe seu sexo a\n",
            "Informe seu Sexo [M/F]: f\n",
            "Sexo f registrado com sucesso\n",
            "Informe seu Sexo [M/F]: F\n",
            "Sexo F registrado com sucesso\n",
            "Informe seu Sexo [M/F]: m\n",
            "Sexo m registrado com sucesso\n",
            "Informe seu Sexo [M/F]: M\n",
            "Sexo M registrado com sucesso\n",
            "Informe seu Sexo [M/F]: t\n",
            "Dados inválidos. Por favor, informe seu sexo t\n",
            "Informe seu Sexo [M/F]: M\n",
            "Sexo M registrado com sucesso\n",
            "Informe seu Sexo [M/F]: a\n",
            "Dados inválidos. Por favor, informe seu sexo a\n",
            "Informe seu Sexo [M/F]: d\n",
            "Dados inválidos. Por favor, informe seu sexo d\n"
          ],
          "name": "stdout"
        }
      ]
    },
    {
      "cell_type": "code",
      "metadata": {
        "colab": {
          "base_uri": "https://localhost:8080/"
        },
        "id": "xho9jlbzWa_i",
        "outputId": "408b0ff8-f511-443a-da4e-3d018414d284"
      },
      "source": [
        "sexo = str(input('Informe seu Sexo [M/F]: ')).strip()\r\n",
        "while sexo not in 'MmFf':\r\n",
        "  sexo = str(input('Dados inválidos. Por favor, informe seu sexo :')).strip()\r\n",
        "print('Sexo {} registrado com sucesso'.format(sexo))"
      ],
      "execution_count": null,
      "outputs": [
        {
          "output_type": "stream",
          "text": [
            "Informe seu Sexo [M/F]: a\n",
            "Dados inválidos. Por favor, informe seu sexo :d\n",
            "Dados inválidos. Por favor, informe seu sexo :e\n",
            "Dados inválidos. Por favor, informe seu sexo :c\n",
            "Dados inválidos. Por favor, informe seu sexo :m\n",
            "Sexo m registrado com sucesso\n"
          ],
          "name": "stdout"
        }
      ]
    },
    {
      "cell_type": "code",
      "metadata": {
        "colab": {
          "base_uri": "https://localhost:8080/"
        },
        "id": "jFA2EqB72fH4",
        "outputId": "7550b934-26c2-4545-c1cd-e3596c4a9391"
      },
      "source": [
        "print('-=-' * 10)\r\n",
        "print('  JOGO DE ADIVINHAR')\r\n",
        "print('-=-' * 10)\r\n",
        "\r\n",
        "from random import randint\r\n",
        "from time import sleep\r\n",
        "pc = randint(0, 10) #Faz o PC gerar números aleatórios\r\n",
        "print('Sou seu computador...')\r\n",
        "print('-=-' * 20)\r\n",
        "print('Acabei de pensar em um número entre 0 e 10. Tente adivinhar...')\r\n",
        "print('-=-' * 20)\r\n",
        "print('Será que você consegue adivinhar qual foi?')\r\n",
        "acertou = False\r\n",
        "palpites = 0\r\n",
        "while not acertou:\r\n",
        "  jogador = int(input('Qual seu palpite? ')) #Jogador tenta adivinhar\r\n",
        "  palpites += 1\r\n",
        "  print('PROCESSANDO...')\r\n",
        "  sleep(3)\r\n",
        "  if jogador == pc:\r\n",
        "    acertou = True\r\n",
        "    print('PARABÉNS! Você conseguiu me vencer! eu pensei em {} e você também!'.format(pc))\r\n",
        "  elif jogador >= pc: \r\n",
        "    print('Menos... Tente mais uma vez.')\r\n",
        "  elif jogador <= pc:\r\n",
        "    print('Mais... Tente mais uma vez.')\r\n",
        "print('Parabéns, acertou com {} tentativas'.format(palpites))\r\n"
      ],
      "execution_count": null,
      "outputs": [
        {
          "output_type": "stream",
          "text": [
            "-=--=--=--=--=--=--=--=--=--=-\n",
            "  JOGO DE ADIVINHAR\n",
            "-=--=--=--=--=--=--=--=--=--=-\n",
            "Sou seu computador...\n",
            "-=--=--=--=--=--=--=--=--=--=--=--=--=--=--=--=--=--=--=--=-\n",
            "Acabei de pensar em um número entre 0 e 10. Tente adivinhar...\n",
            "-=--=--=--=--=--=--=--=--=--=--=--=--=--=--=--=--=--=--=--=-\n",
            "Será que você consegue adivinhar qual foi?\n",
            "Qual seu palpite? 5\n",
            "PROCESSANDO...\n",
            "Menos... Tente mais uma vez.\n",
            "Qual seu palpite? 2\n",
            "PROCESSANDO...\n",
            "PARABÉNS! Você conseguiu me vencer! eu pensei em 2 e você também!\n",
            "Parabéns, acertou com 2 tentativas\n"
          ],
          "name": "stdout"
        }
      ]
    },
    {
      "cell_type": "code",
      "metadata": {
        "colab": {
          "base_uri": "https://localhost:8080/"
        },
        "id": "dhsGAltoERXZ",
        "outputId": "d5c44bf7-56db-456b-b2eb-7a1c71ffd6f7"
      },
      "source": [
        "print('-=-' * 10)\r\n",
        "print('  Menu de Opções')\r\n",
        "print('-=-' * 10)\r\n",
        "from time import sleep\r\n",
        "print ('{:=^40}'.format('ARAÚJO'))\r\n",
        "primeiro = int(input('Primeiro valor:  '))\r\n",
        "segundo = int(input('Segundo valor:  '))\r\n",
        "opção = 0\r\n",
        "while opção != 5:\r\n",
        "  print('''ITENS\r\n",
        "      [ 1 ] somar\r\n",
        "      [ 2 ] multiplicar\r\n",
        "      [ 3 ] maior\r\n",
        "      [ 4 ] novos números\r\n",
        "      [ 5 ] sair do programa ''')\r\n",
        "  opção = int(input('Qual sua opção? '))\r\n",
        "  print('PROCESSANDO...')\r\n",
        "  sleep(2)\r\n",
        "\r\n",
        "        #  print('Opção inválida. Tente novamente.')\r\n",
        "  if opção == 1:\r\n",
        "                  somar = primeiro + segundo\r\n",
        "                  print('A soma foi {:.2f}.'.format(somar)) \r\n",
        "  elif opção == 2:\r\n",
        "                  mult = primeiro * segundo\r\n",
        "                  \r\n",
        "                  print('A mult foi {:.2f}.'.format(mult)) \r\n",
        "  elif opção == 3:\r\n",
        "                  # Verificando quem é maior\r\n",
        "                  if segundo >= primeiro:\r\n",
        "                      segundo = segundo\r\n",
        "                      print('O segundo número é {:.2f} e é maior que o primeiro'.format(segundo))\r\n",
        "                  # Verificando quem é menor\r\n",
        "                  elif primeiro >= segundo:\r\n",
        "                      primeiro = primeiro\r\n",
        "                      print('O primeiro número é {:.2f} e é maior que o segundo'.format(primeiro))\r\n",
        "  elif opção == 4:\r\n",
        "              primeiro = int(input('Primeiro valor:  '))\r\n",
        "              segundo = int(input('Segundo valor:  '))\r\n",
        "  elif opção == 5:\r\n",
        "              print('Finalizando...')\r\n",
        "  else:\r\n",
        "        print('Opção inválida. Tente novamente.')\r\n",
        "print('Fim do programa! Volte sempre.')"
      ],
      "execution_count": null,
      "outputs": [
        {
          "output_type": "stream",
          "text": [
            "-=--=--=--=--=--=--=--=--=--=-\n",
            "  Menu de Opções\n",
            "-=--=--=--=--=--=--=--=--=--=-\n",
            "=================ARAÚJO=================\n",
            "Primeiro valor:  55\n",
            "Segundo valor:  44\n",
            "ITENS\n",
            "      [ 1 ] somar\n",
            "      [ 2 ] multiplicar\n",
            "      [ 3 ] maior\n",
            "      [ 4 ] novos números\n",
            "      [ 5 ] sair do programa \n",
            "Qual sua opção? 3\n",
            "PROCESSANDO...\n",
            "O primeiro número é 55.00 e é maior que o segundo\n",
            "ITENS\n",
            "      [ 1 ] somar\n",
            "      [ 2 ] multiplicar\n",
            "      [ 3 ] maior\n",
            "      [ 4 ] novos números\n",
            "      [ 5 ] sair do programa \n",
            "Qual sua opção? 1\n",
            "PROCESSANDO...\n",
            "A soma foi 99.00.\n",
            "ITENS\n",
            "      [ 1 ] somar\n",
            "      [ 2 ] multiplicar\n",
            "      [ 3 ] maior\n",
            "      [ 4 ] novos números\n",
            "      [ 5 ] sair do programa \n",
            "Qual sua opção? 2\n",
            "PROCESSANDO...\n",
            "A mult foi 2420.00.\n",
            "ITENS\n",
            "      [ 1 ] somar\n",
            "      [ 2 ] multiplicar\n",
            "      [ 3 ] maior\n",
            "      [ 4 ] novos números\n",
            "      [ 5 ] sair do programa \n",
            "Qual sua opção? 5\n",
            "PROCESSANDO...\n",
            "Finalizando...\n",
            "Fim do programa! Volte sempre.\n"
          ],
          "name": "stdout"
        }
      ]
    },
    {
      "cell_type": "code",
      "metadata": {
        "id": "yPNOnzAFQppW",
        "colab": {
          "base_uri": "https://localhost:8080/"
        },
        "outputId": "1f09585e-8e47-4b62-eab9-af613ae3fcdf"
      },
      "source": [
        "print('-=-' * 4)\r\n",
        "print('  FATORIAL')\r\n",
        "print('-=-' * 4)\r\n",
        "n = int(input('Digite um número para calcular o seu fatorial: '))\r\n",
        "c = n \r\n",
        "f = 1\r\n",
        "print('\\033[32m Calculando o fatorial de {}! '.format(n), end='')\r\n",
        "while c > 0:\r\n",
        "  print('{}'.format(c), end='')\r\n",
        "  print(' x ' if c > 1 else ' = ', end='') #end é para concatenar \r\n",
        "  f *= c # f = f * c\r\n",
        "  c -= 1 #tirar 1 do c\r\n",
        "print('{}'.format(f))"
      ],
      "execution_count": null,
      "outputs": [
        {
          "output_type": "stream",
          "text": [
            "-=--=--=--=-\n",
            "  FATORIAL\n",
            "-=--=--=--=-\n",
            "Digite um número para calcular o seu fatorial: 5\n",
            "\u001b[32m Calculando o fatorial de 5! 5 x 4 x 3 x 2 x 1 = 120\n"
          ],
          "name": "stdout"
        }
      ]
    },
    {
      "cell_type": "code",
      "metadata": {
        "colab": {
          "base_uri": "https://localhost:8080/"
        },
        "id": "xq4rsHtTlcAS",
        "outputId": "dd430b1e-57f3-4c94-95b0-6b6bc8ee3003"
      },
      "source": [
        "from math import factorial\r\n",
        "n = int(input('Digite um número para calcular seu fatorial: '))\r\n",
        "f = factorial(n)\r\n",
        "print('o fatorial de {} é {:2}.'.format(n, f))"
      ],
      "execution_count": null,
      "outputs": [
        {
          "output_type": "stream",
          "text": [
            "Digite um número para calcular seu fatorial: 5\n",
            "o fatorial de 5 é 120.\n"
          ],
          "name": "stdout"
        }
      ]
    },
    {
      "cell_type": "code",
      "metadata": {
        "colab": {
          "base_uri": "https://localhost:8080/"
        },
        "id": "9DBS31bnoDip",
        "outputId": "ffa44aa6-a252-444e-ba43-6e8ed47162eb"
      },
      "source": [
        "print('-=-' * 10)\r\n",
        "print('     GERADOR DE UMA PA')\r\n",
        "print('-=-' * 10)\r\n",
        "primeiro = int(input('Primeiro termo: '))\r\n",
        "razão = int(input('Razão: '))\r\n",
        "termo = primeiro\r\n",
        "cont = 1\r\n",
        "while cont <= 10:\r\n",
        "  print('{} -> '.format(termo), end='')\r\n",
        "  termo += razão\r\n",
        "  cont += 1\r\n",
        "print('ACABOU')"
      ],
      "execution_count": null,
      "outputs": [
        {
          "output_type": "stream",
          "text": [
            "-=--=--=--=--=--=--=--=--=--=-\n",
            "     GERADOR DE UMA PA\n",
            "-=--=--=--=--=--=--=--=--=--=-\n",
            "Primeiro termo: 2\n",
            "Razão: 5\n",
            "2 -> 7 -> 12 -> 17 -> 22 -> 27 -> 32 -> 37 -> 42 -> 47 -> ACABOU\n"
          ],
          "name": "stdout"
        }
      ]
    },
    {
      "cell_type": "code",
      "metadata": {
        "id": "ohnD4LQjqdGD",
        "colab": {
          "base_uri": "https://localhost:8080/"
        },
        "outputId": "a23a6a0b-0c77-4988-9b7b-a87dd49eb0f6"
      },
      "source": [
        "print('-=-' * 10)\r\n",
        "print('     GERADOR DE UMA PA')\r\n",
        "print('-=-' * 10)\r\n",
        "primeiro = int(input('Primeiro termo: '))\r\n",
        "razão = int(input('Razão: '))\r\n",
        "termo = primeiro\r\n",
        "cont = 1\r\n",
        "total = 0\r\n",
        "mais = 10\r\n",
        "while mais != 0:\r\n",
        "  total = total + mais\r\n",
        "  while cont <= total:\r\n",
        "    print('{} -> '.format(termo), end='')\r\n",
        "    termo += razão\r\n",
        "    cont += 1\r\n",
        "  print ('PAUSA')\r\n",
        "  mais =  int(input('Quantos termos você quer mostrar a mais? '))\r\n",
        "print(f'Progressão finalizada com {total} termos mostrados') "
      ],
      "execution_count": null,
      "outputs": [
        {
          "output_type": "stream",
          "text": [
            "-=--=--=--=--=--=--=--=--=--=-\n",
            "     GERADOR DE UMA PA\n",
            "-=--=--=--=--=--=--=--=--=--=-\n",
            "Primeiro termo: 0\n",
            "Razão: 5\n",
            "0 -> 5 -> 10 -> 15 -> 20 -> 25 -> 30 -> 35 -> 40 -> 45 -> PAUSA\n",
            "Quantos termos você quer mostrar a mais? 4\n",
            "50 -> 55 -> 60 -> 65 -> PAUSA\n",
            "Quantos termos você quer mostrar a mais? 5\n",
            "70 -> 75 -> 80 -> 85 -> 90 -> PAUSA\n",
            "Quantos termos você quer mostrar a mais? 7\n",
            "95 -> 100 -> 105 -> 110 -> 115 -> 120 -> 125 -> PAUSA\n",
            "Quantos termos você quer mostrar a mais? 0\n",
            "Progressão finalizada com 26 termos mostrados\n"
          ],
          "name": "stdout"
        }
      ]
    },
    {
      "cell_type": "code",
      "metadata": {
        "id": "1vIwulZ9vGzb",
        "colab": {
          "base_uri": "https://localhost:8080/"
        },
        "outputId": "95c1e968-4b19-46f4-caa0-1a171bfa2865"
      },
      "source": [
        "print('-=-' * 10)\r\n",
        "print('     Sequência de Fibonacci')\r\n",
        "print('-=-' * 10)\r\n",
        "n = int(input('Que termo deseja encontrar: '))\r\n",
        "t1 = 1\r\n",
        "t2 = 1\r\n",
        "print(f'{t1} -> {t2}', end='')\r\n",
        "cont = 3\r\n",
        "while cont <= n:\r\n",
        "      t3 = t1 + t2\r\n",
        "      print(f' -> {t3}', end='')\r\n",
        "      t1 = t2\r\n",
        "      t2 = t3\r\n",
        "      cont += 1\r\n",
        "print(' -> FIM')\r\n",
        "  \r\n"
      ],
      "execution_count": null,
      "outputs": [
        {
          "output_type": "stream",
          "text": [
            "-=--=--=--=--=--=--=--=--=--=-\n",
            "     Sequência de Fibonacci\n",
            "-=--=--=--=--=--=--=--=--=--=-\n",
            "Que termo deseja encontrar: 10\n",
            "1 -> 1 -> 2 -> 3 -> 5 -> 8 -> 13 -> 21 -> 34 -> 55 -> FIM\n",
            "ACABOU\n"
          ],
          "name": "stdout"
        }
      ]
    },
    {
      "cell_type": "code",
      "metadata": {
        "id": "OLsJKsUA0Rz7",
        "colab": {
          "base_uri": "https://localhost:8080/"
        },
        "outputId": "2d01e6ab-e919-4885-8d57-1e6b4f8756de"
      },
      "source": [
        "print('-=-' * 10)\r\n",
        "print('     Condição de parada')\r\n",
        "print('-=-' * 10)\r\n",
        "n = soma = cont = 0\r\n",
        "while n != 999:\r\n",
        "    n = int(input('Digite um número [coloque 999 para parar]: '))\r\n",
        "    soma += n\r\n",
        "    cont += 1  #quantidade de números que você digitou\r\n",
        "print(f'Você digitou {cont - 1} números e a soma entre eles foi {soma - 999}')\r\n",
        " "
      ],
      "execution_count": null,
      "outputs": [
        {
          "output_type": "stream",
          "text": [
            "-=--=--=--=--=--=--=--=--=--=-\n",
            "     Condição de parada\n",
            "-=--=--=--=--=--=--=--=--=--=-\n",
            "Digite um número [coloque 999 para parar]: 8\n",
            "Digite um número [coloque 999 para parar]: 7\n",
            "Digite um número [coloque 999 para parar]: 999\n",
            "Você digitou 2 números e a soma entre eles foi 15\n"
          ],
          "name": "stdout"
        }
      ]
    },
    {
      "cell_type": "code",
      "metadata": {
        "id": "7xqGuk3Weqb2",
        "colab": {
          "base_uri": "https://localhost:8080/"
        },
        "outputId": "5edb87eb-0bc9-4ce5-a9b2-e51e65857d41"
      },
      "source": [
        "fim = int(input('Digite o último número a imprimir: '))\r\n",
        "x = 0\r\n",
        "while x <= fim:\r\n",
        "  # if x % 2 == 0:\r\n",
        "  print(x)\r\n",
        "  x += 2"
      ],
      "execution_count": null,
      "outputs": [
        {
          "output_type": "stream",
          "text": [
            "Digite o último número a imprimir: 5\n",
            "0\n",
            "2\n",
            "4\n"
          ],
          "name": "stdout"
        }
      ]
    },
    {
      "cell_type": "code",
      "metadata": {
        "id": "Hxbh8T-5KpfI",
        "colab": {
          "base_uri": "https://localhost:8080/"
        },
        "outputId": "5d4a5d59-7748-4ed9-8df4-56fecb65d434"
      },
      "source": [
        "x = 1\r\n",
        "soma = 0\r\n",
        "while x <= 5:\r\n",
        "  n = int(input('Digite o número: '))\r\n",
        "  soma += n\r\n",
        "  x += 1\r\n",
        "print(f'Média: {soma / 5:5.2f}')\r\n",
        "print(f'Você tentou {x - 1} vezes')"
      ],
      "execution_count": null,
      "outputs": [
        {
          "output_type": "stream",
          "text": [
            "Digite o número: 5\n",
            "Digite o número: 6\n",
            "Digite o número: 44\n",
            "Digite o número: 88\n",
            "Digite o número: 999\n",
            "Média: 228.40\n",
            "Você tentou 5 vezes\n"
          ],
          "name": "stdout"
        }
      ]
    },
    {
      "cell_type": "code",
      "metadata": {
        "id": "8j7Qq6zoXft2",
        "colab": {
          "base_uri": "https://localhost:8080/"
        },
        "outputId": "44e6d8b2-598a-42cb-994a-6532146f097b"
      },
      "source": [
        "s = 0\r\n",
        "while True:\r\n",
        "  v = int(input('Digite um número a somar ou 0 para sair: '))\r\n",
        "  if v == 0:\r\n",
        "    break\r\n",
        "  s += v\r\n",
        "print(f'A soma foi de {s:5.2f}')"
      ],
      "execution_count": null,
      "outputs": [
        {
          "output_type": "stream",
          "text": [
            "Digite um número a somar ou 0 para sair: 5656\n",
            "Digite um número a somar ou 0 para sair: 45445\n",
            "Digite um número a somar ou 0 para sair: 2\n",
            "Digite um número a somar ou 0 para sair: 4445\n",
            "Digite um número a somar ou 0 para sair: 0\n",
            "A soma foi de 55548.00\n"
          ],
          "name": "stdout"
        }
      ]
    },
    {
      "cell_type": "code",
      "metadata": {
        "id": "5t0GqCoFrSZ4",
        "colab": {
          "base_uri": "https://localhost:8080/"
        },
        "outputId": "acc681bb-7d6a-475e-e4e6-7f93c0c28ecf"
      },
      "source": [
        "print('-=-' * 10)\r\n",
        "print('     Contagem de cédulas')\r\n",
        "print('-=-' * 10)\r\n",
        "valor = float(input(\"Digite o valor a pagar: \"))\r\n",
        "print(f'Total a pagar R${nota} ')\r\n",
        "cédulas = 0\r\n",
        "atual = 100\r\n",
        "apagar = valor\r\n",
        "while True:\r\n",
        "    if atual <= apagar:\r\n",
        "        apagar -= atual\r\n",
        "        cédulas += 1\r\n",
        "    else:\r\n",
        "        if atual >= 1:\r\n",
        "            print(f\"{cédulas} cédula(s) de R${atual:5.2f}\")\r\n",
        "        else:\r\n",
        "            print(f\"{cédulas} moeda(s) de R${atual:5.2f}\")\r\n",
        "        if apagar < 0.01:\r\n",
        "            break\r\n",
        "        elif atual == 100:\r\n",
        "            atual = 50\r\n",
        "        elif atual == 50:\r\n",
        "            atual = 20\r\n",
        "        elif atual == 20:\r\n",
        "            atual = 10\r\n",
        "        elif atual == 10:\r\n",
        "            atual = 5\r\n",
        "        elif atual == 5:\r\n",
        "            atual = 1\r\n",
        "        elif atual == 1:\r\n",
        "            atual = 0.50\r\n",
        "        elif atual == 0.50:\r\n",
        "            atual = 0.10\r\n",
        "        elif atual == 0.10:\r\n",
        "            atual = 0.05\r\n",
        "        elif atual == 0.05:\r\n",
        "            atual = 0.02\r\n",
        "        elif atual == 0.02:\r\n",
        "            atual = 0.01\r\n",
        "        elif atual == 0.01:\r\n",
        "            atual = 0.00\r\n",
        "        cédulas = 0"
      ],
      "execution_count": null,
      "outputs": [
        {
          "output_type": "stream",
          "text": [
            "-=--=--=--=--=--=--=--=--=--=-\n",
            "     Contagem de cédulas\n",
            "-=--=--=--=--=--=--=--=--=--=-\n",
            "Digite o valor a pagar: 5.39\n",
            "Total a pagar R$5.5 \n",
            "0 cédula(s) de R$100.00\n",
            "0 cédula(s) de R$50.00\n",
            "0 cédula(s) de R$20.00\n",
            "0 cédula(s) de R$10.00\n",
            "1 cédula(s) de R$ 5.00\n",
            "0 cédula(s) de R$ 1.00\n",
            "0 moeda(s) de R$ 0.50\n",
            "3 moeda(s) de R$ 0.10\n",
            "1 moeda(s) de R$ 0.05\n",
            "1 moeda(s) de R$ 0.02\n",
            "1 moeda(s) de R$ 0.01\n"
          ],
          "name": "stdout"
        }
      ]
    },
    {
      "cell_type": "code",
      "metadata": {
        "colab": {
          "base_uri": "https://localhost:8080/"
        },
        "id": "k0RubT0pGfiE",
        "outputId": "36ad9a1f-3dc7-4242-8ad0-22e76bdde198"
      },
      "source": [
        "print('-=-' * 13)\r\n",
        "print(' Cálculo da média com notas digitadas')\r\n",
        "print('-=-' * 13)\r\n",
        "notas = [0, 0, 0, 0, 0] #criação de uma lista\r\n",
        "soma = 0\r\n",
        "x = 0\r\n",
        "while x < 5:\r\n",
        "  notas[x] = float(input(f'Nota {x}: ')) #insere notas em uma lista x\r\n",
        "  soma += notas[x] #soma = soma + notas[x]\r\n",
        "  x += 1 # x = x + 1\r\n",
        "x = 0 # reinia x para 0\r\n",
        "while x < 5:\r\n",
        "  print(f'Nota {x}: {notas[x]:5.2f}')\r\n",
        "  x += 1\r\n",
        "print(f'\\033[32mMédia:{soma / x:5.2f}') #cálcula a média "
      ],
      "execution_count": null,
      "outputs": [
        {
          "output_type": "stream",
          "text": [
            "-=--=--=--=--=--=--=--=--=--=--=--=--=-\n",
            " Cálculo da média com notas digitadas\n",
            "-=--=--=--=--=--=--=--=--=--=--=--=--=-\n",
            "Nota 0: 5\n",
            "Nota 1: 6\n",
            "Nota 2: 8\n",
            "Nota 3: 9\n",
            "Nota 4: 10\n",
            "Nota 0:  5.00\n",
            "Nota 1:  6.00\n",
            "Nota 2:  8.00\n",
            "Nota 3:  9.00\n",
            "Nota 4: 10.00\n",
            "\u001b[32mMédia: 7.60\n"
          ],
          "name": "stdout"
        }
      ]
    },
    {
      "cell_type": "code",
      "metadata": {
        "colab": {
          "base_uri": "https://localhost:8080/"
        },
        "id": "a69-sE6IKrHk",
        "outputId": "dd71fb2f-75b7-46e4-ed13-db4300665540"
      },
      "source": [
        "print('-=-' * 10)\r\n",
        "print('   Apresentação de números')\r\n",
        "print('-=-' * 10)\r\n",
        "números = [0, 0, 0, 0, 0]\r\n",
        "x = 0\r\n",
        "while x < 5:\r\n",
        "  números[x] = int(input(f'Número {x + 1}: \r\n",
        "  '))\r\n",
        "  x += 1\r\n",
        "  while True:\r\n",
        "    escolhido = int(input('Digite posição que você quer imprimir (0 para sair): '))\r\n",
        "    if escolhido == 0:\r\n",
        "      break\r\n",
        "    print(f'Você escolheu o número: {números[escolhido - 1]}')"
      ],
      "execution_count": null,
      "outputs": [
        {
          "output_type": "stream",
          "text": [
            "-=--=--=--=--=--=--=--=--=--=-\n",
            "   Apresentação de números\n",
            "-=--=--=--=--=--=--=--=--=--=-\n",
            "Número 1: 15\n",
            "Digite posição que você quer imprimir (0 para sair): 1\n",
            "Você escolheu o número: 15\n",
            "Digite posição que você quer imprimir (0 para sair): 0\n",
            "Número 2: 12\n",
            "Digite posição que você quer imprimir (0 para sair): 2\n",
            "Você escolheu o número: 12\n",
            "Digite posição que você quer imprimir (0 para sair): 0\n",
            "Número 3: 5\n",
            "Digite posição que você quer imprimir (0 para sair): 3\n",
            "Você escolheu o número: 5\n",
            "Digite posição que você quer imprimir (0 para sair): 0\n",
            "Número 4: 7\n",
            "Digite posição que você quer imprimir (0 para sair): 4\n",
            "Você escolheu o número: 7\n",
            "Digite posição que você quer imprimir (0 para sair): 0\n",
            "Número 5: 9\n",
            "Digite posição que você quer imprimir (0 para sair): 5\n",
            "Você escolheu o número: 9\n",
            "Digite posição que você quer imprimir (0 para sair): 1\n",
            "Você escolheu o número: 15\n",
            "Digite posição que você quer imprimir (0 para sair): 2\n",
            "Você escolheu o número: 12\n",
            "Digite posição que você quer imprimir (0 para sair): 3\n",
            "Você escolheu o número: 5\n",
            "Digite posição que você quer imprimir (0 para sair): 4\n",
            "Você escolheu o número: 7\n",
            "Digite posição que você quer imprimir (0 para sair): 5\n",
            "Você escolheu o número: 9\n",
            "Digite posição que você quer imprimir (0 para sair): 0\n"
          ],
          "name": "stdout"
        }
      ]
    },
    {
      "cell_type": "code",
      "metadata": {
        "id": "T5dPWhw-a5sX",
        "colab": {
          "base_uri": "https://localhost:8080/"
        },
        "outputId": "d7032882-5de7-40a8-ace7-ad105cbba1b7"
      },
      "source": [
        "print('-=-' * 10)\r\n",
        "print('    Maior e menor valores')\r\n",
        "print('-=-' * 10)\r\n",
        "resp = 'S'\r\n",
        "num = média = maior = menor = quant = 0\r\n",
        "while resp in 'Ss':\r\n",
        "    num = int(input('Digite um número: '))\r\n",
        "    soma += num\r\n",
        "    quant += 1\r\n",
        "    if quant == 1:\r\n",
        "      maior = menor = num\r\n",
        "    else:\r\n",
        "      if num > maior:\r\n",
        "        maior = num\r\n",
        "      if num < menor:\r\n",
        "        menor = num\r\n",
        "    resp = str(input('Você quer continuar? [S/N] ')).upper().strip()[0] #Joga para maiuscula, depois retira os espaços e só considera a prima letra [0]\r\n",
        "média = soma / quant\r\n",
        "print(f'Você digitou {quant} números e a média foi \\033[32m{média:5.2f}') #cálcula a média \r\n",
        "print(f'O maior valor foi {maior} e o menor foi {menor}')"
      ],
      "execution_count": null,
      "outputs": [
        {
          "output_type": "stream",
          "text": [
            "-=--=--=--=--=--=--=--=--=--=-\n",
            "    Maior e menor valores\n",
            "-=--=--=--=--=--=--=--=--=--=-\n",
            "Digite um número: 5\n",
            "Você quer continuar? [S/N] s\n",
            "Digite um número: 9\n",
            "Você quer continuar? [S/N] ss\n",
            "Digite um número: 8\n",
            "Você quer continuar? [S/N] S\n",
            "Digite um número: 10\n",
            "Você quer continuar? [S/N] n\n",
            "Você digitou 4 números e a média foi \u001b[32m28.00\n",
            "O maior valor foi 10 e o menor foi 5\n"
          ],
          "name": "stdout"
        }
      ]
    },
    {
      "cell_type": "code",
      "metadata": {
        "colab": {
          "base_uri": "https://localhost:8080/"
        },
        "id": "0NgzTofzClWI",
        "outputId": "b60541fe-733d-4ac7-d29b-1d637ab0cf4b"
      },
      "source": [
        "print('-=-' * 10)\r\n",
        "print('     Condição de parada')\r\n",
        "print('-=-' * 10)\r\n",
        "n = soma = cont = 0\r\n",
        "while True:\r\n",
        "    n = int(input('Digite um número [coloque 999 para parar]: '))\r\n",
        "    if n == 999:\r\n",
        "      break\r\n",
        "    soma += n\r\n",
        "    cont += 1  #quantidade de números que você digitou\r\n",
        "print(f'Você digitou {cont} números e a soma entre eles foi {soma}')"
      ],
      "execution_count": null,
      "outputs": [
        {
          "output_type": "stream",
          "text": [
            "-=--=--=--=--=--=--=--=--=--=-\n",
            "     Condição de parada\n",
            "-=--=--=--=--=--=--=--=--=--=-\n",
            "Digite um número [coloque 999 para parar]: 8\n",
            "Digite um número [coloque 999 para parar]: 9\n",
            "Digite um número [coloque 999 para parar]: 7\n",
            "Digite um número [coloque 999 para parar]: 4\n",
            "Digite um número [coloque 999 para parar]: 5\n",
            "Digite um número [coloque 999 para parar]: 999\n",
            "Você digitou 5 números e a soma entre eles foi 33\n"
          ],
          "name": "stdout"
        }
      ]
    },
    {
      "cell_type": "code",
      "metadata": {
        "colab": {
          "base_uri": "https://localhost:8080/"
        },
        "id": "fvriZsVqVV2c",
        "outputId": "55fa820c-5677-417c-ee87-aad5db6b18d4"
      },
      "source": [
        "while True:\r\n",
        "  n = int(input('Quer ver a tabuada de qual valor? '))\r\n",
        "  if n < 0:\r\n",
        "    break\r\n",
        "  print ('_' * 33)\r\n",
        "  for c in range (1,11):\r\n",
        "    print(f'{n} x {c} = {n*c}')\r\n",
        "  print ('_' * 33)\r\n",
        "print('Programa tabuada encerrado. Volte sempre!!!!')"
      ],
      "execution_count": null,
      "outputs": [
        {
          "output_type": "stream",
          "text": [
            "Quer ver a tabuada de qual valor? 8\n",
            "______________________________\n",
            "8 x 1 = 8\n",
            "8 x 2 = 16\n",
            "8 x 3 = 24\n",
            "8 x 4 = 32\n",
            "8 x 5 = 40\n",
            "8 x 6 = 48\n",
            "8 x 7 = 56\n",
            "8 x 8 = 64\n",
            "8 x 9 = 72\n",
            "8 x 10 = 80\n",
            "______________________________\n",
            "Quer ver a tabuada de qual valor? 9\n",
            "______________________________\n",
            "9 x 1 = 9\n",
            "9 x 2 = 18\n",
            "9 x 3 = 27\n",
            "9 x 4 = 36\n",
            "9 x 5 = 45\n",
            "9 x 6 = 54\n",
            "9 x 7 = 63\n",
            "9 x 8 = 72\n",
            "9 x 9 = 81\n",
            "9 x 10 = 90\n",
            "______________________________\n",
            "Quer ver a tabuada de qual valor? 0\n",
            "______________________________\n",
            "0 x 1 = 0\n",
            "0 x 2 = 0\n",
            "0 x 3 = 0\n",
            "0 x 4 = 0\n",
            "0 x 5 = 0\n",
            "0 x 6 = 0\n",
            "0 x 7 = 0\n",
            "0 x 8 = 0\n",
            "0 x 9 = 0\n",
            "0 x 10 = 0\n",
            "______________________________\n",
            "Quer ver a tabuada de qual valor? -1\n",
            "Programa tabuada encerrado. Volte sempre!!!!\n"
          ],
          "name": "stdout"
        }
      ]
    },
    {
      "cell_type": "code",
      "metadata": {
        "id": "iirmjGWbcdTS",
        "colab": {
          "base_uri": "https://localhost:8080/"
        },
        "outputId": "592bcb8f-9151-403a-a568-65f73ae373b5"
      },
      "source": [
        "from random import randint\r\n",
        "print('-=-' * 10)\r\n",
        "print('     Jogo do Par ou Ímpar')\r\n",
        "print('-=-' * 10)\r\n",
        "cont = num = pc = 0\r\n",
        "while True:\r\n",
        "  num = int(input('Diga um valor: '))\r\n",
        "  pc = randint(0, 10)\r\n",
        "  total = num + pc\r\n",
        "  tipo = ' '\r\n",
        "  while tipo not in 'PI':\r\n",
        "     tipo = str(input('Par ou ímpar? [P/I] ')).strip().upper()[0]\r\n",
        "  print(f'Você jogou {num} e o computador {pc}. Total de {total}')\r\n",
        "  if tipo == 'P':\r\n",
        "    if total % 2 == 0:\r\n",
        "      print('Você VENCEU!!!')\r\n",
        "      cont += 1  #quantidade de números que você digitou\r\n",
        "    else:\r\n",
        "      print('Você PERDEU!!!')\r\n",
        "      break\r\n",
        "  elif tipo == 'I':\r\n",
        "    if total % 2 == 1:\r\n",
        "      print('Você VENCEU!!!')\r\n",
        "      cont += 1  #quantidade de números que você digitou\r\n",
        "    else:\r\n",
        "      print('Você PERDEU!!!')\r\n",
        "      break\r\n",
        "  print('Vamos jogar novamente...')\r\n",
        "print(f'GAME OVER! Você venceu {cont} vezes.')"
      ],
      "execution_count": null,
      "outputs": [
        {
          "output_type": "stream",
          "text": [
            "-=--=--=--=--=--=--=--=--=--=-\n",
            "     Jogo do Par ou Ímpar\n",
            "-=--=--=--=--=--=--=--=--=--=-\n",
            "Diga um valor: 2\n",
            "Par ou ímpar? [P/I] p\n",
            "Você jogou 2 e o computador 8. Total de 10\n",
            "Você VENCEU!!!\n",
            "Vamos jogar novamente...\n",
            "Diga um valor: 3\n",
            "Par ou ímpar? [P/I] p\n",
            "Você jogou 3 e o computador 5. Total de 8\n",
            "Você VENCEU!!!\n",
            "Vamos jogar novamente...\n",
            "Diga um valor: 4\n",
            "Par ou ímpar? [P/I] p\n",
            "Você jogou 4 e o computador 3. Total de 7\n",
            "Você PERDEU!!!\n",
            "GAME OVER! Você venceu 2 vezes.\n"
          ],
          "name": "stdout"
        }
      ]
    },
    {
      "cell_type": "code",
      "metadata": {
        "id": "Uv6_LKvbKeUs",
        "outputId": "6a2e2131-e33e-40f9-e35a-7bdb1e7243a7",
        "colab": {
          "resources": {
            "http://localhost:8080/nbextensions/google.colab/files.js": {
              "data": "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",
              "ok": true,
              "headers": [
                [
                  "content-type",
                  "application/javascript"
                ]
              ],
              "status": 200,
              "status_text": ""
            }
          },
          "base_uri": "https://localhost:8080/",
          "height": 491
        }
      },
      "source": [
        "#!wget \"https://www.duckietown.org/wp-content/uploads/2018/05/duckietown_nice-1024x683.jpg\" -O dt.jpg\r\n",
        " \r\n",
        "from google.colab import files\r\n",
        "uploaded = files.upload()\r\n",
        "\r\n",
        "# np = common abbreviation for numpy\r\n",
        "import numpy as np\r\n",
        "\r\n",
        "# Constructing a numpy array from a list\r\n",
        "\r\n",
        "boring_list = [1, 2, 3]\r\n",
        "fun_array = np.array(boring_list) # Calling np.array(a_list) will cast your list into a numpy array!\r\n",
        "\r\n",
        "# Arrays can be added, and there are tons of convenient functions to make them\r\n",
        "ones = np.ones(3)\r\n",
        "result = fun_array + ones + np.zeros(3)\r\n",
        "\r\n",
        "print(result)\r\n",
        "\r\n",
        "# What about matrices?\r\n",
        "boring_mtx = [[1, 2], [3, 4]]\r\n",
        "ones = np.ones((2, 2)) # (2, 2) describes the shape that I want\r\n",
        "identity = np.eye(2) # an Identity matrix\r\n",
        "\r\n",
        "# Numpy will cast your lists into arrays if need be\r\n",
        "try:\r\n",
        "    result = boring_mtx + identity \r\n",
        "    print(result)\r\n",
        "except:\r\n",
        "    print(\"Can I do this?\")\r\n",
        "    \r\n",
        "# Random Sampling? No problem!\r\n",
        "rando_mtx = np.random.random((100, 100))\r\n",
        "\r\n",
        "# A lot of functions built in\r\n",
        "print(np.linalg.norm(rando_mtx))\r\n",
        "\r\n",
        "# But different behavior depending on the parameters you give it!\r\n",
        "print(np.linalg.norm(rando_mtx, axis=0))\r\n",
        "print(np.linalg.norm(rando_mtx, ord=2))\r\n",
        "\r\n",
        "# Matrix Operations work exactly how you think they would\r\n",
        "rando_mtx = np.eye(rando_mtx.shape[0]) * rando_mtx\r\n",
        "\r\n",
        "\r\n",
        "# Or not? One big (and subtle) feature: broadcasting\r\n",
        "rando_mtx += 1 # adding a scalar works, that's cool! \r\n",
        "\r\n",
        "mtx1 = np.random.random((8, 1, 7, 1))\r\n",
        "mtx2 = np.random.random((8, 2, 1, 9))\r\n",
        "\r\n",
        "# No error? \r\n",
        "res = mtx1 * mtx2 \r\n",
        "\r\n",
        "# Does the same? \r\n",
        "res2 = mtx1.dot(mtx2)\r\n",
        "\r\n",
        "print(np.array_equal(res, res2), res.shape, res2.shape)\r\n",
        "\r\n",
        "# Big takeaway: numpy docs are your friend! Look before you write!"
      ],
      "execution_count": 28,
      "outputs": [
        {
          "output_type": "display_data",
          "data": {
            "text/html": [
              "\n",
              "     <input type=\"file\" id=\"files-7eade356-cb3d-45e9-ba04-83f91b8c7bdb\" name=\"files[]\" multiple disabled\n",
              "        style=\"border:none\" />\n",
              "     <output id=\"result-7eade356-cb3d-45e9-ba04-83f91b8c7bdb\">\n",
              "      Upload widget is only available when the cell has been executed in the\n",
              "      current browser session. Please rerun this cell to enable.\n",
              "      </output>\n",
              "      <script src=\"/nbextensions/google.colab/files.js\"></script> "
            ],
            "text/plain": [
              "<IPython.core.display.HTML object>"
            ]
          },
          "metadata": {
            "tags": []
          }
        },
        {
          "output_type": "stream",
          "text": [
            "Saving ufrn.jpg to ufrn.jpg\n",
            "[2. 3. 4.]\n",
            "[[2. 2.]\n",
            " [3. 5.]]\n",
            "57.86667077174661\n",
            "[6.13931243 5.79288045 5.63265074 6.10874245 5.82597499 6.01053912\n",
            " 5.82118396 6.13811535 5.84876784 5.27633931 5.78366297 5.64689737\n",
            " 5.69266126 5.46784546 5.84560888 5.85299878 5.77892058 6.14418227\n",
            " 6.06490972 5.71898513 5.37721099 5.73368733 5.43577508 6.14604756\n",
            " 5.92976071 5.81246656 5.57346686 5.89022192 6.4270756  5.46003537\n",
            " 5.86529929 5.68415745 5.21983409 6.07828497 5.57022471 5.66732016\n",
            " 6.06971255 6.13907674 6.24128103 5.75597878 5.63775589 5.89594483\n",
            " 5.75433856 5.96370435 5.84267736 5.71607619 5.6870077  5.91599819\n",
            " 6.09477515 5.58401666 5.64937065 5.49813856 5.65037732 5.68979172\n",
            " 5.72620457 6.25543016 5.37438642 5.31728012 5.37479376 5.80710166\n",
            " 5.228893   5.59751484 5.93317327 5.69917293 5.98021384 5.49409121\n",
            " 5.94273233 5.65764561 5.59870654 6.33558516 5.97566965 5.52998566\n",
            " 5.7685094  5.73060617 6.09303526 5.95818636 5.86024043 5.68403579\n",
            " 6.14018341 5.7521893  6.3206292  5.36034331 5.77639434 5.85321027\n",
            " 5.79437498 5.75677971 5.72132115 5.66512865 5.7770494  5.88910589\n",
            " 5.61599762 5.76999333 5.5225885  6.0670913  6.19528588 5.41501597\n",
            " 5.17266686 5.79478305 6.12942669 5.40293533]\n",
            "50.41362399753123\n",
            "False (8, 2, 7, 9) (8, 1, 7, 8, 2, 9)\n"
          ],
          "name": "stdout"
        }
      ]
    },
    {
      "cell_type": "code",
      "metadata": {
        "id": "_oCdOGlYKmqY",
        "outputId": "c35e79d2-615d-4ad3-d375-67dee595cf47",
        "colab": {
          "base_uri": "https://localhost:8080/",
          "height": 243
        }
      },
      "source": [
        "%matplotlib inline\r\n",
        "from matplotlib import pyplot as plt\r\n",
        "import cv2\r\n",
        "\r\n",
        "# Load in Grayscale\r\n",
        "img = cv2.imread('./ufrn.jpg', 0)\r\n",
        "\r\n",
        "# The underlying representation is a numpy array!\r\n",
        "print(type(img))\r\n",
        "\r\n",
        "plt.imshow(img)\r\n",
        "plt.show()\r\n",
        "\r\n",
        "img = cv2.imread('./ufrn.jpg')\r\n",
        "\r\n",
        "plt.imshow(img)\r\n",
        "plt.show()\r\n",
        "\r\n",
        "# This would work normally, but it will crash the colab kernel, so don't.\r\n",
        "# cv2.imshow('Image', img)"
      ],
      "execution_count": 29,
      "outputs": [
        {
          "output_type": "stream",
          "text": [
            "<class 'numpy.ndarray'>\n"
          ],
          "name": "stdout"
        },
        {
          "output_type": "display_data",
          "data": {
            "image/png": "[encoded data removed]",
            "text/plain": [
              "<Figure size 432x288 with 1 Axes>"
            ]
          },
          "metadata": {
            "tags": [],
            "needs_background": "light"
          }
        },
        {
          "output_type": "display_data",
          "data": {
            "image/png": "[encoded data removed]",
            "text/plain": [
              "<Figure size 432x288 with 1 Axes>"
            ]
          },
          "metadata": {
            "tags": [],
            "needs_background": "light"
          }
        }
      ]
    },
    {
      "cell_type": "code",
      "metadata": {
        "colab": {
          "base_uri": "https://localhost:8080/",
          "height": 281
        },
        "id": "C4HZx7Gndbrh",
        "outputId": "46abc637-6abd-41b2-9bba-80a7ae992e06"
      },
      "source": [
        "import numpy as np\n",
        "from matplotlib import pyplot as plt\n",
        "\n",
        "ys = 200 + np.random.randn(100)\n",
        "x = [x for x in range(len(ys))]\n",
        "\n",
        "plt.plot(x, ys, '-')\n",
        "plt.fill_between(x, ys, 195, where=(ys > 195), facecolor='g', alpha=0.6)\n",
        "\n",
        "plt.title(\"Sample Visualization\")\n",
        "plt.show()"
      ],
      "execution_count": null,
      "outputs": [
        {
          "output_type": "display_data",
          "data": {
            "image/png": "[encoded data removed]",
            "text/plain": [
              "<Figure size 432x288 with 1 Axes>"
            ]
          },
          "metadata": {
            "tags": []
          }
        }
      ]
    }
  ]
}