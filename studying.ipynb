{
  "nbformat": 4,
  "nbformat_minor": 0,
  "metadata": {
    "colab": {
      "name": "Olá, este é o Colaboratory",
      "provenance": [],
      "collapsed_sections": [],
      "include_colab_link": true
    },
    "kernelspec": {
      "display_name": "Python 3",
      "name": "python3"
    }
  },
  "cells": [
    {
      "cell_type": "markdown",
      "metadata": {
        "id": "view-in-github",
        "colab_type": "text"
      },
      "source": [
        "<a href=\"https://colab.research.google.com/github/andrepaulodantas/python/blob/main/studying.ipynb\" target=\"_parent\"><img src=\"https://colab.research.google.com/assets/colab-badge.svg\" alt=\"Open In Colab\"/></a>"
      ]
    },
    {
      "cell_type": "code",
      "metadata": {
        "colab": {
          "base_uri": "https://localhost:8080/"
        },
        "id": "7hzDFYi4J8Vf",
        "outputId": "824a3d62-5435-4973-cdea-67683f1913c0"
      },
      "source": [
        "from google.colab import drive\r\n",
        "drive.mount('/content/drive')"
      ],
      "execution_count": null,
      "outputs": [
        {
          "output_type": "stream",
          "text": [
            "Mounted at /content/drive\n"
          ],
          "name": "stdout"
        }
      ]
    },
    {
      "cell_type": "code",
      "metadata": {
        "colab": {
          "base_uri": "https://localhost:8080/"
        },
        "id": "gJr_9dXGpJ05",
        "outputId": "a533ac8b-9c05-4784-abf0-44551a75fcea"
      },
      "source": [
        "print('-=-' * 20)\n",
        "print('         QUANTIDADE DE SEGUNDOS DURANTE 24H')\n",
        "print('-=-' * 20)\n",
        "seconds_in_a_day = 24 * 60 * 60\n",
        "seconds_in_a_day"
      ],
      "execution_count": null,
      "outputs": [
        {
          "output_type": "stream",
          "text": [
            "-=--=--=--=--=--=--=--=--=--=--=--=--=--=--=--=--=--=--=--=-\n",
            "         QUANTIDADE DE SEGUNDOS DURANTE 24H\n",
            "-=--=--=--=--=--=--=--=--=--=--=--=--=--=--=--=--=--=--=--=-\n"
          ],
          "name": "stdout"
        },
        {
          "output_type": "execute_result",
          "data": {
            "text/plain": [
              "86400"
            ]
          },
          "metadata": {
            "tags": []
          },
          "execution_count": 85
        }
      ]
    },
    {
      "cell_type": "code",
      "metadata": {
        "id": "Pc7_oRhh4Czs",
        "colab": {
          "base_uri": "https://localhost:8080/"
        },
        "outputId": "3d45a9fa-2ae5-4943-9833-5005732a0a96"
      },
      "source": [
        "print('-=-' * 20)\r\n",
        "print('         TRANSFORMAÇÃO DE TEMPERATURA DE °F PARA °C')\r\n",
        "print('-=-' * 20)\r\n",
        "c = float(input('Informe a temperatura em ºC: '))\r\n",
        "f = ((9 * c) / 5 ) + 32\r\n",
        "print('A temperatura de {}ºC correspondente a {}ºF'.format(c, f))"
      ],
      "execution_count": null,
      "outputs": [
        {
          "output_type": "stream",
          "text": [
            "-=--=--=--=--=--=--=--=--=--=--=--=--=--=--=--=--=--=--=--=-\n",
            "         TRANSFORMAÇÃO DE TEMPERATURA DE °F PARA °C\n",
            "-=--=--=--=--=--=--=--=--=--=--=--=--=--=--=--=--=--=--=--=-\n",
            "Informe a temperatura em ºC: 55\n",
            "A temperatura de 55.0ºC correspondente a 131.0ºF\n"
          ],
          "name": "stdout"
        }
      ]
    },
    {
      "cell_type": "code",
      "metadata": {
        "id": "ynrjpSJS4FIm",
        "colab": {
          "base_uri": "https://localhost:8080/"
        },
        "outputId": "095d1fab-ab96-401a-d0b9-7ca99d8e9b64"
      },
      "source": [
        "print('-=-' * 20)\r\n",
        "print('         ALUGUEL DE CARROS')\r\n",
        "print('-=-' * 20)\r\n",
        "dias = int(input('Quantos dias alugados? '))\r\n",
        "km = float(input('Qunatos km rodados? '))\r\n",
        "pago = (dias * 60) + (km * 0.15)\r\n",
        "print('O total a pagar é de R${:.2f}'.format(pago)) #duas casas décimais :.2f"
      ],
      "execution_count": null,
      "outputs": [
        {
          "output_type": "stream",
          "text": [
            "-=--=--=--=--=--=--=--=--=--=--=--=--=--=--=--=--=--=--=--=-\n",
            "         ALUGUEL DE CARROS\n",
            "-=--=--=--=--=--=--=--=--=--=--=--=--=--=--=--=--=--=--=--=-\n",
            "Quantos dias alugados? 10\n",
            "Qunatos km rodados? 20\n",
            "O total a pagar é de R$603.00\n"
          ],
          "name": "stdout"
        }
      ]
    },
    {
      "cell_type": "code",
      "metadata": {
        "id": "eJx79s6UDpLl",
        "colab": {
          "base_uri": "https://localhost:8080/"
        },
        "outputId": "e34d8d17-8b09-4ac3-f17a-bf261092c691"
      },
      "source": [
        "import math \r\n",
        "num = int(input('Digite um número: '))\r\n",
        "raiz = math.sqrt(num)\r\n",
        "print('A raiz de {} é igual a {:.2f}'.format(num, raiz))\r\n"
      ],
      "execution_count": null,
      "outputs": [
        {
          "output_type": "stream",
          "text": [
            "Digite um número: 29\n",
            "A raiz de 29 é igual a 5.39\n"
          ],
          "name": "stdout"
        }
      ]
    },
    {
      "cell_type": "code",
      "metadata": {
        "colab": {
          "base_uri": "https://localhost:8080/"
        },
        "id": "TXd2J-9WINX0",
        "outputId": "b997958c-9194-4cd9-fb6d-b16b3fbcea71"
      },
      "source": [
        "import math \r\n",
        "num = float(input('Digite um número: '))\r\n",
        "print('O valor digitado foi {} é a sua parte inteira é {}'.format(num, math.trunc(num)))\r\n"
      ],
      "execution_count": null,
      "outputs": [
        {
          "output_type": "stream",
          "text": [
            "Digite um número: 3.1415\n",
            "O valor digitado foi 3.1415 é a sua parte inteira é 3\n"
          ],
          "name": "stdout"
        }
      ]
    },
    {
      "cell_type": "code",
      "metadata": {
        "colab": {
          "base_uri": "https://localhost:8080/"
        },
        "id": "agZUHOEmIMiM",
        "outputId": "f7df1a72-a622-4a3e-f71c-820dfe6da70c"
      },
      "source": [
        "import random\r\n",
        "n1 = str(input('Primeiro Aluno: '))\r\n",
        "n2 = str(input('Segundo Aluno: '))\r\n",
        "n3 = str(input('Terceiro Aluno: '))\r\n",
        "n4 = str(input('Quarto Aluno: '))\r\n",
        "lista = [n1, n2, n3, n4]\r\n",
        "escolhido = random.choice(lista)\r\n",
        "print('O aluno escolhido foi {}'.format(escolhido))"
      ],
      "execution_count": null,
      "outputs": [
        {
          "output_type": "stream",
          "text": [
            "Primeiro Aluno: André\n",
            "Segundo Aluno: Juliana\n",
            "Terceiro Aluno: Larissa\n",
            "Quarto Aluno: Izolda\n",
            "O aluno escolhido foi Larissa\n"
          ],
          "name": "stdout"
        }
      ]
    },
    {
      "cell_type": "code",
      "metadata": {
        "colab": {
          "base_uri": "https://localhost:8080/"
        },
        "id": "tCloSi8ToGve",
        "outputId": "3a342c1c-d692-415c-c98a-98ba1a3d44ad"
      },
      "source": [
        "import random\r\n",
        "n1 = str(input('Primeiro Aluno: '))\r\n",
        "n2 = str(input('Segundo Aluno: '))\r\n",
        "n3 = str(input('Terceiro Aluno: '))\r\n",
        "n4 = str(input('Quarto Aluno: '))\r\n",
        "lista = [n1, n2, n3, n4]\r\n",
        "random.shuffle(lista)\r\n",
        "print('O aluno escolhido foi ')\r\n",
        "print(lista)"
      ],
      "execution_count": null,
      "outputs": [
        {
          "output_type": "stream",
          "text": [
            "Primeiro Aluno: André \n",
            "Segundo Aluno: Larissa\n",
            "Terceiro Aluno: Izolda\n",
            "Quarto Aluno: Juliana\n",
            "O aluno escolhido foi \n",
            "['Izolda', 'Larissa', 'André ', 'Juliana']\n"
          ],
          "name": "stdout"
        }
      ]
    },
    {
      "cell_type": "code",
      "metadata": {
        "colab": {
          "base_uri": "https://localhost:8080/"
        },
        "id": "QWvMQPgBs5bH",
        "outputId": "32885380-8edc-4328-d59f-3fe1b3205109"
      },
      "source": [
        "frase = ('André Paulo!')\r\n",
        "\r\n",
        "print(frase.split())\r\n",
        "\r\n",
        "print(frase.count('o',0,12))\r\n",
        "\r\n",
        "print('-'.join(frase))\r\n"
      ],
      "execution_count": null,
      "outputs": [
        {
          "output_type": "stream",
          "text": [
            "['André', 'Paulo!']\n",
            "1\n",
            "A-n-d-r-é- -P-a-u-l-o-!\n"
          ],
          "name": "stdout"
        }
      ]
    },
    {
      "cell_type": "code",
      "metadata": {
        "colab": {
          "base_uri": "https://localhost:8080/"
        },
        "id": "MUl6rT_d6jx-",
        "outputId": "404438ba-d791-4ac5-80a3-ca07abe24142"
      },
      "source": [
        "nome = str(input('Digite seu nome completo: ')).strip()\r\n",
        "print('Seu nome tem ao todo {} letras'.format(len(nome) - nome.count(' ')))\r\n",
        "print('Seu primeiro nome tem {} letras'.format(nome.find(' ')))"
      ],
      "execution_count": null,
      "outputs": [
        {
          "output_type": "stream",
          "text": [
            "Digite seu nome completo: André Paulo Dantas de Araújo\n",
            "Seu nome tem ao todo 24 letras\n",
            "Seu Primeiro nome tem 5 letras\n"
          ],
          "name": "stdout"
        }
      ]
    },
    {
      "cell_type": "code",
      "metadata": {
        "colab": {
          "base_uri": "https://localhost:8080/",
          "height": 34
        },
        "id": "-gE-Ez1qtyIA",
        "outputId": "94cb2224-0edf-457b-90b5-0ac3488d8a97"
      },
      "source": [
        "seconds_in_a_week = 7 * seconds_in_a_day\n",
        "seconds_in_a_week"
      ],
      "execution_count": null,
      "outputs": [
        {
          "output_type": "execute_result",
          "data": {
            "text/plain": [
              "604800"
            ]
          },
          "metadata": {
            "tags": []
          },
          "execution_count": 0
        }
      ]
    },
    {
      "cell_type": "code",
      "metadata": {
        "colab": {
          "base_uri": "https://localhost:8080/"
        },
        "id": "VAGTovIm9xf3",
        "outputId": "37a339f5-d896-43c1-9107-b00b340ba1ed"
      },
      "source": [
        "frase = str(input('Digite uma frase: ')).upper().strip() #retira espaços indesejados\r\n",
        "print('A letra A aparece {} vezes na frase.'. format(frase.count('A')))\r\n",
        "print('A primeira letra A aparece na posição {}'. format(frase.find('A')+1))\r\n",
        "print('A última letra A apareceu na posição {}'. format(frase.rfind('A')+1))\r\n"
      ],
      "execution_count": null,
      "outputs": [
        {
          "output_type": "stream",
          "text": [
            "Digite uma frase: André Paulo Dantas de Araújo\n",
            "A letra A aparece 6 vezes na frase.\n",
            "A primeira letra A aparece na posição 1\n",
            "A última letra A apareceu na posição 25\n"
          ],
          "name": "stdout"
        }
      ]
    },
    {
      "cell_type": "code",
      "metadata": {
        "colab": {
          "base_uri": "https://localhost:8080/"
        },
        "id": "RswZmQlF_dD5",
        "outputId": "ee79115b-77cb-4ab5-e748-c5f2d04f563b"
      },
      "source": [
        "n = str(input('Digite seu nome completo ')).strip() #retira espaços indesejados\r\n",
        "nome = n.split() #divide as plavras achadas no input\r\n",
        "print('Muito prazer em te conhecer!')\r\n",
        "print('Seu primeiro nome é {}'.format(nome[0]))\r\n",
        "print('Seu último nome é {}'.format(nome[len(nome)-1]))\r\n"
      ],
      "execution_count": null,
      "outputs": [
        {
          "output_type": "stream",
          "text": [
            "Digite seu nome completo André Paulo Dantas de Araújo\n",
            "Muito prazer em te conhecer!\n",
            "Seu primeiro nome é André\n",
            "Seu último nome é Araújo\n"
          ],
          "name": "stdout"
        }
      ]
    },
    {
      "cell_type": "code",
      "metadata": {
        "id": "OOg8IjNZkuFg",
        "colab": {
          "base_uri": "https://localhost:8080/"
        },
        "outputId": "3f7e7a88-0642-4187-e6d4-49b356e341f4"
      },
      "source": [
        "from random import randint\r\n",
        "from time import sleep\r\n",
        "pc = randint(0, 5) #Faz o PC gerar números aleatórios\r\n",
        "print('-=-' * 20)\r\n",
        "print('Vou pensar em um número entre 0 e 5. Tente adivinhar...')\r\n",
        "print('-=-' * 20)\r\n",
        "jogador = int(input('Em que número eu pensei? ')) #Jogador tenta adivinhar\r\n",
        "print('PROCESSANDO...')\r\n",
        "sleep(3)\r\n",
        "if jogador == pc:\r\n",
        "  print('PARABÉNS! Você conseguiu me vencer!')\r\n",
        "else:\r\n",
        "  print('GANHEI! Eu pensei no número {} e não no {}!'.format(pc, jogador))\r\n"
      ],
      "execution_count": null,
      "outputs": [
        {
          "output_type": "stream",
          "text": [
            "-=--=--=--=--=--=--=--=--=--=--=--=--=--=--=--=--=--=--=--=-\n",
            "Vou pensar em um número entre 0 e 5. Tente adivinhar...\n",
            "-=--=--=--=--=--=--=--=--=--=--=--=--=--=--=--=--=--=--=--=-\n",
            "Em que número eu pensei? 5\n",
            "PROCESSANDO...\n",
            "GANHEI! Eu pensei no número 3 e não no 5!\n"
          ],
          "name": "stdout"
        }
      ]
    },
    {
      "cell_type": "code",
      "metadata": {
        "colab": {
          "base_uri": "https://localhost:8080/"
        },
        "id": "qh7zrIpE4soN",
        "outputId": "a51bd7bb-5c12-4b32-df3b-bce9e2168e3c"
      },
      "source": [
        "num = int(input('Me diga um número inteiro: '))\r\n",
        "resultado = num % 2\r\n",
        "if resultado == 0:\r\n",
        "  print('O número {} é PAR'.format(num))\r\n",
        "else:\r\n",
        "  print('O número {} é ÍMPAR'.format(num))\r\n"
      ],
      "execution_count": null,
      "outputs": [
        {
          "output_type": "stream",
          "text": [
            "Me diga um número inteiro: 31\n",
            "O número 31 é ÍMPAR\n"
          ],
          "name": "stdout"
        }
      ]
    },
    {
      "cell_type": "code",
      "metadata": {
        "colab": {
          "base_uri": "https://localhost:8080/"
        },
        "id": "rDohZuir8bLw",
        "outputId": "325656d1-879a-4028-c482-cebea6b868b8"
      },
      "source": [
        "dist = float(input('Qual é a distância de sua viagem? '))\r\n",
        "print('Você está prestes a começar uma viagem de {}km.'.format(dist))\r\n",
        "if dist <= 200:\r\n",
        "  preço = dist * 0.50\r\n",
        "else:\r\n",
        "  preço = dist * 0.45\r\n",
        "print('E o preço da sua passagem será de R${:.2f}'.format(preço))"
      ],
      "execution_count": null,
      "outputs": [
        {
          "output_type": "stream",
          "text": [
            "Qual é a distância de sua viagem? 200\n",
            "Você está prestes a começar uma viagem de 200.0km.\n",
            "E o preço da sua passagem será de R$100.00\n"
          ],
          "name": "stdout"
        }
      ]
    },
    {
      "cell_type": "code",
      "metadata": {
        "colab": {
          "base_uri": "https://localhost:8080/"
        },
        "id": "2s8OVf_192VA",
        "outputId": "4be6b739-ec8c-4faa-ee7c-07305423e7eb"
      },
      "source": [
        "from datetime import date\r\n",
        "ano = int(input('Que ano quer analisar? Coloque 0 para analisar o ano atual: '))\r\n",
        "if ano == 0:\r\n",
        "  ano = date.today().year\r\n",
        "if ano % 4 == 0 and ano % 100 != 0 or ano % 400 == 0:\r\n",
        "  print('O ano {} é BISSEXTO'.format(ano))\r\n",
        "else:\r\n",
        "  print('O ano {} NÃO é BISSEXTO'.format(ano))"
      ],
      "execution_count": null,
      "outputs": [
        {
          "output_type": "stream",
          "text": [
            "Que ano quer analisar? Coloque 0 para analisar o ano atual: 20000\n",
            "O ano 20000 é BISSEXTO\n"
          ],
          "name": "stdout"
        }
      ]
    },
    {
      "cell_type": "code",
      "metadata": {
        "colab": {
          "base_uri": "https://localhost:8080/"
        },
        "id": "9maD7Owouozd",
        "outputId": "3bdf3c1f-cd71-464f-8aa4-7993481a823b"
      },
      "source": [
        "a = int(input('Primeiro valor: '))\r\n",
        "b = int(input('Segundo valor: '))\r\n",
        "c = int(input('Terceiro valor: '))\r\n",
        "# Verificando quem é menor\r\n",
        "menor = a \r\n",
        "if b<a and b<c:\r\n",
        "  menor = b\r\n",
        "if c<a and c<b:\r\n",
        "  menor = c \r\n",
        "# Verificando quem é maior\r\n",
        "maior = a \r\n",
        "if b>a and b>c:\r\n",
        "  maior = b\r\n",
        "if c>a and c>b:\r\n",
        "  maior = c \r\n",
        "\r\n",
        "print('O menor valor digitado foi {}'.format(menor))\r\n",
        "print('O maior valor digitado foi {}'.format(maior))\r\n"
      ],
      "execution_count": null,
      "outputs": [
        {
          "output_type": "stream",
          "text": [
            "Primeiro valor: 25656555\n",
            "Segundo valor: 52656\n",
            "Terceiro valor: 45645646545645\n",
            "O menor valor digitado foi 52656\n",
            "O maior valor digitado foi 45645646545645\n"
          ],
          "name": "stdout"
        }
      ]
    },
    {
      "cell_type": "code",
      "metadata": {
        "colab": {
          "base_uri": "https://localhost:8080/"
        },
        "id": "9dmLVKOGy6sY",
        "outputId": "a42bb14b-9efa-4248-b372-39083b8ec863"
      },
      "source": [
        "salário = float(input('Qual é o salário do funcionário? R$'))\r\n",
        "if salário <= 1250:\r\n",
        "  novo = salário + (salário * 15 /100)\r\n",
        "else:\r\n",
        "  novo = salário + (salário * 10 /100)\r\n",
        "print('Quem ganhava R${:.2f} passa a ganhar R$ {:.2F} agora.'.format(salário, novo))"
      ],
      "execution_count": null,
      "outputs": [
        {
          "output_type": "stream",
          "text": [
            "Qual é o salário do funcionário? R$2000\n",
            "Quem ganhava R$2000.00 passa a ganhar R$ 2200.00 agora.\n"
          ],
          "name": "stdout"
        }
      ]
    },
    {
      "cell_type": "code",
      "metadata": {
        "colab": {
          "base_uri": "https://localhost:8080/"
        },
        "id": "aHa0946c-27_",
        "outputId": "0daefc7c-0818-44bf-e877-eaff4653e70c"
      },
      "source": [
        "nome = 'CMASM'\r\n",
        "cores = {'limpa':'\\033[m',\r\n",
        "       'azul':'\\033][34m',\r\n",
        "       'amarelo':'\\033[33m',\r\n",
        "       'pretoebranco':'\\033[7;30m'}\r\n",
        "\r\n",
        "print('Olá! Muito prazer em te conhecer, {}{}{}!!'.format(cores['pretoebranco'], nome, cores ['limpa']))  \r\n",
        "\r\n",
        "print('-='*20)\r\n",
        "print('Analisador de Triângulos')\r\n",
        "print('-='*20)\r\n",
        "\r\n"
      ],
      "execution_count": null,
      "outputs": [
        {
          "output_type": "stream",
          "text": [
            "Olá! Muito prazer em te conhecer, \u001b[7;30mCMASM\u001b[m!!\n",
            "-=-=-=-=-=-=-=-=-=-=-=-=-=-=-=-=-=-=-=-=\n",
            "Analisador de Triângulos\n",
            "-=-=-=-=-=-=-=-=-=-=-=-=-=-=-=-=-=-=-=-=\n"
          ],
          "name": "stdout"
        }
      ]
    },
    {
      "cell_type": "code",
      "metadata": {
        "id": "Xs95suCaGrcP",
        "colab": {
          "base_uri": "https://localhost:8080/"
        },
        "outputId": "8a5661d2-c478-4ce0-a794-5cf4c37d0320"
      },
      "source": [
        "casa = float(input('Valor da casa: R$'))\r\n",
        "salário = float(input('Salário do comprador: R$'))\r\n",
        "anos = int(input('Quantos anos de financiamento? '))\r\n",
        "prestação = casa /(anos * 12)\r\n",
        "mínimo = salário * 30 / 100 #aprestação mensal, não pode execeder 30% do salário\r\n",
        "print('Para pagar uma casa de R${:.2f} em {} anos'.format(casa, anos), end='') #end é para concatenar \r\n",
        "print(' a prestação será de R${:.2f}'.format(prestação))\r\n",
        "if prestação <= mínimo:\r\n",
        "  print('Empréstimo pode ser CONCEDIDO!')\r\n",
        "else:\r\n",
        "  print('Empréstimo NEGADO!')"
      ],
      "execution_count": null,
      "outputs": [
        {
          "output_type": "stream",
          "text": [
            "Valor da casa: R$20000\n",
            "Salário do comprador: R$5000\n",
            "Quantos anos de financiamento? 10\n",
            "Para pagar uma casa de R$20000.00 em 10 anos a prestação será de R$166.67\n",
            "Empréstimo pode ser CONCEDIDO!\n"
          ],
          "name": "stdout"
        }
      ]
    },
    {
      "cell_type": "code",
      "metadata": {
        "id": "gpb7I_oyqKqL",
        "colab": {
          "base_uri": "https://localhost:8080/"
        },
        "outputId": "7382d08e-602b-48b7-8ab8-0b5b07e0a193"
      },
      "source": [
        "from time import sleep\r\n",
        "num = int(input('Digite um número inteiro: '))\r\n",
        "print('''Escolha uma das bases para conversão:\r\n",
        "[ 1 ] converter para BINÁRIO\r\n",
        "[ 2 ] converter para OCTAL\r\n",
        "[ 3 ] converter para HEXADECIMAL''')\r\n",
        "\r\n",
        "opção = int(input('Sua opção: '))\r\n",
        "\r\n",
        "print('PROCESSANDO...')\r\n",
        "sleep(2)\r\n",
        "\r\n",
        "if opção == 1:\r\n",
        "  print('{} convertido para BINÁRIO é igual a {}'.format(num, bin(num)[2:])) #pega so duas strings após o resultado\r\n",
        "elif opção == 2:\r\n",
        "  print('{} convertido para OCTAL é igual a {}'.format(num, oct(num)[2:])) \r\n",
        "elif opção == 3:\r\n",
        "  print('{} convertido para HEXADECIMAL é igual a {}'.format(num, hex(num)[2:])) #pega so duas strings após o resultado\r\n",
        "else:\r\n",
        "  print('Opção inválida. Tente novamente.')\r\n"
      ],
      "execution_count": null,
      "outputs": [
        {
          "output_type": "stream",
          "text": [
            "Digite um número inteiro: 55\n",
            "Escolha uma das bases para conversão:\n",
            "[ 1 ] converter para BINÁRIO\n",
            "[ 2 ] converter para OCTAL\n",
            "[ 3 ] converter para HEXADECIMAL\n",
            "Sua opção: 2\n",
            "PROCESSANDO...\n",
            "55 convertido para OCTAL é igual a 67\n"
          ],
          "name": "stdout"
        }
      ]
    },
    {
      "cell_type": "code",
      "metadata": {
        "id": "n7xOX8dUW8IO",
        "colab": {
          "base_uri": "https://localhost:8080/"
        },
        "outputId": "6f726b80-9526-46c9-92a2-58924ff05e7f"
      },
      "source": [
        "peso = float(input('Qual é seu peso? (Kg) '))\r\n",
        "altura = float(input('Qual é seu altura? (m) '))\r\n",
        "imc = peso / (altura ** 2)\r\n",
        "print('O IMC dessa pessoa é de {:.1f}'.format(imc))\r\n",
        "if imc < 18.5:\r\n",
        "  print('Você está abaixo do peso normal')\r\n",
        "elif 18.5 <= imc < 25:\r\n",
        "  print('Parabéns, você está na faixa de peso normal')\r\n",
        "elif 25 <= imc < 30:\r\n",
        "  print('Você está em SOBREPESO')\r\n",
        "elif 30 <= imc < 40:\r\n",
        "  print('Você está OBESO')\r\n",
        "else:\r\n",
        "  print('Você está com OBESESIDADE MÓRBIDA, CUIDADO!')\r\n",
        "  "
      ],
      "execution_count": null,
      "outputs": [
        {
          "output_type": "stream",
          "text": [
            "Qual é seu peso? (Kg) 80\n",
            "Qual é seu altura? (m) 1.68\n",
            "O IMC dessa pessoa é de 28.3\n",
            "Você está em SOBREPESO\n"
          ],
          "name": "stdout"
        }
      ]
    },
    {
      "cell_type": "code",
      "metadata": {
        "id": "QRQP1890VYg7",
        "colab": {
          "base_uri": "https://localhost:8080/"
        },
        "outputId": "cbb469ea-7db5-4ab4-a845-16a37b505d38"
      },
      "source": [
        "from time import sleep\r\n",
        "print ('{:=^40}'.format('LOJAS ARAÚJO'))\r\n",
        "num = int(input('Preço das compras: R$ '))\r\n",
        "juros2x = num + (num * 5 / 100)\r\n",
        "juros3x = num + (num * 9 / 100)\r\n",
        "print('''FORMAS DE PAGAMENTO\r\n",
        "[ 1 ] à vista dinheiro/cheque\r\n",
        "[ 2 ] à vista cartão\r\n",
        "[ 3 ] 2X no cartão com juros de 5%\r\n",
        "[ 4 ] 3X no cartão com juros de 9% ''')\r\n",
        "\r\n",
        "opção = int(input('Qual sua opção? '))\r\n",
        "\r\n",
        "print('PROCESSANDO...')\r\n",
        "sleep(2)\r\n",
        "\r\n",
        "if opção == 1:\r\n",
        "  print('Sua compra foi de {:.2f}.'.format(num)) \r\n",
        "elif opção == 2:\r\n",
        "  print('Sua compra foi de {:.2f}.'.format(num)) \r\n",
        "elif opção == 3:\r\n",
        "  parcela = num / 2\r\n",
        "  print('Sua compra foi parcelada em 2X de {:.2f} com juros de 5%.'.format(parcela)) \r\n",
        "  print('Sua compra foi de {:.2f}. vai custar R${:.2f} no final'.format(num, juros2x)) \r\n",
        "elif opção == 4:\r\n",
        "  parcela = num / 3\r\n",
        "  print('Sua compra foi parcelada em 3X de {:.2f} com juros de 9%.'.format(parcela)) \r\n",
        "  print('Sua compra foi de {:.2f}. vai custar R${:.2f} no final'.format(num, juros3x)) \r\n",
        "else:\r\n",
        "  print('Opção inválida. Tente novamente.')"
      ],
      "execution_count": null,
      "outputs": [
        {
          "output_type": "stream",
          "text": [
            "==============LOJAS ARAÚJO==============\n",
            "Preço das compras: R$ 60\n",
            "FORMAS DE PAGAMENTO\n",
            "[ 1 ] à vista dinheiro/cheque\n",
            "[ 2 ] à vista cartão\n",
            "[ 3 ] 2X no cartão com juros de 5%\n",
            "[ 4 ] 3X no cartão com juros de 9% \n",
            "Qual sua opção? 3\n",
            "PROCESSANDO...\n",
            "Sua compra foi parcelada em 2X de 30.00 com juros de 5%.\n",
            "Sua compra foi de 60.00. vai custar R$63.00 no final\n"
          ],
          "name": "stdout"
        }
      ]
    },
    {
      "cell_type": "code",
      "metadata": {
        "id": "hVEKa-NiSYAL",
        "colab": {
          "base_uri": "https://localhost:8080/"
        },
        "outputId": "a1443fbb-b1ba-4469-c7a8-f02b89dde389"
      },
      "source": [
        "print('-=-' * 10)\r\n",
        "print('         TABUADA')\r\n",
        "print('-=-' * 10)\r\n",
        "num = int(input('Digite um número para ver a sua tabuada: '))\r\n",
        "for c in range(1, 11):\r\n",
        "  print('{} x {:2} = {}'.format(num, c, num*c))"
      ],
      "execution_count": null,
      "outputs": [
        {
          "output_type": "stream",
          "text": [
            "-=--=--=--=--=--=--=--=--=--=-\n",
            "         TABUADA\n",
            "-=--=--=--=--=--=--=--=--=--=-\n",
            "Digite um número para ver a sua tabuada: 7\n",
            "7 x  1 = 7\n",
            "7 x  2 = 14\n",
            "7 x  3 = 21\n",
            "7 x  4 = 28\n",
            "7 x  5 = 35\n",
            "7 x  6 = 42\n",
            "7 x  7 = 49\n",
            "7 x  8 = 56\n",
            "7 x  9 = 63\n",
            "7 x 10 = 70\n"
          ],
          "name": "stdout"
        }
      ]
    },
    {
      "cell_type": "code",
      "metadata": {
        "colab": {
          "base_uri": "https://localhost:8080/"
        },
        "id": "2kbwgWojBBN9",
        "outputId": "bb08cb0d-4783-4829-f777-40a2d5067240"
      },
      "source": [
        "print('-=-' * 10)\r\n",
        "print('     10 TERMOS DE UMA PA')\r\n",
        "print('-=-' * 10)\r\n",
        "primeiro = int(input('Primeiro termo: '))\r\n",
        "razão = int(input('Razão: '))\r\n",
        "décimo = primeiro + (10 - 1) * razão\r\n",
        "for c in range (primeiro, décimo + razão, razão):\r\n",
        "  print('{}'.format(c), end='-> ')\r\n",
        "print('ACABOU')\r\n"
      ],
      "execution_count": null,
      "outputs": [
        {
          "output_type": "stream",
          "text": [
            "-=--=--=--=--=--=--=--=--=--=-\n",
            "     10 TERMOS DE UMA PA\n",
            "-=--=--=--=--=--=--=--=--=--=-\n",
            "Primeiro termo: 25\n",
            "Razão: 5\n",
            "25-> 30-> 35-> 40-> 45-> 50-> 55-> 60-> 65-> 70-> ACABOU\n"
          ],
          "name": "stdout"
        }
      ]
    },
    {
      "cell_type": "code",
      "metadata": {
        "colab": {
          "base_uri": "https://localhost:8080/"
        },
        "id": "NXTdO1LpDfkI",
        "outputId": "1ebae167-a28c-4f16-cc34-9ceb4a4b7493"
      },
      "source": [
        "import urllib.request\r\n",
        "import pandas as pd\r\n",
        "import json\r\n",
        "import ast\r\n",
        "import datetime\r\n",
        "from datetime import timedelta\r\n",
        "\r\n",
        "def getBTCData(start_date: str = None, end_date: str = None):\r\n",
        "    '''\r\n",
        "    Função que obtem os dados históricos do Bitcoin. \r\n",
        "    Args -\r\n",
        "    start_date : Str - String ('Ano-Mês-dia') contendo a data de início da série histórica. \r\n",
        "                 Default - 5 anos a menos que end_date;\r\n",
        "    end_date : Str - String ('Ano-Mês-dia') contendo a data de fim da série histórica. \r\n",
        "               Default Data atual\r\n",
        "    \r\n",
        "    Returns:\r\n",
        "            Pandas DataFrame. Columns = [Open, High, Low, Close, Volumne], Index = Datetime Object\r\n",
        "    '''\r\n",
        "    now = datetime.datetime.now().date()\r\n",
        "    end = end_date if end_date else now.strftime('%Y-%m-%d')\r\n",
        "    start = start_date if start_date else (now - timedelta(days=1826)).strftime('%Y-%m-%d')\r\n",
        "    url = f\"https://data.messari.io/api/v1/assets/bitcoin/metrics/price/time-series?start={start}&end={end}&interval=1d\"\r\n",
        "    data_dict = urllib.request.urlopen(url).read()\r\n",
        "    data_dict = json.loads(data_dict.decode(\"utf-8\"))\r\n",
        "    df = pd.DataFrame(data_dict['data']['values'], columns = data_dict['data']['parameters']['columns'])\r\n",
        "    df['timestamp'] = pd.to_datetime(df['timestamp'], unit = \"ms\")\r\n",
        "    df.set_index('timestamp', inplace=True)\r\n",
        "    return df\r\n",
        "\r\n",
        "if __name__ == \"__main__\":\r\n",
        "    dados_bitcoin = getBTCData()\r\n",
        "    print(dados_bitcoin.sample(5))"
      ],
      "execution_count": null,
      "outputs": [
        {
          "output_type": "stream",
          "text": [
            "                    open          high  ...         close        volume\n",
            "timestamp                               ...                            \n",
            "2019-05-19   7271.798455   8305.049249  ...   8190.779727  3.125810e+09\n",
            "2017-01-16    820.001167    835.191481  ...    831.449701  5.550954e+07\n",
            "2016-08-22    579.123758    587.925361  ...    585.281605  1.538520e+07\n",
            "2017-07-14   2338.381421   2349.058604  ...   2214.403500  2.038601e+08\n",
            "2020-12-01  19665.003729  19930.772698  ...  18792.608524  6.824014e+09\n",
            "\n",
            "[5 rows x 5 columns]\n"
          ],
          "name": "stdout"
        }
      ]
    },
    {
      "cell_type": "code",
      "metadata": {
        "colab": {
          "base_uri": "https://localhost:8080/"
        },
        "id": "sKmuSElND9kd",
        "outputId": "39682afe-f3b4-4cbe-8a1c-16460d096cd9"
      },
      "source": [
        "num = int (input('Digite umm número:: '))\r\n",
        "tot = 0\r\n",
        "for c in range (1, num + 1):\r\n",
        "  if num % c == 0:\r\n",
        "    print('\\033[33m', end='')\r\n",
        "    tot += 1\r\n",
        "  else:\r\n",
        "    print('\\033[31m', end='')\r\n",
        "  print('{} '.format(c), end='')\r\n",
        "print('\\n\\033[32m O número {} foi divisível {} vezes'.format(num, tot))\r\n",
        "if tot == 2:\r\n",
        "  print('\\033[35m E por isso ele É PRIMO!')\r\n",
        "else:\r\n",
        "  print('\\033[36m E por isso ele NÃO É PRIMO!')"
      ],
      "execution_count": null,
      "outputs": [
        {
          "output_type": "stream",
          "text": [
            "Digite umm número:: 4\n",
            "\u001b[33m1 \u001b[33m2 \u001b[31m3 \u001b[33m4 \n",
            "\u001b[32m O número 4 foi divisível 3 vezes\n",
            "\u001b[36m E por isso ele NÃO É PRIMO!\n"
          ],
          "name": "stdout"
        }
      ]
    },
    {
      "cell_type": "code",
      "metadata": {
        "colab": {
          "base_uri": "https://localhost:8080/"
        },
        "id": "5vsaO9jrHlnF",
        "outputId": "a3e48906-958b-4409-c85b-8867e5fe88f2"
      },
      "source": [
        "print('-=-' * 6)\r\n",
        "print('    PALÍNDROMO')\r\n",
        "print('-=-' * 6)\r\n",
        "frase = str(input('Digite uma frase: ')).strip().upper()\r\n",
        "palavras = frase.split()\r\n",
        "junto = ''.join(palavras)\r\n",
        "print('Você digitou a frase {}'.format(junto))\r\n",
        "inverso = ''\r\n",
        "for letra in range(len(junto) -1, -1, -1):\r\n",
        "  inverso += junto[letra]\r\n",
        "print('O inverso de {} é {}'.format(junto, inverso))\r\n",
        "if inverso == junto:\r\n",
        "  print('\\033[36m Temos um palíndromo!')\r\n",
        "else:\r\n",
        "  print('\\033[36m A frase digitada não é um palíndromo')"
      ],
      "execution_count": null,
      "outputs": [
        {
          "output_type": "stream",
          "text": [
            "-=--=--=--=--=--=-\n",
            "    PALÍNDROMO\n",
            "-=--=--=--=--=--=-\n",
            "Digite uma frase: ana\n",
            "Você digitou a frase ANA\n",
            "O inverso de ANA é ANA\n",
            "\u001b[36m Temos um palíndromo!\n"
          ],
          "name": "stdout"
        }
      ]
    },
    {
      "cell_type": "code",
      "metadata": {
        "id": "m0-MmRhpLARj",
        "colab": {
          "base_uri": "https://localhost:8080/"
        },
        "outputId": "7e30ce1a-2125-4833-e470-02543a2a8a78"
      },
      "source": [
        "print('-=-' * 6)\r\n",
        "print('    MAIORIDADE')\r\n",
        "print('-=-' * 6)\r\n",
        "from datetime import date\r\n",
        "atual = date.today().year\r\n",
        "totmaior = 0\r\n",
        "totmenor = 0\r\n",
        "for pessoa in range(1, 4):\r\n",
        "  nasc = int(input('Em que ano a {} pessoa nasceu? '.format(pessoa)))\r\n",
        "  idade = atual - nasc\r\n",
        "  if idade >= 21:\r\n",
        "    totmaior += 1\r\n",
        "    print('\\033[36m Essa pessoa é maior de idade')\r\n",
        "  else:\r\n",
        "    totmenor += 1\r\n",
        "    print('\\033[30m Essa pessoa é menor de idade')\r\n",
        "print ('Ao todo tivemos {} pessoas maiores de idade'.format(totmaior))\r\n",
        "print ('Ao todo tivemos {} pessoas maiores de idade'.format(totmenor))"
      ],
      "execution_count": null,
      "outputs": [
        {
          "output_type": "stream",
          "text": [
            "-=--=--=--=--=--=-\n",
            "    MAIORIDADE\n",
            "-=--=--=--=--=--=-\n",
            "Em que ano a 1 pessoa nasceu? 2000\n",
            "\u001b[36m Essa pessoa é maior de idade\n",
            "Em que ano a 2 pessoa nasceu? 1986\n",
            "\u001b[36m Essa pessoa é maior de idade\n",
            "Em que ano a 3 pessoa nasceu? 2015\n",
            "\u001b[30m Essa pessoa é menor de idade\n",
            "Ao todo tivemos 2 pessoas maiores de idade\n",
            "Ao todo tivemos 1 pessoas maiores de idade\n"
          ],
          "name": "stdout"
        }
      ]
    },
    {
      "cell_type": "code",
      "metadata": {
        "colab": {
          "base_uri": "https://localhost:8080/"
        },
        "id": "mww-D7tpuZl8",
        "outputId": "d159df70-77bf-4985-ff8f-fa1e63971964"
      },
      "source": [
        "print('-=-' * 6)\r\n",
        "print('    MAIOR PESSO')\r\n",
        "print('-=-' * 6)\r\n",
        "\r\n",
        "maior = 0\r\n",
        "menor = 0\r\n",
        "for p in range(1,6):\r\n",
        "  peso = float(input('Peso da {} pessoa: '.format(p)))\r\n",
        "  if p == 1:\r\n",
        "    maior = peso\r\n",
        "    menor = peso\r\n",
        "     \r\n",
        "  else:\r\n",
        "    if peso > maior:\r\n",
        "      maior = peso\r\n",
        "    if peso < menor:\r\n",
        "      menor = peso\r\n",
        "\r\n",
        "print('O menor valor digitado foi {}kg'.format(menor))\r\n",
        "print('O maior valor digitado foi {}kg'.format(maior))"
      ],
      "execution_count": null,
      "outputs": [
        {
          "output_type": "stream",
          "text": [
            "-=--=--=--=--=--=-\n",
            "    MAIOR PESSO\n",
            "-=--=--=--=--=--=-\n",
            "Peso da 1 pessoa: 100\n",
            "Peso da 2 pessoa: 115\n",
            "Peso da 3 pessoa: 90\n",
            "Peso da 4 pessoa: 80\n",
            "Peso da 5 pessoa: 65\n",
            "O menor valor digitado foi 65.0kg\n",
            "O maior valor digitado foi 115.0kg\n"
          ],
          "name": "stdout"
        }
      ]
    },
    {
      "cell_type": "code",
      "metadata": {
        "colab": {
          "base_uri": "https://localhost:8080/"
        },
        "id": "GQRKTMGtjDpl",
        "outputId": "56c3e896-5579-4905-92f6-f100c464487c"
      },
      "source": [
        "print('-=-' * 10)\r\n",
        "print('  COLETA DE DADOS PESSOAIS')\r\n",
        "print('-=-' * 10)\r\n",
        "\r\n",
        "somaidade = 0\r\n",
        "médiaidade = 0\r\n",
        "maioridadehomem = 0\r\n",
        "nomevelho = 0\r\n",
        "totmulher20 = 0\r\n",
        "for p in range(1,5):\r\n",
        "  print('------ {}ª PESSOA ------'.format(p))\r\n",
        "  nome = str(input('Nome: ')).strip()\r\n",
        "  idade = int(input('Idade: '))\r\n",
        "  sexo = str(input('Sexo [M/F]: ')).strip()\r\n",
        "  somaidade += idade\r\n",
        "  if p == 1 and sexo in 'Mm':\r\n",
        "    maioridadehomem = idade\r\n",
        "    nomevelho = nome\r\n",
        "  if sexo in 'Mm' and idade > maioridadehomem:\r\n",
        "    maioridadehomem = idade\r\n",
        "    nomevelho = nome\r\n",
        "  if sexo in 'Ff' and idade < 20:\r\n",
        "    totmulher20 += 1\r\n",
        "médiadade = somaidade / 4\r\n",
        "\r\n",
        "print('A média de idade do grupo é de {} anos'.format(médiadade))\r\n",
        "print('O homem mais velho tem {} anos e se chama {}'.format(maioridadehomem, nomevelho))\r\n",
        "print('Ao todo são {} mulheres com menos de 20 anos'.format(totmulher20))\r\n"
      ],
      "execution_count": null,
      "outputs": [
        {
          "output_type": "stream",
          "text": [
            "-=--=--=--=--=--=--=--=--=--=-\n",
            "  COLETA DE DADOS PESSOAIS\n",
            "-=--=--=--=--=--=--=--=--=--=-\n",
            "------ 1ª PESSOA ------\n",
            "Nome: Andre\n",
            "Idade: 34\n",
            "Sexo [M/F]: M\n",
            "------ 2ª PESSOA ------\n",
            "Nome: Izolda\n",
            "Idade: 59\n",
            "Sexo [M/F]: F\n",
            "------ 3ª PESSOA ------\n",
            "Nome: Juliana\n",
            "Idade: 32\n",
            "Sexo [M/F]: F\n",
            "------ 4ª PESSOA ------\n",
            "Nome: Larissa\n",
            "Idade: 27 \n",
            "Sexo [M/F]: F\n",
            "A média de idade do grupo é de 38.0 anos\n",
            "O homem mais velho tem 34 anos e se chama Andre\n",
            "Ao todo são 0 mulheres com menos de 20 anos\n"
          ],
          "name": "stdout"
        }
      ]
    },
    {
      "cell_type": "code",
      "metadata": {
        "colab": {
          "base_uri": "https://localhost:8080/"
        },
        "id": "3a1N8K1DNUim",
        "outputId": "699291bb-a3b2-40ab-faed-d1d526f55fc0"
      },
      "source": [
        "print('-=-' * 10)\r\n",
        "print('  VALIDAÇÃO DE DADOS')\r\n",
        "print('-=-' * 10)\r\n",
        "\r\n",
        "for p in range(1, 10):\r\n",
        "  sexo = str(input('Informe seu Sexo [M/F]: ')).strip()\r\n",
        "  if sexo in 'Mm' or sexo in 'Ff':\r\n",
        "    print('Sexo {} registrado com sucesso'.format(sexo))\r\n",
        "  else:\r\n",
        "    print('Dados inválidos. Por favor, informe seu sexo {}'.format(sexo))\r\n",
        "    \r\n"
      ],
      "execution_count": null,
      "outputs": [
        {
          "output_type": "stream",
          "text": [
            "-=--=--=--=--=--=--=--=--=--=-\n",
            "  VALIDAÇÃO DE DADOS\n",
            "-=--=--=--=--=--=--=--=--=--=-\n",
            "Informe seu Sexo [M/F]: a\n",
            "Dados inválidos. Por favor, informe seu sexo a\n",
            "Informe seu Sexo [M/F]: f\n",
            "Sexo f registrado com sucesso\n",
            "Informe seu Sexo [M/F]: F\n",
            "Sexo F registrado com sucesso\n",
            "Informe seu Sexo [M/F]: m\n",
            "Sexo m registrado com sucesso\n",
            "Informe seu Sexo [M/F]: M\n",
            "Sexo M registrado com sucesso\n",
            "Informe seu Sexo [M/F]: t\n",
            "Dados inválidos. Por favor, informe seu sexo t\n",
            "Informe seu Sexo [M/F]: M\n",
            "Sexo M registrado com sucesso\n",
            "Informe seu Sexo [M/F]: a\n",
            "Dados inválidos. Por favor, informe seu sexo a\n",
            "Informe seu Sexo [M/F]: d\n",
            "Dados inválidos. Por favor, informe seu sexo d\n"
          ],
          "name": "stdout"
        }
      ]
    },
    {
      "cell_type": "code",
      "metadata": {
        "colab": {
          "base_uri": "https://localhost:8080/"
        },
        "id": "xho9jlbzWa_i",
        "outputId": "408b0ff8-f511-443a-da4e-3d018414d284"
      },
      "source": [
        "sexo = str(input('Informe seu Sexo [M/F]: ')).strip()\r\n",
        "while sexo not in 'MmFf':\r\n",
        "  sexo = str(input('Dados inválidos. Por favor, informe seu sexo :')).strip()\r\n",
        "print('Sexo {} registrado com sucesso'.format(sexo))"
      ],
      "execution_count": null,
      "outputs": [
        {
          "output_type": "stream",
          "text": [
            "Informe seu Sexo [M/F]: a\n",
            "Dados inválidos. Por favor, informe seu sexo :d\n",
            "Dados inválidos. Por favor, informe seu sexo :e\n",
            "Dados inválidos. Por favor, informe seu sexo :c\n",
            "Dados inválidos. Por favor, informe seu sexo :m\n",
            "Sexo m registrado com sucesso\n"
          ],
          "name": "stdout"
        }
      ]
    },
    {
      "cell_type": "code",
      "metadata": {
        "colab": {
          "base_uri": "https://localhost:8080/"
        },
        "id": "jFA2EqB72fH4",
        "outputId": "7550b934-26c2-4545-c1cd-e3596c4a9391"
      },
      "source": [
        "print('-=-' * 10)\r\n",
        "print('  JOGO DE ADIVINHAR')\r\n",
        "print('-=-' * 10)\r\n",
        "\r\n",
        "from random import randint\r\n",
        "from time import sleep\r\n",
        "pc = randint(0, 10) #Faz o PC gerar números aleatórios\r\n",
        "print('Sou seu computador...')\r\n",
        "print('-=-' * 20)\r\n",
        "print('Acabei de pensar em um número entre 0 e 10. Tente adivinhar...')\r\n",
        "print('-=-' * 20)\r\n",
        "print('Será que você consegue adivinhar qual foi?')\r\n",
        "acertou = False\r\n",
        "palpites = 0\r\n",
        "while not acertou:\r\n",
        "  jogador = int(input('Qual seu palpite? ')) #Jogador tenta adivinhar\r\n",
        "  palpites += 1\r\n",
        "  print('PROCESSANDO...')\r\n",
        "  sleep(3)\r\n",
        "  if jogador == pc:\r\n",
        "    acertou = True\r\n",
        "    print('PARABÉNS! Você conseguiu me vencer! eu pensei em {} e você também!'.format(pc))\r\n",
        "  elif jogador >= pc: \r\n",
        "    print('Menos... Tente mais uma vez.')\r\n",
        "  elif jogador <= pc:\r\n",
        "    print('Mais... Tente mais uma vez.')\r\n",
        "print('Parabéns, acertou com {} tentativas'.format(palpites))\r\n"
      ],
      "execution_count": null,
      "outputs": [
        {
          "output_type": "stream",
          "text": [
            "-=--=--=--=--=--=--=--=--=--=-\n",
            "  JOGO DE ADIVINHAR\n",
            "-=--=--=--=--=--=--=--=--=--=-\n",
            "Sou seu computador...\n",
            "-=--=--=--=--=--=--=--=--=--=--=--=--=--=--=--=--=--=--=--=-\n",
            "Acabei de pensar em um número entre 0 e 10. Tente adivinhar...\n",
            "-=--=--=--=--=--=--=--=--=--=--=--=--=--=--=--=--=--=--=--=-\n",
            "Será que você consegue adivinhar qual foi?\n",
            "Qual seu palpite? 5\n",
            "PROCESSANDO...\n",
            "Menos... Tente mais uma vez.\n",
            "Qual seu palpite? 2\n",
            "PROCESSANDO...\n",
            "PARABÉNS! Você conseguiu me vencer! eu pensei em 2 e você também!\n",
            "Parabéns, acertou com 2 tentativas\n"
          ],
          "name": "stdout"
        }
      ]
    },
    {
      "cell_type": "code",
      "metadata": {
        "colab": {
          "base_uri": "https://localhost:8080/"
        },
        "id": "dhsGAltoERXZ",
        "outputId": "d5c44bf7-56db-456b-b2eb-7a1c71ffd6f7"
      },
      "source": [
        "print('-=-' * 10)\r\n",
        "print('  Menu de Opções')\r\n",
        "print('-=-' * 10)\r\n",
        "from time import sleep\r\n",
        "print ('{:=^40}'.format('ARAÚJO'))\r\n",
        "primeiro = int(input('Primeiro valor:  '))\r\n",
        "segundo = int(input('Segundo valor:  '))\r\n",
        "opção = 0\r\n",
        "while opção != 5:\r\n",
        "  print('''ITENS\r\n",
        "      [ 1 ] somar\r\n",
        "      [ 2 ] multiplicar\r\n",
        "      [ 3 ] maior\r\n",
        "      [ 4 ] novos números\r\n",
        "      [ 5 ] sair do programa ''')\r\n",
        "  opção = int(input('Qual sua opção? '))\r\n",
        "  print('PROCESSANDO...')\r\n",
        "  sleep(2)\r\n",
        "\r\n",
        "        #  print('Opção inválida. Tente novamente.')\r\n",
        "  if opção == 1:\r\n",
        "                  somar = primeiro + segundo\r\n",
        "                  print('A soma foi {:.2f}.'.format(somar)) \r\n",
        "  elif opção == 2:\r\n",
        "                  mult = primeiro * segundo\r\n",
        "                  \r\n",
        "                  print('A mult foi {:.2f}.'.format(mult)) \r\n",
        "  elif opção == 3:\r\n",
        "                  # Verificando quem é maior\r\n",
        "                  if segundo >= primeiro:\r\n",
        "                      segundo = segundo\r\n",
        "                      print('O segundo número é {:.2f} e é maior que o primeiro'.format(segundo))\r\n",
        "                  # Verificando quem é menor\r\n",
        "                  elif primeiro >= segundo:\r\n",
        "                      primeiro = primeiro\r\n",
        "                      print('O primeiro número é {:.2f} e é maior que o segundo'.format(primeiro))\r\n",
        "  elif opção == 4:\r\n",
        "              primeiro = int(input('Primeiro valor:  '))\r\n",
        "              segundo = int(input('Segundo valor:  '))\r\n",
        "  elif opção == 5:\r\n",
        "              print('Finalizando...')\r\n",
        "  else:\r\n",
        "        print('Opção inválida. Tente novamente.')\r\n",
        "print('Fim do programa! Volte sempre.')"
      ],
      "execution_count": null,
      "outputs": [
        {
          "output_type": "stream",
          "text": [
            "-=--=--=--=--=--=--=--=--=--=-\n",
            "  Menu de Opções\n",
            "-=--=--=--=--=--=--=--=--=--=-\n",
            "=================ARAÚJO=================\n",
            "Primeiro valor:  55\n",
            "Segundo valor:  44\n",
            "ITENS\n",
            "      [ 1 ] somar\n",
            "      [ 2 ] multiplicar\n",
            "      [ 3 ] maior\n",
            "      [ 4 ] novos números\n",
            "      [ 5 ] sair do programa \n",
            "Qual sua opção? 3\n",
            "PROCESSANDO...\n",
            "O primeiro número é 55.00 e é maior que o segundo\n",
            "ITENS\n",
            "      [ 1 ] somar\n",
            "      [ 2 ] multiplicar\n",
            "      [ 3 ] maior\n",
            "      [ 4 ] novos números\n",
            "      [ 5 ] sair do programa \n",
            "Qual sua opção? 1\n",
            "PROCESSANDO...\n",
            "A soma foi 99.00.\n",
            "ITENS\n",
            "      [ 1 ] somar\n",
            "      [ 2 ] multiplicar\n",
            "      [ 3 ] maior\n",
            "      [ 4 ] novos números\n",
            "      [ 5 ] sair do programa \n",
            "Qual sua opção? 2\n",
            "PROCESSANDO...\n",
            "A mult foi 2420.00.\n",
            "ITENS\n",
            "      [ 1 ] somar\n",
            "      [ 2 ] multiplicar\n",
            "      [ 3 ] maior\n",
            "      [ 4 ] novos números\n",
            "      [ 5 ] sair do programa \n",
            "Qual sua opção? 5\n",
            "PROCESSANDO...\n",
            "Finalizando...\n",
            "Fim do programa! Volte sempre.\n"
          ],
          "name": "stdout"
        }
      ]
    },
    {
      "cell_type": "code",
      "metadata": {
        "id": "yPNOnzAFQppW",
        "colab": {
          "base_uri": "https://localhost:8080/"
        },
        "outputId": "1f09585e-8e47-4b62-eab9-af613ae3fcdf"
      },
      "source": [
        "print('-=-' * 4)\r\n",
        "print('  FATORIAL')\r\n",
        "print('-=-' * 4)\r\n",
        "n = int(input('Digite um número para calcular o seu fatorial: '))\r\n",
        "c = n \r\n",
        "f = 1\r\n",
        "print('\\033[32m Calculando o fatorial de {}! '.format(n), end='')\r\n",
        "while c > 0:\r\n",
        "  print('{}'.format(c), end='')\r\n",
        "  print(' x ' if c > 1 else ' = ', end='') #end é para concatenar \r\n",
        "  f *= c # f = f * c\r\n",
        "  c -= 1 #tirar 1 do c\r\n",
        "print('{}'.format(f))"
      ],
      "execution_count": null,
      "outputs": [
        {
          "output_type": "stream",
          "text": [
            "-=--=--=--=-\n",
            "  FATORIAL\n",
            "-=--=--=--=-\n",
            "Digite um número para calcular o seu fatorial: 5\n",
            "\u001b[32m Calculando o fatorial de 5! 5 x 4 x 3 x 2 x 1 = 120\n"
          ],
          "name": "stdout"
        }
      ]
    },
    {
      "cell_type": "code",
      "metadata": {
        "colab": {
          "base_uri": "https://localhost:8080/"
        },
        "id": "xq4rsHtTlcAS",
        "outputId": "dd430b1e-57f3-4c94-95b0-6b6bc8ee3003"
      },
      "source": [
        "from math import factorial\r\n",
        "n = int(input('Digite um número para calcular seu fatorial: '))\r\n",
        "f = factorial(n)\r\n",
        "print('o fatorial de {} é {:2}.'.format(n, f))"
      ],
      "execution_count": null,
      "outputs": [
        {
          "output_type": "stream",
          "text": [
            "Digite um número para calcular seu fatorial: 5\n",
            "o fatorial de 5 é 120.\n"
          ],
          "name": "stdout"
        }
      ]
    },
    {
      "cell_type": "code",
      "metadata": {
        "colab": {
          "base_uri": "https://localhost:8080/"
        },
        "id": "9DBS31bnoDip",
        "outputId": "ffa44aa6-a252-444e-ba43-6e8ed47162eb"
      },
      "source": [
        "print('-=-' * 10)\r\n",
        "print('     GERADOR DE UMA PA')\r\n",
        "print('-=-' * 10)\r\n",
        "primeiro = int(input('Primeiro termo: '))\r\n",
        "razão = int(input('Razão: '))\r\n",
        "termo = primeiro\r\n",
        "cont = 1\r\n",
        "while cont <= 10:\r\n",
        "  print('{} -> '.format(termo), end='')\r\n",
        "  termo += razão\r\n",
        "  cont += 1\r\n",
        "print('ACABOU')"
      ],
      "execution_count": null,
      "outputs": [
        {
          "output_type": "stream",
          "text": [
            "-=--=--=--=--=--=--=--=--=--=-\n",
            "     GERADOR DE UMA PA\n",
            "-=--=--=--=--=--=--=--=--=--=-\n",
            "Primeiro termo: 2\n",
            "Razão: 5\n",
            "2 -> 7 -> 12 -> 17 -> 22 -> 27 -> 32 -> 37 -> 42 -> 47 -> ACABOU\n"
          ],
          "name": "stdout"
        }
      ]
    },
    {
      "cell_type": "code",
      "metadata": {
        "id": "ohnD4LQjqdGD",
        "colab": {
          "base_uri": "https://localhost:8080/"
        },
        "outputId": "a23a6a0b-0c77-4988-9b7b-a87dd49eb0f6"
      },
      "source": [
        "print('-=-' * 10)\r\n",
        "print('     GERADOR DE UMA PA')\r\n",
        "print('-=-' * 10)\r\n",
        "primeiro = int(input('Primeiro termo: '))\r\n",
        "razão = int(input('Razão: '))\r\n",
        "termo = primeiro\r\n",
        "cont = 1\r\n",
        "total = 0\r\n",
        "mais = 10\r\n",
        "while mais != 0:\r\n",
        "  total = total + mais\r\n",
        "  while cont <= total:\r\n",
        "    print('{} -> '.format(termo), end='')\r\n",
        "    termo += razão\r\n",
        "    cont += 1\r\n",
        "  print ('PAUSA')\r\n",
        "  mais =  int(input('Quantos termos você quer mostrar a mais? '))\r\n",
        "print(f'Progressão finalizada com {total} termos mostrados') "
      ],
      "execution_count": null,
      "outputs": [
        {
          "output_type": "stream",
          "text": [
            "-=--=--=--=--=--=--=--=--=--=-\n",
            "     GERADOR DE UMA PA\n",
            "-=--=--=--=--=--=--=--=--=--=-\n",
            "Primeiro termo: 0\n",
            "Razão: 5\n",
            "0 -> 5 -> 10 -> 15 -> 20 -> 25 -> 30 -> 35 -> 40 -> 45 -> PAUSA\n",
            "Quantos termos você quer mostrar a mais? 4\n",
            "50 -> 55 -> 60 -> 65 -> PAUSA\n",
            "Quantos termos você quer mostrar a mais? 5\n",
            "70 -> 75 -> 80 -> 85 -> 90 -> PAUSA\n",
            "Quantos termos você quer mostrar a mais? 7\n",
            "95 -> 100 -> 105 -> 110 -> 115 -> 120 -> 125 -> PAUSA\n",
            "Quantos termos você quer mostrar a mais? 0\n",
            "Progressão finalizada com 26 termos mostrados\n"
          ],
          "name": "stdout"
        }
      ]
    },
    {
      "cell_type": "code",
      "metadata": {
        "id": "1vIwulZ9vGzb",
        "colab": {
          "base_uri": "https://localhost:8080/"
        },
        "outputId": "95c1e968-4b19-46f4-caa0-1a171bfa2865"
      },
      "source": [
        "print('-=-' * 10)\r\n",
        "print('     Sequência de Fibonacci')\r\n",
        "print('-=-' * 10)\r\n",
        "n = int(input('Que termo deseja encontrar: '))\r\n",
        "t1 = 1\r\n",
        "t2 = 1\r\n",
        "print(f'{t1} -> {t2}', end='')\r\n",
        "cont = 3\r\n",
        "while cont <= n:\r\n",
        "      t3 = t1 + t2\r\n",
        "      print(f' -> {t3}', end='')\r\n",
        "      t1 = t2\r\n",
        "      t2 = t3\r\n",
        "      cont += 1\r\n",
        "print(' -> FIM')\r\n",
        "  \r\n"
      ],
      "execution_count": null,
      "outputs": [
        {
          "output_type": "stream",
          "text": [
            "-=--=--=--=--=--=--=--=--=--=-\n",
            "     Sequência de Fibonacci\n",
            "-=--=--=--=--=--=--=--=--=--=-\n",
            "Que termo deseja encontrar: 10\n",
            "1 -> 1 -> 2 -> 3 -> 5 -> 8 -> 13 -> 21 -> 34 -> 55 -> FIM\n",
            "ACABOU\n"
          ],
          "name": "stdout"
        }
      ]
    },
    {
      "cell_type": "code",
      "metadata": {
        "id": "OLsJKsUA0Rz7",
        "colab": {
          "base_uri": "https://localhost:8080/"
        },
        "outputId": "2d01e6ab-e919-4885-8d57-1e6b4f8756de"
      },
      "source": [
        "print('-=-' * 10)\r\n",
        "print('     Condição de parada')\r\n",
        "print('-=-' * 10)\r\n",
        "n = soma = cont = 0\r\n",
        "while n != 999:\r\n",
        "    n = int(input('Digite um número [coloque 999 para parar]: '))\r\n",
        "    soma += n\r\n",
        "    cont += 1  #quantidade de números que você digitou\r\n",
        "print(f'Você digitou {cont - 1} números e a soma entre eles foi {soma - 999}')\r\n",
        " "
      ],
      "execution_count": null,
      "outputs": [
        {
          "output_type": "stream",
          "text": [
            "-=--=--=--=--=--=--=--=--=--=-\n",
            "     Condição de parada\n",
            "-=--=--=--=--=--=--=--=--=--=-\n",
            "Digite um número [coloque 999 para parar]: 8\n",
            "Digite um número [coloque 999 para parar]: 7\n",
            "Digite um número [coloque 999 para parar]: 999\n",
            "Você digitou 2 números e a soma entre eles foi 15\n"
          ],
          "name": "stdout"
        }
      ]
    },
    {
      "cell_type": "code",
      "metadata": {
        "id": "7xqGuk3Weqb2",
        "colab": {
          "base_uri": "https://localhost:8080/"
        },
        "outputId": "5edb87eb-0bc9-4ce5-a9b2-e51e65857d41"
      },
      "source": [
        "fim = int(input('Digite o último número a imprimir: '))\r\n",
        "x = 0\r\n",
        "while x <= fim:\r\n",
        "  # if x % 2 == 0:\r\n",
        "  print(x)\r\n",
        "  x += 2"
      ],
      "execution_count": null,
      "outputs": [
        {
          "output_type": "stream",
          "text": [
            "Digite o último número a imprimir: 5\n",
            "0\n",
            "2\n",
            "4\n"
          ],
          "name": "stdout"
        }
      ]
    },
    {
      "cell_type": "code",
      "metadata": {
        "id": "Hxbh8T-5KpfI",
        "colab": {
          "base_uri": "https://localhost:8080/"
        },
        "outputId": "5d4a5d59-7748-4ed9-8df4-56fecb65d434"
      },
      "source": [
        "x = 1\r\n",
        "soma = 0\r\n",
        "while x <= 5:\r\n",
        "  n = int(input('Digite o número: '))\r\n",
        "  soma += n\r\n",
        "  x += 1\r\n",
        "print(f'Média: {soma / 5:5.2f}')\r\n",
        "print(f'Você tentou {x - 1} vezes')"
      ],
      "execution_count": null,
      "outputs": [
        {
          "output_type": "stream",
          "text": [
            "Digite o número: 5\n",
            "Digite o número: 6\n",
            "Digite o número: 44\n",
            "Digite o número: 88\n",
            "Digite o número: 999\n",
            "Média: 228.40\n",
            "Você tentou 5 vezes\n"
          ],
          "name": "stdout"
        }
      ]
    },
    {
      "cell_type": "code",
      "metadata": {
        "id": "8j7Qq6zoXft2",
        "colab": {
          "base_uri": "https://localhost:8080/"
        },
        "outputId": "44e6d8b2-598a-42cb-994a-6532146f097b"
      },
      "source": [
        "s = 0\r\n",
        "while True:\r\n",
        "  v = int(input('Digite um número a somar ou 0 para sair: '))\r\n",
        "  if v == 0:\r\n",
        "    break\r\n",
        "  s += v\r\n",
        "print(f'A soma foi de {s:5.2f}')"
      ],
      "execution_count": null,
      "outputs": [
        {
          "output_type": "stream",
          "text": [
            "Digite um número a somar ou 0 para sair: 5656\n",
            "Digite um número a somar ou 0 para sair: 45445\n",
            "Digite um número a somar ou 0 para sair: 2\n",
            "Digite um número a somar ou 0 para sair: 4445\n",
            "Digite um número a somar ou 0 para sair: 0\n",
            "A soma foi de 55548.00\n"
          ],
          "name": "stdout"
        }
      ]
    },
    {
      "cell_type": "code",
      "metadata": {
        "id": "5t0GqCoFrSZ4",
        "colab": {
          "base_uri": "https://localhost:8080/"
        },
        "outputId": "acc681bb-7d6a-475e-e4e6-7f93c0c28ecf"
      },
      "source": [
        "print('-=-' * 10)\r\n",
        "print('     Contagem de cédulas')\r\n",
        "print('-=-' * 10)\r\n",
        "valor = float(input(\"Digite o valor a pagar: \"))\r\n",
        "print(f'Total a pagar R${nota} ')\r\n",
        "cédulas = 0\r\n",
        "atual = 100\r\n",
        "apagar = valor\r\n",
        "while True:\r\n",
        "    if atual <= apagar:\r\n",
        "        apagar -= atual\r\n",
        "        cédulas += 1\r\n",
        "    else:\r\n",
        "        if atual >= 1:\r\n",
        "            print(f\"{cédulas} cédula(s) de R${atual:5.2f}\")\r\n",
        "        else:\r\n",
        "            print(f\"{cédulas} moeda(s) de R${atual:5.2f}\")\r\n",
        "        if apagar < 0.01:\r\n",
        "            break\r\n",
        "        elif atual == 100:\r\n",
        "            atual = 50\r\n",
        "        elif atual == 50:\r\n",
        "            atual = 20\r\n",
        "        elif atual == 20:\r\n",
        "            atual = 10\r\n",
        "        elif atual == 10:\r\n",
        "            atual = 5\r\n",
        "        elif atual == 5:\r\n",
        "            atual = 1\r\n",
        "        elif atual == 1:\r\n",
        "            atual = 0.50\r\n",
        "        elif atual == 0.50:\r\n",
        "            atual = 0.10\r\n",
        "        elif atual == 0.10:\r\n",
        "            atual = 0.05\r\n",
        "        elif atual == 0.05:\r\n",
        "            atual = 0.02\r\n",
        "        elif atual == 0.02:\r\n",
        "            atual = 0.01\r\n",
        "        elif atual == 0.01:\r\n",
        "            atual = 0.00\r\n",
        "        cédulas = 0"
      ],
      "execution_count": null,
      "outputs": [
        {
          "output_type": "stream",
          "text": [
            "-=--=--=--=--=--=--=--=--=--=-\n",
            "     Contagem de cédulas\n",
            "-=--=--=--=--=--=--=--=--=--=-\n",
            "Digite o valor a pagar: 5.39\n",
            "Total a pagar R$5.5 \n",
            "0 cédula(s) de R$100.00\n",
            "0 cédula(s) de R$50.00\n",
            "0 cédula(s) de R$20.00\n",
            "0 cédula(s) de R$10.00\n",
            "1 cédula(s) de R$ 5.00\n",
            "0 cédula(s) de R$ 1.00\n",
            "0 moeda(s) de R$ 0.50\n",
            "3 moeda(s) de R$ 0.10\n",
            "1 moeda(s) de R$ 0.05\n",
            "1 moeda(s) de R$ 0.02\n",
            "1 moeda(s) de R$ 0.01\n"
          ],
          "name": "stdout"
        }
      ]
    },
    {
      "cell_type": "code",
      "metadata": {
        "colab": {
          "base_uri": "https://localhost:8080/"
        },
        "id": "k0RubT0pGfiE",
        "outputId": "36ad9a1f-3dc7-4242-8ad0-22e76bdde198"
      },
      "source": [
        "print('-=-' * 13)\r\n",
        "print(' Cálculo da média com notas digitadas')\r\n",
        "print('-=-' * 13)\r\n",
        "notas = [0, 0, 0, 0, 0] #criação de uma lista\r\n",
        "soma = 0\r\n",
        "x = 0\r\n",
        "while x < 5:\r\n",
        "  notas[x] = float(input(f'Nota {x}: ')) #insere notas em uma lista x\r\n",
        "  soma += notas[x] #soma = soma + notas[x]\r\n",
        "  x += 1 # x = x + 1\r\n",
        "x = 0 # reinia x para 0\r\n",
        "while x < 5:\r\n",
        "  print(f'Nota {x}: {notas[x]:5.2f}')\r\n",
        "  x += 1\r\n",
        "print(f'\\033[32mMédia:{soma / x:5.2f}') #cálcula a média "
      ],
      "execution_count": null,
      "outputs": [
        {
          "output_type": "stream",
          "text": [
            "-=--=--=--=--=--=--=--=--=--=--=--=--=-\n",
            " Cálculo da média com notas digitadas\n",
            "-=--=--=--=--=--=--=--=--=--=--=--=--=-\n",
            "Nota 0: 5\n",
            "Nota 1: 6\n",
            "Nota 2: 8\n",
            "Nota 3: 9\n",
            "Nota 4: 10\n",
            "Nota 0:  5.00\n",
            "Nota 1:  6.00\n",
            "Nota 2:  8.00\n",
            "Nota 3:  9.00\n",
            "Nota 4: 10.00\n",
            "\u001b[32mMédia: 7.60\n"
          ],
          "name": "stdout"
        }
      ]
    },
    {
      "cell_type": "code",
      "metadata": {
        "colab": {
          "base_uri": "https://localhost:8080/"
        },
        "id": "a69-sE6IKrHk",
        "outputId": "dd71fb2f-75b7-46e4-ed13-db4300665540"
      },
      "source": [
        "print('-=-' * 10)\r\n",
        "print('   Apresentação de números')\r\n",
        "print('-=-' * 10)\r\n",
        "números = [0, 0, 0, 0, 0]\r\n",
        "x = 0\r\n",
        "while x < 5:\r\n",
        "  números[x] = int(input(f'Número {x + 1}: \r\n",
        "  '))\r\n",
        "  x += 1\r\n",
        "  while True:\r\n",
        "    escolhido = int(input('Digite posição que você quer imprimir (0 para sair): '))\r\n",
        "    if escolhido == 0:\r\n",
        "      break\r\n",
        "    print(f'Você escolheu o número: {números[escolhido - 1]}')"
      ],
      "execution_count": null,
      "outputs": [
        {
          "output_type": "stream",
          "text": [
            "-=--=--=--=--=--=--=--=--=--=-\n",
            "   Apresentação de números\n",
            "-=--=--=--=--=--=--=--=--=--=-\n",
            "Número 1: 15\n",
            "Digite posição que você quer imprimir (0 para sair): 1\n",
            "Você escolheu o número: 15\n",
            "Digite posição que você quer imprimir (0 para sair): 0\n",
            "Número 2: 12\n",
            "Digite posição que você quer imprimir (0 para sair): 2\n",
            "Você escolheu o número: 12\n",
            "Digite posição que você quer imprimir (0 para sair): 0\n",
            "Número 3: 5\n",
            "Digite posição que você quer imprimir (0 para sair): 3\n",
            "Você escolheu o número: 5\n",
            "Digite posição que você quer imprimir (0 para sair): 0\n",
            "Número 4: 7\n",
            "Digite posição que você quer imprimir (0 para sair): 4\n",
            "Você escolheu o número: 7\n",
            "Digite posição que você quer imprimir (0 para sair): 0\n",
            "Número 5: 9\n",
            "Digite posição que você quer imprimir (0 para sair): 5\n",
            "Você escolheu o número: 9\n",
            "Digite posição que você quer imprimir (0 para sair): 1\n",
            "Você escolheu o número: 15\n",
            "Digite posição que você quer imprimir (0 para sair): 2\n",
            "Você escolheu o número: 12\n",
            "Digite posição que você quer imprimir (0 para sair): 3\n",
            "Você escolheu o número: 5\n",
            "Digite posição que você quer imprimir (0 para sair): 4\n",
            "Você escolheu o número: 7\n",
            "Digite posição que você quer imprimir (0 para sair): 5\n",
            "Você escolheu o número: 9\n",
            "Digite posição que você quer imprimir (0 para sair): 0\n"
          ],
          "name": "stdout"
        }
      ]
    },
    {
      "cell_type": "code",
      "metadata": {
        "id": "T5dPWhw-a5sX",
        "colab": {
          "base_uri": "https://localhost:8080/"
        },
        "outputId": "d7032882-5de7-40a8-ace7-ad105cbba1b7"
      },
      "source": [
        "print('-=-' * 10)\r\n",
        "print('    Maior e menor valores')\r\n",
        "print('-=-' * 10)\r\n",
        "resp = 'S'\r\n",
        "num = média = maior = menor = quant = 0\r\n",
        "while resp in 'Ss':\r\n",
        "    num = int(input('Digite um número: '))\r\n",
        "    soma += num\r\n",
        "    quant += 1\r\n",
        "    if quant == 1:\r\n",
        "      maior = menor = num\r\n",
        "    else:\r\n",
        "      if num > maior:\r\n",
        "        maior = num\r\n",
        "      if num < menor:\r\n",
        "        menor = num\r\n",
        "    resp = str(input('Você quer continuar? [S/N] ')).upper().strip()[0] #Joga para maiuscula, depois retira os espaços e só considera a prima letra [0]\r\n",
        "média = soma / quant\r\n",
        "print(f'Você digitou {quant} números e a média foi \\033[32m{média:5.2f}') #cálcula a média \r\n",
        "print(f'O maior valor foi {maior} e o menor foi {menor}')"
      ],
      "execution_count": null,
      "outputs": [
        {
          "output_type": "stream",
          "text": [
            "-=--=--=--=--=--=--=--=--=--=-\n",
            "    Maior e menor valores\n",
            "-=--=--=--=--=--=--=--=--=--=-\n",
            "Digite um número: 5\n",
            "Você quer continuar? [S/N] s\n",
            "Digite um número: 9\n",
            "Você quer continuar? [S/N] ss\n",
            "Digite um número: 8\n",
            "Você quer continuar? [S/N] S\n",
            "Digite um número: 10\n",
            "Você quer continuar? [S/N] n\n",
            "Você digitou 4 números e a média foi \u001b[32m28.00\n",
            "O maior valor foi 10 e o menor foi 5\n"
          ],
          "name": "stdout"
        }
      ]
    },
    {
      "cell_type": "code",
      "metadata": {
        "colab": {
          "base_uri": "https://localhost:8080/"
        },
        "id": "0NgzTofzClWI",
        "outputId": "b60541fe-733d-4ac7-d29b-1d637ab0cf4b"
      },
      "source": [
        "print('-=-' * 10)\r\n",
        "print('     Condição de parada')\r\n",
        "print('-=-' * 10)\r\n",
        "n = soma = cont = 0\r\n",
        "while True:\r\n",
        "    n = int(input('Digite um número [coloque 999 para parar]: '))\r\n",
        "    if n == 999:\r\n",
        "      break\r\n",
        "    soma += n\r\n",
        "    cont += 1  #quantidade de números que você digitou\r\n",
        "print(f'Você digitou {cont} números e a soma entre eles foi {soma}')"
      ],
      "execution_count": null,
      "outputs": [
        {
          "output_type": "stream",
          "text": [
            "-=--=--=--=--=--=--=--=--=--=-\n",
            "     Condição de parada\n",
            "-=--=--=--=--=--=--=--=--=--=-\n",
            "Digite um número [coloque 999 para parar]: 8\n",
            "Digite um número [coloque 999 para parar]: 9\n",
            "Digite um número [coloque 999 para parar]: 7\n",
            "Digite um número [coloque 999 para parar]: 4\n",
            "Digite um número [coloque 999 para parar]: 5\n",
            "Digite um número [coloque 999 para parar]: 999\n",
            "Você digitou 5 números e a soma entre eles foi 33\n"
          ],
          "name": "stdout"
        }
      ]
    },
    {
      "cell_type": "code",
      "metadata": {
        "colab": {
          "base_uri": "https://localhost:8080/"
        },
        "id": "fvriZsVqVV2c",
        "outputId": "55fa820c-5677-417c-ee87-aad5db6b18d4"
      },
      "source": [
        "while True:\r\n",
        "  n = int(input('Quer ver a tabuada de qual valor? '))\r\n",
        "  if n < 0:\r\n",
        "    break\r\n",
        "  print ('_' * 33)\r\n",
        "  for c in range (1,11):\r\n",
        "    print(f'{n} x {c} = {n*c}')\r\n",
        "  print ('_' * 33)\r\n",
        "print('Programa tabuada encerrado. Volte sempre!!!!')"
      ],
      "execution_count": null,
      "outputs": [
        {
          "output_type": "stream",
          "text": [
            "Quer ver a tabuada de qual valor? 8\n",
            "______________________________\n",
            "8 x 1 = 8\n",
            "8 x 2 = 16\n",
            "8 x 3 = 24\n",
            "8 x 4 = 32\n",
            "8 x 5 = 40\n",
            "8 x 6 = 48\n",
            "8 x 7 = 56\n",
            "8 x 8 = 64\n",
            "8 x 9 = 72\n",
            "8 x 10 = 80\n",
            "______________________________\n",
            "Quer ver a tabuada de qual valor? 9\n",
            "______________________________\n",
            "9 x 1 = 9\n",
            "9 x 2 = 18\n",
            "9 x 3 = 27\n",
            "9 x 4 = 36\n",
            "9 x 5 = 45\n",
            "9 x 6 = 54\n",
            "9 x 7 = 63\n",
            "9 x 8 = 72\n",
            "9 x 9 = 81\n",
            "9 x 10 = 90\n",
            "______________________________\n",
            "Quer ver a tabuada de qual valor? 0\n",
            "______________________________\n",
            "0 x 1 = 0\n",
            "0 x 2 = 0\n",
            "0 x 3 = 0\n",
            "0 x 4 = 0\n",
            "0 x 5 = 0\n",
            "0 x 6 = 0\n",
            "0 x 7 = 0\n",
            "0 x 8 = 0\n",
            "0 x 9 = 0\n",
            "0 x 10 = 0\n",
            "______________________________\n",
            "Quer ver a tabuada de qual valor? -1\n",
            "Programa tabuada encerrado. Volte sempre!!!!\n"
          ],
          "name": "stdout"
        }
      ]
    },
    {
      "cell_type": "code",
      "metadata": {
        "id": "iirmjGWbcdTS",
        "colab": {
          "base_uri": "https://localhost:8080/"
        },
        "outputId": "592bcb8f-9151-403a-a568-65f73ae373b5"
      },
      "source": [
        "from random import randint\r\n",
        "print('-=-' * 10)\r\n",
        "print('     Jogo do Par ou Ímpar')\r\n",
        "print('-=-' * 10)\r\n",
        "cont = num = pc = 0\r\n",
        "while True:\r\n",
        "  num = int(input('Diga um valor: '))\r\n",
        "  pc = randint(0, 10)\r\n",
        "  total = num + pc\r\n",
        "  tipo = ' '\r\n",
        "  while tipo not in 'PI':\r\n",
        "     tipo = str(input('Par ou ímpar? [P/I] ')).strip().upper()[0]\r\n",
        "  print(f'Você jogou {num} e o computador {pc}. Total de {total}')\r\n",
        "  if tipo == 'P':\r\n",
        "    if total % 2 == 0:\r\n",
        "      print('Você VENCEU!!!')\r\n",
        "      cont += 1  #quantidade de números que você digitou\r\n",
        "    else:\r\n",
        "      print('Você PERDEU!!!')\r\n",
        "      break\r\n",
        "  elif tipo == 'I':\r\n",
        "    if total % 2 == 1:\r\n",
        "      print('Você VENCEU!!!')\r\n",
        "      cont += 1  #quantidade de números que você digitou\r\n",
        "    else:\r\n",
        "      print('Você PERDEU!!!')\r\n",
        "      break\r\n",
        "  print('Vamos jogar novamente...')\r\n",
        "print(f'GAME OVER! Você venceu {cont} vezes.')"
      ],
      "execution_count": null,
      "outputs": [
        {
          "output_type": "stream",
          "text": [
            "-=--=--=--=--=--=--=--=--=--=-\n",
            "     Jogo do Par ou Ímpar\n",
            "-=--=--=--=--=--=--=--=--=--=-\n",
            "Diga um valor: 2\n",
            "Par ou ímpar? [P/I] p\n",
            "Você jogou 2 e o computador 8. Total de 10\n",
            "Você VENCEU!!!\n",
            "Vamos jogar novamente...\n",
            "Diga um valor: 3\n",
            "Par ou ímpar? [P/I] p\n",
            "Você jogou 3 e o computador 5. Total de 8\n",
            "Você VENCEU!!!\n",
            "Vamos jogar novamente...\n",
            "Diga um valor: 4\n",
            "Par ou ímpar? [P/I] p\n",
            "Você jogou 4 e o computador 3. Total de 7\n",
            "Você PERDEU!!!\n",
            "GAME OVER! Você venceu 2 vezes.\n"
          ],
          "name": "stdout"
        }
      ]
    },
    {
      "cell_type": "code",
      "metadata": {
        "id": "SEwXfMQ9VGAd",
        "colab": {
          "base_uri": "https://localhost:8080/"
        },
        "outputId": "3c087ba0-fd28-4e2f-ae59-0a582d9d7afd"
      },
      "source": [
        "print('-=-' * 10)\r\n",
        "print('Simulação de uma fila de banco')\r\n",
        "print('-=-' * 10)\r\n",
        "último = 10\r\n",
        "fila = list(range(1, último + 1)) #range gera uma sequência de elementos\r\n",
        "while True:\r\n",
        "  print(f'\\nExistem {len(fila)} clientes na fila')\r\n",
        "  print(f'Fila atual: {fila}')\r\n",
        "  print('Digite F para adicionar um cliente ao fim da fila,')\r\n",
        "  print('ou A para relizar o atendimento. S para sair.')\r\n",
        "  operação = str(input('Operação (F, A OU S):')).strip().upper()[0]\r\n",
        "  if operação == 'A':\r\n",
        "    if len(fila) > 0:\r\n",
        "      atendido = fila.pop(0) #O método pop retorna o valor do elemento e o exclui da fila\r\n",
        "      print(f'Cliente {atendido} atendido')\r\n",
        "    else:\r\n",
        "      print('Fila vazia! Ninguém para atender.')\r\n",
        "  elif operação == 'F':\r\n",
        "      último += 1 #incrementa o ticket do novo cliente\r\n",
        "      fila.append(último) #O append é para adicionar no fim da fila\r\n",
        "  elif operação == 'S':\r\n",
        "      break\r\n",
        "  else:\r\n",
        "      print('Operação inválida! Digite apenas F, A, ou S!')"
      ],
      "execution_count": null,
      "outputs": [
        {
          "output_type": "stream",
          "text": [
            "-=--=--=--=--=--=--=--=--=--=-\n",
            "Simulação de uma fila de banco\n",
            "-=--=--=--=--=--=--=--=--=--=-\n",
            "\n",
            "Existem 10 clientes na fila\n",
            "Fila atual: [1, 2, 3, 4, 5, 6, 7, 8, 9, 10]\n",
            "Digite F para adicionar um cliente ao fim da fila,\n",
            "ou A para relizar o atendimento. S para sair.\n",
            "Operação (F, A OU S):a\n",
            "Cliente 1 atendido\n",
            "\n",
            "Existem 9 clientes na fila\n",
            "Fila atual: [2, 3, 4, 5, 6, 7, 8, 9, 10]\n",
            "Digite F para adicionar um cliente ao fim da fila,\n",
            "ou A para relizar o atendimento. S para sair.\n",
            "Operação (F, A OU S):a\n",
            "Cliente 2 atendido\n",
            "\n",
            "Existem 8 clientes na fila\n",
            "Fila atual: [3, 4, 5, 6, 7, 8, 9, 10]\n",
            "Digite F para adicionar um cliente ao fim da fila,\n",
            "ou A para relizar o atendimento. S para sair.\n",
            "Operação (F, A OU S):a\n",
            "Cliente 3 atendido\n",
            "\n",
            "Existem 7 clientes na fila\n",
            "Fila atual: [4, 5, 6, 7, 8, 9, 10]\n",
            "Digite F para adicionar um cliente ao fim da fila,\n",
            "ou A para relizar o atendimento. S para sair.\n",
            "Operação (F, A OU S):a\n",
            "Cliente 4 atendido\n",
            "\n",
            "Existem 6 clientes na fila\n",
            "Fila atual: [5, 6, 7, 8, 9, 10]\n",
            "Digite F para adicionar um cliente ao fim da fila,\n",
            "ou A para relizar o atendimento. S para sair.\n",
            "Operação (F, A OU S):a\n",
            "Cliente 5 atendido\n",
            "\n",
            "Existem 5 clientes na fila\n",
            "Fila atual: [6, 7, 8, 9, 10]\n",
            "Digite F para adicionar um cliente ao fim da fila,\n",
            "ou A para relizar o atendimento. S para sair.\n",
            "Operação (F, A OU S):a\n",
            "Cliente 6 atendido\n",
            "\n",
            "Existem 4 clientes na fila\n",
            "Fila atual: [7, 8, 9, 10]\n",
            "Digite F para adicionar um cliente ao fim da fila,\n",
            "ou A para relizar o atendimento. S para sair.\n",
            "Operação (F, A OU S):a\n",
            "Cliente 7 atendido\n",
            "\n",
            "Existem 3 clientes na fila\n",
            "Fila atual: [8, 9, 10]\n",
            "Digite F para adicionar um cliente ao fim da fila,\n",
            "ou A para relizar o atendimento. S para sair.\n",
            "Operação (F, A OU S):a\n",
            "Cliente 8 atendido\n",
            "\n",
            "Existem 2 clientes na fila\n",
            "Fila atual: [9, 10]\n",
            "Digite F para adicionar um cliente ao fim da fila,\n",
            "ou A para relizar o atendimento. S para sair.\n",
            "Operação (F, A OU S):a\n",
            "Cliente 9 atendido\n",
            "\n",
            "Existem 1 clientes na fila\n",
            "Fila atual: [10]\n",
            "Digite F para adicionar um cliente ao fim da fila,\n",
            "ou A para relizar o atendimento. S para sair.\n",
            "Operação (F, A OU S):a\n",
            "Cliente 10 atendido\n",
            "\n",
            "Existem 0 clientes na fila\n",
            "Fila atual: []\n",
            "Digite F para adicionar um cliente ao fim da fila,\n",
            "ou A para relizar o atendimento. S para sair.\n",
            "Operação (F, A OU S):a\n",
            "Fila vazia! Ninguém para atender.\n",
            "\n",
            "Existem 0 clientes na fila\n",
            "Fila atual: []\n",
            "Digite F para adicionar um cliente ao fim da fila,\n",
            "ou A para relizar o atendimento. S para sair.\n",
            "Operação (F, A OU S):f\n",
            "\n",
            "Existem 1 clientes na fila\n",
            "Fila atual: [11]\n",
            "Digite F para adicionar um cliente ao fim da fila,\n",
            "ou A para relizar o atendimento. S para sair.\n",
            "Operação (F, A OU S):f\n",
            "\n",
            "Existem 2 clientes na fila\n",
            "Fila atual: [11, 12]\n",
            "Digite F para adicionar um cliente ao fim da fila,\n",
            "ou A para relizar o atendimento. S para sair.\n",
            "Operação (F, A OU S):f\n",
            "\n",
            "Existem 3 clientes na fila\n",
            "Fila atual: [11, 12, 13]\n",
            "Digite F para adicionar um cliente ao fim da fila,\n",
            "ou A para relizar o atendimento. S para sair.\n",
            "Operação (F, A OU S):s\n"
          ],
          "name": "stdout"
        }
      ]
    },
    {
      "cell_type": "code",
      "metadata": {
        "id": "xadVwdoEOblS",
        "colab": {
          "base_uri": "https://localhost:8080/"
        },
        "outputId": "9f4d10c6-6d32-438f-d521-6a2ec8c8ed59"
      },
      "source": [
        "print('-=-' * 10)\r\n",
        "print('    Pesquisa sequencial')\r\n",
        "print('-=-' * 10)\r\n",
        "L = [15, 7, 27, 39] #criada a lista\r\n",
        "p = int(input('Digite o valor a procurar: '))\r\n",
        "achou =  False\r\n",
        "x = 0\r\n",
        "while x < len(L):\r\n",
        "  if L[x] == p:\r\n",
        "    achou = True\r\n",
        "    break\r\n",
        "  x += 1\r\n",
        "if achou:\r\n",
        "  print(f'{p} achado na posição {x}')\r\n",
        "else:\r\n",
        "  print(f'{p} não encontrado')"
      ],
      "execution_count": null,
      "outputs": [
        {
          "output_type": "stream",
          "text": [
            "-=--=--=--=--=--=--=--=--=--=-\n",
            "    Pesquisa sequencial\n",
            "-=--=--=--=--=--=--=--=--=--=-\n",
            "Digite o valor a procurar: 7\n",
            "7 achado na posição 1\n"
          ],
          "name": "stdout"
        }
      ]
    },
    {
      "cell_type": "code",
      "metadata": {
        "id": "2rPXPN1EEJRL",
        "colab": {
          "base_uri": "https://localhost:8080/"
        },
        "outputId": "5d6c5975-a286-4c05-cdb7-c181d36539ef"
      },
      "source": [
        "print('-=-' * 10)\r\n",
        "print('    CADASTRE UMA PESSOA')\r\n",
        "print('-=-' * 10)\r\n",
        "n = homem = mulher = tot18 = 0\r\n",
        "while True:\r\n",
        "  n = int(input('\\nIDADE: '))\r\n",
        "  sexo = str(input('SEXO: [M/F]: ')).strip().upper()[0]\r\n",
        "  continuar = str(input('Quer continuar? [S/N]: ')).strip().upper()[0]\r\n",
        "  if n >= 18:\r\n",
        "       tot18 += 1\r\n",
        "  if sexo == 'M':\r\n",
        "        homem += 1\r\n",
        "  if sexo == 'F' and n < 20:    \r\n",
        "        mulher += 1\r\n",
        "  if continuar == 'N':\r\n",
        "       break\r\n",
        "  print ('_' * 33)\r\n",
        "print(f'\\nTotal de pessoas com mais de 18 anos: {tot18}')\r\n",
        "print(f'Ao todo temos {homem} homens cadastrados,')\r\n",
        "print(f'E temos {mulher} mulheres com menos de 20 anos')"
      ],
      "execution_count": null,
      "outputs": [
        {
          "output_type": "stream",
          "text": [
            "-=--=--=--=--=--=--=--=--=--=-\n",
            "    CADASTRE UMA PESSOA\n",
            "-=--=--=--=--=--=--=--=--=--=-\n",
            "\n",
            "IDADE: 30\n",
            "SEXO: [M/F]: m\n",
            "Quer continuar? [S/N]: s\n",
            "_________________________________\n",
            "\n",
            "IDADE: 12\n",
            "SEXO: [M/F]: m\n",
            "Quer continuar? [S/N]: s\n",
            "_________________________________\n",
            "\n",
            "IDADE: 14\n",
            "SEXO: [M/F]: f\n",
            "Quer continuar? [S/N]: n\n",
            "\n",
            "Total de pessoas com mais de 18 anos: 1\n",
            "Ao todo temos 2 homens cadastrados,\n",
            "E temos 1 mulheres com menos de 20 anos\n"
          ],
          "name": "stdout"
        }
      ]
    },
    {
      "cell_type": "code",
      "metadata": {
        "colab": {
          "base_uri": "https://localhost:8080/"
        },
        "id": "rshyll7EoL07",
        "outputId": "a404e298-0bdd-4fe8-ed38-54dc45171cc3"
      },
      "source": [
        "print('-=-' * 10)\r\n",
        "print('         LOJAS ARAÚJO')\r\n",
        "print('-=-' * 10)\r\n",
        "total = totmil = cont = preço = 0\r\n",
        "barato = ''\r\n",
        "while True:\r\n",
        "  produto = str(input('Nome do Produto: '))\r\n",
        "  preço = float(input('Preço: R$ '))\r\n",
        "  continuar = str(input('Quer continuar? [S/N]: ')).strip().upper()[0]\r\n",
        "  total += preço  \r\n",
        "  totmil += 1\r\n",
        "  if preço > 1000:\r\n",
        "    totmil += 1\r\n",
        "  if cont == 1 or preço < menor:\r\n",
        "    menor = preço\r\n",
        "    barato = produto\r\n",
        "  if continuar == 'N':\r\n",
        "     break\r\n",
        "\r\n",
        "print('\\n------ FIM DO PROGRAMA ------')\r\n",
        "print(f'\\nO total da compra foi R$ {total}')\r\n",
        "print(f'Temos {cont} produtos custando mais de R$ 1.000,00')\r\n",
        "print(f'O produto mais barato foi {barato} que custa R$ {menor}')"
      ],
      "execution_count": null,
      "outputs": [
        {
          "output_type": "stream",
          "text": [
            "-=--=--=--=--=--=--=--=--=--=-\n",
            "         LOJAS ARAÚJO\n",
            "-=--=--=--=--=--=--=--=--=--=-\n",
            "Nome do Produto: camisa\n",
            "Preço: R$ 200\n",
            "Quer continuar? [S/N]: s\n",
            "Nome do Produto: mesa\n",
            "Preço: R$ 300\n",
            "Quer continuar? [S/N]: s\n",
            "Nome do Produto: playstation\n",
            "Preço: R$ 1001\n",
            "Quer continuar? [S/N]: n\n",
            "\n",
            "------ FIM DO PROGRAMA ------\n",
            "\n",
            "O total da compra foi R$ 1501.0\n",
            "Temos 0 produtos custando mais de R$ 1.000,00\n",
            "O produto mais barato foi camisa que custa R$ 200.0\n"
          ],
          "name": "stdout"
        }
      ]
    },
    {
      "cell_type": "code",
      "metadata": {
        "colab": {
          "base_uri": "https://localhost:8080/"
        },
        "id": "fzCqHAgzrbca",
        "outputId": "a5a5f8a2-4146-41eb-cf17-f30dea47a728"
      },
      "source": [
        "print('-=-' * 10)\r\n",
        "print('         BANCO ARAÚJO')\r\n",
        "print('-=-' * 10)\r\n",
        "\r\n",
        "\r\n",
        "valor = float(input(\"Digite o valor que você quer sacar? R$ \"))\r\n",
        "#print(f'Total de {cédulas} cédulas de R${atual:5.2f} ')\r\n",
        "cédulas = 0\r\n",
        "atual = 100\r\n",
        "apagar = valor\r\n",
        "while True:\r\n",
        "    if atual <= apagar:\r\n",
        "        apagar -= atual\r\n",
        "        cédulas += 1\r\n",
        "    else:\r\n",
        "        if atual >= 1:\r\n",
        "            print(f\"Total de {cédulas} cédula(s) de R${atual:5.2f}\")\r\n",
        "        else:\r\n",
        "            break\r\n",
        "        if apagar < 0.01:\r\n",
        "            break\r\n",
        "        elif atual == 100:\r\n",
        "            atual = 50\r\n",
        "        elif atual == 50:\r\n",
        "            atual = 20\r\n",
        "        elif atual == 20:\r\n",
        "            atual = 10\r\n",
        "        elif atual == 10:\r\n",
        "            atual = 5\r\n",
        "        elif atual == 5:\r\n",
        "            atual = 1\r\n",
        "        cédulas = 0\r\n",
        "print('-=-' * 10)\r\n",
        "print('Volte sempre ao Banco Araújo! Tenha um bom doa!')"
      ],
      "execution_count": null,
      "outputs": [
        {
          "output_type": "stream",
          "text": [
            "-=--=--=--=--=--=--=--=--=--=-\n",
            "         BANCO ARAÚJO\n",
            "-=--=--=--=--=--=--=--=--=--=-\n",
            "Digite o valor que você quer sacar? R$ 1065\n",
            "Total de 10 cédula(s) de R$100.00\n",
            "Total de 1 cédula(s) de R$50.00\n",
            "Total de 0 cédula(s) de R$20.00\n",
            "Total de 1 cédula(s) de R$10.00\n",
            "Total de 1 cédula(s) de R$ 5.00\n",
            "-=--=--=--=--=--=--=--=--=--=-\n",
            "Volte sempre ao Banco Araújo! Tenha um bom doa!\n"
          ],
          "name": "stdout"
        }
      ]
    },
    {
      "cell_type": "code",
      "metadata": {
        "colab": {
          "base_uri": "https://localhost:8080/"
        },
        "id": "-dFkWOzvx3M9",
        "outputId": "d1bc614e-2c3e-4e2a-9018-1af5dc802c69"
      },
      "source": [
        "print('-=-' * 10)\r\n",
        "print(' Número por Extenso de 1 à 20')\r\n",
        "print('-=-' * 10)\r\n",
        "cont = ('zero', 'um', 'dois', 'três', \r\n",
        "        'quatro', 'cinco', 'seis', 'sete', 'oito',\r\n",
        "        'novo', 'dez', 'onze', 'doze', 'treze',\r\n",
        "        'cartoze', 'quinze', 'dezesseis', 'dezessete',\r\n",
        "        'dezoito', 'dezenove', 'vinte')\r\n",
        "while True:\r\n",
        "  núm = int(input('Digite um número entre 0 e 20: '))\r\n",
        "  if 0 <= núm <= 20:\r\n",
        "    break\r\n",
        "  print('Tente novamente. ', end='') #junta linha\r\n",
        "print(f'Você digitou o número {cont[núm]}')"
      ],
      "execution_count": null,
      "outputs": [
        {
          "output_type": "stream",
          "text": [
            "-=--=--=--=--=--=--=--=--=--=-\n",
            " Número por Extenso de 1 à 20\n",
            "-=--=--=--=--=--=--=--=--=--=-\n",
            "Digite um número entre 0 e 20: 80\n",
            "Tente novamente. Digite um número entre 0 e 20: 10\n",
            "Você digitou o número dez\n"
          ],
          "name": "stdout"
        }
      ]
    },
    {
      "cell_type": "code",
      "metadata": {
        "id": "lkPUNqhQw6Dl",
        "colab": {
          "base_uri": "https://localhost:8080/"
        },
        "outputId": "6d4b1bf7-f60d-4613-c4fa-5682a92168f0"
      },
      "source": [
        "print('-=-' * 10)\r\n",
        "print('        pesquisar')\r\n",
        "print('-=-' * 10)\r\n",
        "L = list(range(100, 1100, 50))\r\n",
        "p = int(input('Digite um número a pesquisar: '))\r\n",
        "for e in L:\r\n",
        "  if e == p:\r\n",
        "    print('Elemento encontrado!')\r\n",
        "    break\r\n",
        "else:\r\n",
        "    print('Elemento não encontrado.')"
      ],
      "execution_count": null,
      "outputs": [
        {
          "output_type": "stream",
          "text": [
            "-=--=--=--=--=--=--=--=--=--=-\n",
            "        pesquisar\n",
            "-=--=--=--=--=--=--=--=--=--=-\n",
            "Digite um número a pesquisar: 200\n",
            "Elemento encontrado!\n"
          ],
          "name": "stdout"
        }
      ]
    },
    {
      "cell_type": "code",
      "metadata": {
        "id": "Y1gX7P4F1hYi",
        "colab": {
          "base_uri": "https://localhost:8080/"
        },
        "outputId": "6cbf852f-cbff-4883-91e0-1e29a15ea97e"
      },
      "source": [
        "print('-=-' * 10)\r\n",
        "print('        enumeração')\r\n",
        "print('-=-' * 10)\r\n",
        "L = list(range(100, 1100, 50))\r\n",
        "x = 0\r\n",
        "for x, e in enumerate(L):\r\n",
        "  print(f'[{x}] {e}')\r\n",
        "  x += 1"
      ],
      "execution_count": null,
      "outputs": [
        {
          "output_type": "stream",
          "text": [
            "-=--=--=--=--=--=--=--=--=--=-\n",
            "        enumeração\n",
            "-=--=--=--=--=--=--=--=--=--=-\n",
            "[0] 100\n",
            "[1] 150\n",
            "[2] 200\n",
            "[3] 250\n",
            "[4] 300\n",
            "[5] 350\n",
            "[6] 400\n",
            "[7] 450\n",
            "[8] 500\n",
            "[9] 550\n",
            "[10] 600\n",
            "[11] 650\n",
            "[12] 700\n",
            "[13] 750\n",
            "[14] 800\n",
            "[15] 850\n",
            "[16] 900\n",
            "[17] 950\n",
            "[18] 1000\n",
            "[19] 1050\n"
          ],
          "name": "stdout"
        }
      ]
    },
    {
      "cell_type": "code",
      "metadata": {
        "id": "AKT2jadU_oaj",
        "colab": {
          "base_uri": "https://localhost:8080/"
        },
        "outputId": "471f4c8a-9f9f-4801-b6d1-2c0e7b2c7778"
      },
      "source": [
        "print('-=-' * 10)\r\n",
        "print('  Verificação do maior valor')\r\n",
        "print('-=-' * 10)\r\n",
        "L = [1, 7, 2, 4]\r\n",
        "máximo = L[0]\r\n",
        "for e in L:\r\n",
        "  if e > máximo:\r\n",
        "    máximo = e\r\n",
        "print(máximo)"
      ],
      "execution_count": null,
      "outputs": [
        {
          "output_type": "stream",
          "text": [
            "-=--=--=--=--=--=--=--=--=--=-\n",
            "  Verificação do maior valor\n",
            "-=--=--=--=--=--=--=--=--=--=-\n",
            "7\n"
          ],
          "name": "stdout"
        }
      ]
    },
    {
      "cell_type": "code",
      "metadata": {
        "id": "dQt5yVjNJ0Db",
        "colab": {
          "base_uri": "https://localhost:8080/"
        },
        "outputId": "502c8431-83fe-4f3d-b8d3-1e0f4ff40797"
      },
      "source": [
        "print('-=-' * 15)\r\n",
        "print('    Cópia de elementos para outros listas')\r\n",
        "print('-=-' * 15)\r\n",
        "V = [9, 8, 7, 12, 0 ,13 ,21]\r\n",
        "P = []\r\n",
        "I = []\r\n",
        "\r\n",
        "for e in V:\r\n",
        "  if e % 2 == 0: #Para achar números PARES\r\n",
        "    P.append(e)\r\n",
        "  else:\r\n",
        "    I.append(e)\r\n",
        "print(f'LISTA: {V}') \r\n",
        "print('Pares: ', P)\r\n",
        "print('Impares: ', I)"
      ],
      "execution_count": null,
      "outputs": [
        {
          "output_type": "stream",
          "text": [
            "-=--=--=--=--=--=--=--=--=--=--=--=--=--=--=-\n",
            "    Cópia de elementos para outros listas\n",
            "-=--=--=--=--=--=--=--=--=--=--=--=--=--=--=-\n",
            "LISTA: [9, 8, 7, 12, 0, 13, 21]\n",
            "Pares:  [8, 12, 0]\n",
            "Impares:  [9, 7, 13, 21]\n"
          ],
          "name": "stdout"
        }
      ]
    },
    {
      "cell_type": "code",
      "metadata": {
        "colab": {
          "base_uri": "https://localhost:8080/"
        },
        "id": "PiqPUnIC-75C",
        "outputId": "04503100-10f4-462c-88a9-cf5cb3195b2c"
      },
      "source": [
        "print('-=-' * 15)\r\n",
        "print(' Controle de utilização de salas de um Cinema')\r\n",
        "print('-=-' * 15)\r\n",
        "lugvagos = [10, 2, 1, 3, 0]\r\n",
        "while True:\r\n",
        "  sala = int(input('Sala (0 sai): '))\r\n",
        "  if sala == 0:\r\n",
        "    print('FIM')\r\n",
        "    break\r\n",
        "  if sala > len(lugvagos) or sala < 1:\r\n",
        "    print('Sala Inválida')\r\n",
        "  elif lugvagos[sala - 1] == 0:\r\n",
        "    print('Desculpe, sala lotada!')\r\n",
        "  else:\r\n",
        "    lugares = int(input(f'Quantos lugares você deseja ({lugvagos[sala - 1]} vagos): '))\r\n",
        "    if lugares > lugvagos[sala - 1]:\r\n",
        "      print('Esse número de lugares não está disponível.')\r\n",
        "    elif lugares < 0:\r\n",
        "      print('Número inválido')\r\n",
        "    else: \r\n",
        "      lugvagos[sala - 1] -= lugares\r\n",
        "      print(f'{lugares} lugares vendidos')\r\n",
        "print('Utilização das salas')\r\n",
        "for x, l in enumerate(lugvagos):\r\n",
        "  print(f'Sala {x + 1} - {l} lugar(es) vazio(s)')\r\n"
      ],
      "execution_count": null,
      "outputs": [
        {
          "output_type": "stream",
          "text": [
            "-=--=--=--=--=--=--=--=--=--=--=--=--=--=--=-\n",
            " Controle de utilização de salas de um Cinema\n",
            "-=--=--=--=--=--=--=--=--=--=--=--=--=--=--=-\n",
            "Sala (0 sai): 1\n",
            "Quantos lugares você deseja (10 vagos): 8\n",
            "8 lugares vendidos\n",
            "Sala (0 sai): 2\n",
            "Quantos lugares você deseja (2 vagos): 3\n",
            "Esse número de lugares não está disponível.\n",
            "Sala (0 sai): 2\n",
            "Quantos lugares você deseja (2 vagos): 2\n",
            "2 lugares vendidos\n",
            "Sala (0 sai): 3\n",
            "Quantos lugares você deseja (1 vagos): 1\n",
            "1 lugares vendidos\n",
            "Sala (0 sai): 4\n",
            "Quantos lugares você deseja (3 vagos): 1\n",
            "1 lugares vendidos\n",
            "Sala (0 sai): 4\n",
            "Quantos lugares você deseja (2 vagos): 3\n",
            "Esse número de lugares não está disponível.\n",
            "Sala (0 sai): 4\n",
            "Quantos lugares você deseja (2 vagos): 1\n",
            "1 lugares vendidos\n",
            "Sala (0 sai): 5\n",
            "Desculpe, sala lotada!\n",
            "Sala (0 sai): 0\n",
            "FIM\n",
            "Utilização das salas\n",
            "Sala 1 - 2 lugar(es) vazio(s)\n",
            "Sala 2 - 0 lugar(es) vazio(s)\n",
            "Sala 3 - 0 lugar(es) vazio(s)\n",
            "Sala 4 - 1 lugar(es) vazio(s)\n",
            "Sala 5 - 0 lugar(es) vazio(s)\n"
          ],
          "name": "stdout"
        }
      ]
    },
    {
      "cell_type": "code",
      "metadata": {
        "colab": {
          "base_uri": "https://localhost:8080/"
        },
        "id": "sw7wKIXoTSYr",
        "outputId": "809cd939-5395-417f-9919-ae6a9fc5730c"
      },
      "source": [
        "print('-=-' * 10)\r\n",
        "print('      Lista com Strings')\r\n",
        "print('-=-' * 10)\r\n",
        "compras = []\r\n",
        "while True:\r\n",
        "  produto = str(input('Produto: '))\r\n",
        "  if produto == 'fim':\r\n",
        "     break\r\n",
        "  compras.append(produto)\r\n",
        "cont += 1  #quantidade de números que você digitou\r\n",
        "for p, l in enumerate (compras):\r\n",
        "    print(f'{p + 1} - Totalf de {l}')"
      ],
      "execution_count": null,
      "outputs": [
        {
          "output_type": "stream",
          "text": [
            "-=--=--=--=--=--=--=--=--=--=-\n",
            "      Lista com Strings\n",
            "-=--=--=--=--=--=--=--=--=--=-\n",
            "Produto: 20 peras\n",
            "Produto: fim\n",
            "1 - Total de 20 peras\n"
          ],
          "name": "stdout"
        }
      ]
    },
    {
      "cell_type": "code",
      "metadata": {
        "colab": {
          "base_uri": "https://localhost:8080/"
        },
        "id": "Rw7BvCs8oxq1",
        "outputId": "523fd400-a36c-4530-e012-6794d3a8573e"
      },
      "source": [
        "compras = []\r\n",
        "while True:\r\n",
        "  produto = str(input('Produto: '))\r\n",
        "  if produto == 'fim':\r\n",
        "    break\r\n",
        "  quantidade = int(input('Quantidade: '))\r\n",
        "  preço = float (input('Preço: '))\r\n",
        "  compras.append([produto, quantidade, preço])\r\n",
        "soma = 0.0\r\n",
        "for e in compras:\r\n",
        "  print(f'O item será {e[0]:2s} quantidade de {e[1]:1d} com o preço de {e[2]:5.2f} = Totalizando {e[1] * e[2]:6.2f}')\r\n",
        "  soma += e[1] * e[2]\r\n",
        "print(f'Total: {soma:7.2f}')\r\n"
      ],
      "execution_count": null,
      "outputs": [
        {
          "output_type": "stream",
          "text": [
            "Produto: carro\n",
            "Quantidade: 1\n",
            "Preço: 4590\n",
            "Produto: moto\n",
            "Quantidade: 2\n",
            "Preço: 4532\n",
            "Produto: apartamento\n",
            "Quantidade: 3\n",
            "Preço: 80450\n",
            "Produto: fim\n",
            "O item será carro quantidade de 1 com o preço de 4590.00 = Totalizando 4590.00\n",
            "O item será moto quantidade de 2 com o preço de 4532.00 = Totalizando 9064.00\n",
            "O item será apartamento quantidade de 3 com o preço de 80450.00 = Totalizando 241350.00\n",
            "Total: 255004.00\n"
          ],
          "name": "stdout"
        }
      ]
    },
    {
      "cell_type": "code",
      "metadata": {
        "colab": {
          "base_uri": "https://localhost:8080/"
        },
        "id": "GTJG-NCkBxbT",
        "outputId": "90e82218-9e01-4252-b72e-b0a01c7c5f6a"
      },
      "source": [
        "print('-=-' * 10)\r\n",
        "print('Ordenação pelo método de bolhas')\r\n",
        "print('-=-' * 10)\r\n",
        "L = [7, 4, 3, 12, 8]\r\n",
        "fim = 5\r\n",
        "while fim > 1:\r\n",
        "  trocou = False\r\n",
        "  x = 0\r\n",
        "  while x < (fim - 1):\r\n",
        "    if L[x] > L[x + 1]:\r\n",
        "      trocou = True\r\n",
        "      temp = L[x]\r\n",
        "      L[x] = L[x + 1]\r\n",
        "      L[x + 1] = temp\r\n",
        "    x += 1\r\n",
        "  if not trocou:\r\n",
        "    break\r\n",
        "  fim -= 1\r\n",
        "for e in L:\r\n",
        "  print(e)"
      ],
      "execution_count": null,
      "outputs": [
        {
          "output_type": "stream",
          "text": [
            "-=--=--=--=--=--=--=--=--=--=-\n",
            "Ordenação pelo método de bolhas\n",
            "-=--=--=--=--=--=--=--=--=--=-\n",
            "3\n",
            "4\n",
            "7\n",
            "8\n",
            "12\n"
          ],
          "name": "stdout"
        }
      ]
    },
    {
      "cell_type": "code",
      "metadata": {
        "id": "-YJEpgAPcs4m",
        "colab": {
          "base_uri": "https://localhost:8080/"
        },
        "outputId": "8164805e-7d1a-4c2c-adee-54d3422323be"
      },
      "source": [
        "print('-=-' * 13)\r\n",
        "print('  Obtenção do preço com um dicionário')\r\n",
        "print('-=-' * 13)\r\n",
        "tabela = {'Alface': 0.45, 'Batata': 1.20, 'Tomate': 2.30, 'Feijão': 1.50}\r\n",
        "while True:\r\n",
        "  produto = input('Digite o nome do produto, fim para terminar: ')\r\n",
        "  if produto == 'fim':\r\n",
        "    break\r\n",
        "  if produto in tabela:\r\n",
        "    print(f'Preço{tabela[produto]:5.2f}')\r\n",
        "  else:\r\n",
        "    print('Produto não encontrado!')"
      ],
      "execution_count": null,
      "outputs": [
        {
          "output_type": "stream",
          "text": [
            "-=--=--=--=--=--=--=--=--=--=--=--=--=-\n",
            "  Obtenção do preço com um dicionário\n",
            "-=--=--=--=--=--=--=--=--=--=--=--=--=-\n",
            "Digite o nome do produto, fim para terminar: alface\n",
            "Produto não encontrado!\n",
            "Digite o nome do produto, fim para terminar: Alface\n",
            "Preço 0.45\n",
            "Digite o nome do produto, fim para terminar: Tomate\n",
            "Preço 2.30\n",
            "Digite o nome do produto, fim para terminar: fim\n"
          ],
          "name": "stdout"
        }
      ]
    },
    {
      "cell_type": "code",
      "metadata": {
        "colab": {
          "base_uri": "https://localhost:8080/"
        },
        "id": "4UtqHJSxyil5",
        "outputId": "87ee47f3-43b3-4191-f578-1ba3c33d7cc8"
      },
      "source": [
        "print('-=-' * 10)\r\n",
        "print('    Maior e menor valores na lista')\r\n",
        "print('-=-' * 10)\r\n",
        "resp = []\r\n",
        "maior = menor = 0\r\n",
        "for c in range(0, 5):\r\n",
        "    resp.append(int(input(f'Digite um valor para a Posição {c}: ')))\r\n",
        "    if c == 0:\r\n",
        "      maior = menor = resp[c]\r\n",
        "    else:\r\n",
        "      if resp[c] > maior:\r\n",
        "        maior = resp[c]\r\n",
        "      if resp[c] < menor:\r\n",
        "        menor = resp[c]\r\n",
        "    fim = 5\r\n",
        "while fim > 1:\r\n",
        "  trocou = False\r\n",
        "  x = 0\r\n",
        "  while x < (fim - 1):\r\n",
        "    if resp[x] > resp[x + 1]:\r\n",
        "      trocou = True\r\n",
        "      temp = resp[x]\r\n",
        "      resp[x] = resp[x + 1]\r\n",
        "      resp[x + 1] = temp\r\n",
        "    x += 1\r\n",
        "  if not trocou:\r\n",
        "    break\r\n",
        "  fim -= 1\r\n",
        "print('-=-' * 10)\r\n",
        "for e in resp:\r\n",
        "  print(f'Você digitou os valores {resp}')  \r\n",
        "print(f'O maior valor foi {maior} nas posições ', end='')\r\n",
        "for i, v in enumerate(resp):\r\n",
        "  if v == maior:\r\n",
        "    print(f'{i}...', end='')\r\n",
        "print()\r\n",
        "print(f'O menor valor digitado foi {menor} nas posições ', end='')\r\n",
        "for i, v in enumerate(resp):\r\n",
        "  if v == menor:\r\n",
        "    print(f'{i}...', end='')\r\n",
        "print()"
      ],
      "execution_count": null,
      "outputs": [
        {
          "output_type": "stream",
          "text": [
            "-=--=--=--=--=--=--=--=--=--=-\n",
            "    Maior e menor valores na lista\n",
            "-=--=--=--=--=--=--=--=--=--=-\n",
            "Digite um valor para a Posição 0: 8\n",
            "Digite um valor para a Posição 1: 4\n",
            "Digite um valor para a Posição 2: 2\n",
            "Digite um valor para a Posição 3: 6\n",
            "Digite um valor para a Posição 4: 1\n",
            "-=--=--=--=--=--=--=--=--=--=-\n",
            "Você digitou os valores [1, 2, 4, 6, 8]\n",
            "Você digitou os valores [1, 2, 4, 6, 8]\n",
            "Você digitou os valores [1, 2, 4, 6, 8]\n",
            "Você digitou os valores [1, 2, 4, 6, 8]\n",
            "Você digitou os valores [1, 2, 4, 6, 8]\n",
            "O maior valor foi 8 nas posições 4...\n",
            "O menor valor digitado foi 1 nas posições 0...\n"
          ],
          "name": "stdout"
        }
      ]
    },
    {
      "cell_type": "code",
      "metadata": {
        "colab": {
          "base_uri": "https://localhost:8080/"
        },
        "id": "fDxhu374HFnx",
        "outputId": "d3263e31-4096-4b35-f99c-095359eff8fa"
      },
      "source": [
        "print('-=-' * 10)\r\n",
        "print(' Valores únicos em uma Lista')\r\n",
        "print('-=-' * 10)\r\n",
        "números = list()\r\n",
        "while True:\r\n",
        "  n = int(input('Digite um valor: '))\r\n",
        "  if n not in números:\r\n",
        "    números.append(n)\r\n",
        "    print('Valor adicionado com sucesso...')\r\n",
        "  else:\r\n",
        "    print('Valor duplicado! Não vou adicionar...')\r\n",
        "  r = str(input('Quer continuar? [S/N] '))\r\n",
        "  if r in 'Nn':\r\n",
        "    break\r\n",
        "print('-=' * 30)\r\n",
        "números.sort()\r\n",
        "print(f'Você digitou os valores {números}')"
      ],
      "execution_count": null,
      "outputs": [
        {
          "output_type": "stream",
          "text": [
            "-=--=--=--=--=--=--=--=--=--=-\n",
            " Valores únicos em uma Lista\n",
            "-=--=--=--=--=--=--=--=--=--=-\n",
            "Digite um valor: 8\n",
            "Valor adicionado com sucesso...\n",
            "Quer continuar? [S/N] S\n",
            "Digite um valor: 3\n",
            "Valor adicionado com sucesso...\n",
            "Quer continuar? [S/N] S\n",
            "Digite um valor: 3\n",
            "Valor duplicado! Não vou adicionar...\n",
            "Quer continuar? [S/N] S\n",
            "Digite um valor: 90\n",
            "Valor adicionado com sucesso...\n",
            "Quer continuar? [S/N] N\n",
            "-=-=-=-=-=-=-=-=-=-=-=-=-=-=-=-=-=-=-=-=-=-=-=-=-=-=-=-=-=-=\n",
            "Você digitou os valores [3, 8, 90]\n"
          ],
          "name": "stdout"
        }
      ]
    },
    {
      "cell_type": "code",
      "metadata": {
        "colab": {
          "base_uri": "https://localhost:8080/"
        },
        "id": "mnX81EgLM7Gt",
        "outputId": "46e7d706-b737-4893-df61-71b217ef0d37"
      },
      "source": [
        "print('-=-' * 15)\r\n",
        "print(' Dicionário com estoque e operações de venda')\r\n",
        "print('-=-' * 15)\r\n",
        "estoque = {'tomate': [1000, 2.30],\r\n",
        "           'alface': [500, 0.45],\r\n",
        "           'batata': [2001, 1.20],\r\n",
        "           'feijão': [100, 1.50]}\r\n",
        "venda = [['tomate', 5], ['batata', 10], ['alface', 5]]\r\n",
        "total = 0\r\n",
        "print('Venda:\\n')\r\n",
        "for operação in venda:\r\n",
        "  produto, quantidade = operação\r\n",
        "  preço = estoque[produto][1]\r\n",
        "  custo = preço * quantidade\r\n",
        "  print(f'{produto:4s}: {quantidade:3d} x {preço:3.2g} = {custo:6.2f}')\r\n",
        "  estoque[produto][0] -= quantidade\r\n",
        "  total += custo\r\n",
        "print(f'Custo total: {total:13.2f}\\n')\r\n",
        "print('Estoque:\\n')\r\n",
        "for chave, dados in estoque.items():\r\n",
        "  print('Descrição: ', chave)\r\n",
        "  print('Quantidade: ', dados[0])\r\n",
        "  print(f'Preço: {dados[1]:6.2f}\\n')\r\n"
      ],
      "execution_count": null,
      "outputs": [
        {
          "output_type": "stream",
          "text": [
            "-=--=--=--=--=--=--=--=--=--=--=--=--=--=--=-\n",
            " Dicionário com estoque e operações de venda\n",
            "-=--=--=--=--=--=--=--=--=--=--=--=--=--=--=-\n",
            "Venda:\n",
            "\n",
            "tomate:   5 x 2.3 =  11.50\n",
            "batata:  10 x 1.2 =  12.00\n",
            "alface:   5 x 0.45 =   2.25\n",
            "Custo total:         25.75\n",
            "\n",
            "Estoque:\n",
            "\n",
            "Descrição:  tomate\n",
            "Quantidade:  995\n",
            "Preço:   2.30\n",
            "\n",
            "Descrição:  alface\n",
            "Quantidade:  495\n",
            "Preço:   0.45\n",
            "\n",
            "Descrição:  batata\n",
            "Quantidade:  1991\n",
            "Preço:   1.20\n",
            "\n",
            "Descrição:  feijão\n",
            "Quantidade:  100\n",
            "Preço:   1.50\n",
            "\n"
          ],
          "name": "stdout"
        }
      ]
    },
    {
      "cell_type": "code",
      "metadata": {
        "id": "nMWbz2uue3U3",
        "colab": {
          "base_uri": "https://localhost:8080/"
        },
        "outputId": "8fc48538-3b6d-49c4-858b-793d18444f27"
      },
      "source": [
        "print('-=-' * 10)\r\n",
        "print(' Dicionário sem valor padrão')\r\n",
        "print('-=-' * 10)\r\n",
        "d = {}\r\n",
        "for letra in 'andrepaulodantasdearaujo':\r\n",
        "  if letra in d:\r\n",
        "    d[letra] = d[letra] + 1\r\n",
        "  else:\r\n",
        "    d[letra] = 1\r\n",
        "print(d)"
      ],
      "execution_count": null,
      "outputs": [
        {
          "output_type": "stream",
          "text": [
            "-=--=--=--=--=--=--=--=--=--=-\n",
            " Dicionário sem valor padrão\n",
            "-=--=--=--=--=--=--=--=--=--=-\n",
            "{'a': 6, 'n': 2, 'd': 3, 'r': 2, 'e': 2, 'p': 1, 'u': 2, 'l': 1, 'o': 2, 't': 1, 's': 1, 'j': 1}\n"
          ],
          "name": "stdout"
        }
      ]
    },
    {
      "cell_type": "code",
      "metadata": {
        "colab": {
          "base_uri": "https://localhost:8080/"
        },
        "id": "X6VUaMI7_NuX",
        "outputId": "fb1fb836-3e43-443a-fb21-3fd161c793d1"
      },
      "source": [
        "print('-=-' * 8)\r\n",
        "print('    Jogo da forca')\r\n",
        "print('-=-' * 8)\r\n",
        "palavra = input('Digite a palavra secreta:').lower().strip() #retira os espaços vazios\r\n",
        "for x in range(100):\r\n",
        "  print()\r\n",
        "digitadas = []\r\n",
        "acertos = []\r\n",
        "erros = 0\r\n",
        "while True:\r\n",
        "  senha = ''\r\n",
        "  for letra in palavra:\r\n",
        "    senha += letra if letra in acertos else '.'\r\n",
        "  print(senha)\r\n",
        "  if senha == palavra:\r\n",
        "    print('Você acertou!')\r\n",
        "    break\r\n",
        "  tentativa = input('\\nDigite uma letra:').lower().strip()\r\n",
        "  if tentativa in digitadas:\r\n",
        "    print('Você já tentou esta letra!')\r\n",
        "    continue\r\n",
        "  else:\r\n",
        "    digitadas += tentativa\r\n",
        "    if tentativa in palavra:\r\n",
        "      acertos += tentativa\r\n",
        "    else:\r\n",
        "      erros += 1\r\n",
        "      print('Você errou!')\r\n",
        "  print('X===:===\\nX   ')\r\n",
        "  print('X  O ' if erros >= 1 else 'X')\r\n",
        "  linha2 = \"\"\r\n",
        "  if erros == 2:\r\n",
        "    linha2 = ' | '\r\n",
        "  elif erros == 3:\r\n",
        "    linha2 = ' \\| '\r\n",
        "  elif erros >= 4:\r\n",
        "    linha2 = ' \\|/ '\r\n",
        "  print(f'X{linha2}')\r\n",
        "  linha3 = \"\"\r\n",
        "  if erros == 5:\r\n",
        "    linha3 += ' / '\r\n",
        "  elif erros >= 6:\r\n",
        "    linha3 = ' / \\ '\r\n",
        "  print(f'X{linha3}')\r\n",
        "  print('X\\n========')\r\n",
        "  if erros == 6:\r\n",
        "    print('Enforcado!')\r\n",
        "    break"
      ],
      "execution_count": null,
      "outputs": [
        {
          "output_type": "stream",
          "text": [
            "-=--=--=--=--=--=--=--=-\n",
            "    Jogo da forca\n",
            "-=--=--=--=--=--=--=--=-\n",
            "Digite a palavra secreta:tudo\n",
            "\n",
            "\n",
            "\n",
            "\n",
            "\n",
            "\n",
            "\n",
            "\n",
            "\n",
            "\n",
            "\n",
            "\n",
            "\n",
            "\n",
            "\n",
            "\n",
            "\n",
            "\n",
            "\n",
            "\n",
            "\n",
            "\n",
            "\n",
            "\n",
            "\n",
            "\n",
            "\n",
            "\n",
            "\n",
            "\n",
            "\n",
            "\n",
            "\n",
            "\n",
            "\n",
            "\n",
            "\n",
            "\n",
            "\n",
            "\n",
            "\n",
            "\n",
            "\n",
            "\n",
            "\n",
            "\n",
            "\n",
            "\n",
            "\n",
            "\n",
            "\n",
            "\n",
            "\n",
            "\n",
            "\n",
            "\n",
            "\n",
            "\n",
            "\n",
            "\n",
            "\n",
            "\n",
            "\n",
            "\n",
            "\n",
            "\n",
            "\n",
            "\n",
            "\n",
            "\n",
            "\n",
            "\n",
            "\n",
            "\n",
            "\n",
            "\n",
            "\n",
            "\n",
            "\n",
            "\n",
            "\n",
            "\n",
            "\n",
            "\n",
            "\n",
            "\n",
            "\n",
            "\n",
            "\n",
            "\n",
            "\n",
            "\n",
            "\n",
            "\n",
            "\n",
            "\n",
            "\n",
            "\n",
            "\n",
            "\n",
            "....\n",
            "\n",
            "Digite uma letra:bunda\n",
            "Você errou!\n",
            "X===:===\n",
            "X   \n",
            "X  O \n",
            "X\n",
            "X\n",
            "X\n",
            "========\n",
            "....\n",
            "\n",
            "Digite uma letra:cheiro\n",
            "Você errou!\n",
            "X===:===\n",
            "X   \n",
            "X  O \n",
            "X | \n",
            "X\n",
            "X\n",
            "========\n",
            "....\n",
            "\n",
            "Digite uma letra:comidfa\n",
            "Você errou!\n",
            "X===:===\n",
            "X   \n",
            "X  O \n",
            "X \\| \n",
            "X\n",
            "X\n",
            "========\n",
            "....\n",
            "\n",
            "Digite uma letra:cuidadoi\n",
            "Você errou!\n",
            "X===:===\n",
            "X   \n",
            "X  O \n",
            "X \\|/ \n",
            "X\n",
            "X\n",
            "========\n",
            "....\n",
            "\n",
            "Digite uma letra:nâo sei\n",
            "Você errou!\n",
            "X===:===\n",
            "X   \n",
            "X  O \n",
            "X \\|/ \n",
            "X / \n",
            "X\n",
            "========\n",
            "....\n",
            "\n",
            "Digite uma letra:cafuné\n",
            "Você errou!\n",
            "X===:===\n",
            "X   \n",
            "X  O \n",
            "X \\|/ \n",
            "X / \\ \n",
            "X\n",
            "========\n",
            "Enforcado!\n"
          ],
          "name": "stdout"
        }
      ]
    },
    {
      "cell_type": "code",
      "metadata": {
        "id": "pJMyO4N6WmZ_",
        "colab": {
          "base_uri": "https://localhost:8080/"
        },
        "outputId": "a5a615fd-a27a-467c-ae44-97de3c24347b"
      },
      "source": [
        "print('-=-' * 10)\r\n",
        "print('Lista ordedenada sem repetições')\r\n",
        "print('-=-' * 10)\r\n",
        "lista = [] #cria uma lista vazia\r\n",
        "for c in range(0, 5):\r\n",
        "  n = int(input('Digite um valor: '))\r\n",
        "  if c == 0 or n > lista[-1]: #verifica se a lista é igual a 0 ou se é o último item da lista\r\n",
        "    lista.append(n) #adiciona na lista\r\n",
        "  else:\r\n",
        "    pos = 0\r\n",
        "    while pos < len(lista): #confirma qual o item da lista (vai de zero a última posição)\r\n",
        "      if n <= lista[pos]: #verifica se o n é menor que os itens da l\r\n",
        "        lista.insert(pos, n) #insere na posição pos o valor n do item verifiicado no if anterior\r\n",
        "        break\r\n",
        "      pos += 1\r\n",
        "print('-=-' * 10)\r\n",
        "print(f'Os valores digitados em ordem foram {lista}')\r\n",
        "      "
      ],
      "execution_count": null,
      "outputs": [
        {
          "output_type": "stream",
          "text": [
            "-=--=--=--=--=--=--=--=--=--=-\n",
            "Lista ordedenada sem repetições\n",
            "-=--=--=--=--=--=--=--=--=--=-\n",
            "Digite um valor: 5\n",
            "Digite um valor: 6\n",
            "Digite um valor: 3\n",
            "Digite um valor: 2\n",
            "Digite um valor: 1\n",
            "-=--=--=--=--=--=--=--=--=--=-\n",
            "Os valores digitados em ordem foram [1, 2, 3, 5, 6]\n"
          ],
          "name": "stdout"
        }
      ]
    },
    {
      "cell_type": "code",
      "metadata": {
        "id": "mrfBFn_UAr1o",
        "colab": {
          "base_uri": "https://localhost:8080/"
        },
        "outputId": "37e315cd-12e5-4140-baf8-1545771d7966"
      },
      "source": [
        "print('-=-' * 10)\r\n",
        "print(' Extraindo dados de uma Lista')\r\n",
        "print('-=-' * 10)\r\n",
        "lista = [] #cria uma lista vazia\r\n",
        "while True:\r\n",
        "  lista.append(int(input('Digite um valor: ')))\r\n",
        "  r = str(input('Quer continuar? [S/N] '))\r\n",
        "  if r in 'Nn':\r\n",
        "    break\r\n",
        "print('-=' * 30)\r\n",
        "print(f'Você digitou {lista} elementos')\r\n",
        "lista.sort(reverse=True)\r\n",
        "print(f'Os valores em ordem decrescente são {lista}')\r\n",
        "if 5 in lista:\r\n",
        "    print('O valor 5 foi encontrado')\r\n",
        "else:\r\n",
        "    print('O valor 5 não foi encontrado')"
      ],
      "execution_count": null,
      "outputs": [
        {
          "output_type": "stream",
          "text": [
            "-=--=--=--=--=--=--=--=--=--=-\n",
            " Extraindo dados de uma Lista\n",
            "-=--=--=--=--=--=--=--=--=--=-\n",
            "Digite um valor: 5\n",
            "Quer continuar? [S/N] s\n",
            "Digite um valor: 6\n",
            "Quer continuar? [S/N] s\n",
            "Digite um valor: 2\n",
            "Quer continuar? [S/N] s\n",
            "Digite um valor: 10\n",
            "Quer continuar? [S/N] n\n",
            "-=-=-=-=-=-=-=-=-=-=-=-=-=-=-=-=-=-=-=-=-=-=-=-=-=-=-=-=-=-=\n",
            "Você digitou [5, 6, 2, 10] elementos\n",
            "Os valores em ordem decrescente são [10, 6, 5, 2]\n",
            "O valor 5 foi encontrado\n"
          ],
          "name": "stdout"
        }
      ]
    },
    {
      "cell_type": "code",
      "metadata": {
        "colab": {
          "base_uri": "https://localhost:8080/"
        },
        "id": "BrEwP7SMOZ8V",
        "outputId": "d206031b-d94e-46a1-d0f2-78d4e1f2fc6c"
      },
      "source": [
        "print('-=-' * 6)\r\n",
        "print('     Funções')\r\n",
        "print('-=-' * 6)\r\n",
        "def épar(x):\r\n",
        "  return x % 2 == 0\r\n",
        "def par_ou_ímpar(x):\r\n",
        "  if épar(x):\r\n",
        "    return 'par'\r\n",
        "  else: \r\n",
        "    return 'ímpar'\r\n",
        "print(par_ou_ímpar(4))\r\n",
        "print(par_ou_ímpar(5))\r\n"
      ],
      "execution_count": null,
      "outputs": [
        {
          "output_type": "stream",
          "text": [
            "-=--=--=--=--=--=-\n",
            "     Funções\n",
            "-=--=--=--=--=--=-\n",
            "par\n",
            "ímpar\n"
          ],
          "name": "stdout"
        }
      ]
    },
    {
      "cell_type": "code",
      "metadata": {
        "colab": {
          "base_uri": "https://localhost:8080/"
        },
        "id": "2YSi-SU0PgeY",
        "outputId": "2b0e5e8e-1a5f-4121-dc93-0e52db42d21d"
      },
      "source": [
        "print('-=-' * 8)\r\n",
        "print('  Pesquisa em uma lista')\r\n",
        "print('-=-' * 8)\r\n",
        "def pesquise(lista, valor):\r\n",
        "  for x, e in enumerate(lista):\r\n",
        "    if e == valor:\r\n",
        "      return x\r\n",
        "    return None\r\n",
        "  L = [10, 20, 25, 30]\r\n",
        "  print(pesquise(L, 25))\r\n",
        "  print(pesquise(L, 27))\r\n"
      ],
      "execution_count": null,
      "outputs": [
        {
          "output_type": "stream",
          "text": [
            "-=--=--=--=--=--=--=--=-\n",
            "  Pesquisa em uma lista\n",
            "-=--=--=--=--=--=--=--=-\n"
          ],
          "name": "stdout"
        }
      ]
    },
    {
      "cell_type": "code",
      "metadata": {
        "colab": {
          "base_uri": "https://localhost:8080/"
        },
        "id": "8l2aDBv6TyoN",
        "outputId": "3a96d676-baa3-4b94-e8fc-029b11fc26d7"
      },
      "source": [
        "print('-=-' * 8)\r\n",
        "print('         SOMA')\r\n",
        "print('-=-' * 8)\r\n",
        "def soma(L):\r\n",
        "  total = 0\r\n",
        "  for e in L:\r\n",
        "    total += e\r\n",
        "  return total\r\n",
        "def média(L):\r\n",
        "  return soma(L) / len(L)"
      ],
      "execution_count": null,
      "outputs": [
        {
          "output_type": "stream",
          "text": [
            "-=--=--=--=--=--=--=--=-\n",
            "         SOMA\n",
            "-=--=--=--=--=--=--=--=-\n"
          ],
          "name": "stdout"
        }
      ]
    },
    {
      "cell_type": "code",
      "metadata": {
        "colab": {
          "base_uri": "https://localhost:8080/"
        },
        "id": "2F6QpYK3Unmt",
        "outputId": "882ae891-0b08-4aac-b913-d6c8dc140912"
      },
      "source": [
        "print('-=-' * 8)\r\n",
        "print('  Cálculo do fatorial')\r\n",
        "print('-=-' * 8)\r\n",
        "def fatorial(n):\r\n",
        "  fat = 1\r\n",
        "  while n > 1:\r\n",
        "    fat *= n\r\n",
        "    n -= 1\r\n",
        "  return fat\r\n",
        "fatorial(10)"
      ],
      "execution_count": null,
      "outputs": [
        {
          "output_type": "stream",
          "text": [
            "-=--=--=--=--=--=--=--=-\n",
            "  Cálculo do fatorial\n",
            "-=--=--=--=--=--=--=--=-\n"
          ],
          "name": "stdout"
        },
        {
          "output_type": "execute_result",
          "data": {
            "text/plain": [
              "3628800"
            ]
          },
          "metadata": {
            "tags": []
          },
          "execution_count": 104
        }
      ]
    },
    {
      "cell_type": "code",
      "metadata": {
        "colab": {
          "base_uri": "https://localhost:8080/"
        },
        "id": "vHq6Vd6XVCGY",
        "outputId": "7ccd5f95-6f6d-4cad-b71b-f016fb645e30"
      },
      "source": [
        "print('-=-' * 10)\r\n",
        "print('  Variáveis locais e globais')\r\n",
        "print('-=-' * 10)\r\n",
        "\r\n",
        "EMPRESA = 'Araújo Ltda'\r\n",
        "def imprime_cabeçalho():\r\n",
        "     print(EMPRESA)\r\n",
        "     print('-' * len(EMPRESA))\r\n",
        "imprime_cabeçalho()"
      ],
      "execution_count": null,
      "outputs": [
        {
          "output_type": "stream",
          "text": [
            "-=--=--=--=--=--=--=--=--=--=-\n",
            "  Variáveis locais e globais\n",
            "-=--=--=--=--=--=--=--=--=--=-\n",
            "Araújo Ltda\n",
            "-----------\n"
          ],
          "name": "stdout"
        }
      ]
    },
    {
      "cell_type": "code",
      "metadata": {
        "id": "gTUaFXi4Wgll",
        "colab": {
          "base_uri": "https://localhost:8080/"
        },
        "outputId": "abbd4dcf-19a5-4bee-ff7b-e83f189e1094"
      },
      "source": [
        "def my_function(fname):\r\n",
        "  print(fname + \" Refsnes\")\r\n",
        "\r\n",
        "my_function(\"Emil\")\r\n",
        "my_function(\"Tobias\")\r\n",
        "my_function(\"Linus\") "
      ],
      "execution_count": null,
      "outputs": [
        {
          "output_type": "stream",
          "text": [
            "Emil Refsnes\n",
            "Tobias Refsnes\n",
            "Linus Refsnes\n"
          ],
          "name": "stdout"
        }
      ]
    },
    {
      "cell_type": "code",
      "metadata": {
        "id": "DJUPaI_1XzGH",
        "colab": {
          "base_uri": "https://localhost:8080/"
        },
        "outputId": "7a748c52-736a-4417-b44f-6287f1dfe3ff"
      },
      "source": [
        "print('-=-' * 10)\r\n",
        "print('  Variáveis locais e globais')\r\n",
        "print('-=-' * 10)\r\n",
        "a = 5\r\n",
        "def muda_e_imprime():\r\n",
        "  global a\r\n",
        "  a = 7\r\n",
        "  print(f'A dentro da função: {a}')\r\n",
        "print(f'a antes de mudar: {a}')\r\n",
        "muda_e_imprime()\r\n",
        "print(f'a depois de mudar: {a}')"
      ],
      "execution_count": null,
      "outputs": [
        {
          "output_type": "stream",
          "text": [
            "-=--=--=--=--=--=--=--=--=--=-\n",
            "  Variáveis locais e globais\n",
            "-=--=--=--=--=--=--=--=--=--=-\n",
            "a antes de mudar: 5\n",
            "A dentro da função: 7\n",
            "a depois de mudar: 7\n"
          ],
          "name": "stdout"
        }
      ]
    },
    {
      "cell_type": "code",
      "metadata": {
        "id": "qnBKNooJZD1a",
        "colab": {
          "base_uri": "https://localhost:8080/"
        },
        "outputId": "57d957e6-06e0-4a9e-fb3f-96c5cea7f9c1"
      },
      "source": [
        "print('-=-' * 10)\r\n",
        "print('      Funções recursivas')\r\n",
        "print('-=-' * 10)\r\n",
        "def fatorial(n):\r\n",
        "  print(f'Calculando o fatorial de {n}')\r\n",
        "  if n == 0 or n == 1:\r\n",
        "    print(f'Fatorial de {n} = 1')\r\n",
        "    return 1\r\n",
        "  else:\r\n",
        "    fat = n * fatorial(n - 1)\r\n",
        "    print(f'fatorial de {n} = {fat}')\r\n",
        "  return fat \r\n",
        "fatorial(4)"
      ],
      "execution_count": null,
      "outputs": [
        {
          "output_type": "stream",
          "text": [
            "-=--=--=--=--=--=--=--=--=--=-\n",
            "      Funções recursivas\n",
            "-=--=--=--=--=--=--=--=--=--=-\n",
            "Calculando o fatorial de 4\n",
            "Calculando o fatorial de 3\n",
            "Calculando o fatorial de 2\n",
            "Calculando o fatorial de 1\n",
            "Fatorial de 1 = 1\n",
            "fatorial de 2 = 2\n",
            "fatorial de 3 = 6\n",
            "fatorial de 4 = 24\n"
          ],
          "name": "stdout"
        },
        {
          "output_type": "execute_result",
          "data": {
            "text/plain": [
              "24"
            ]
          },
          "metadata": {
            "tags": []
          },
          "execution_count": 75
        }
      ]
    },
    {
      "cell_type": "code",
      "metadata": {
        "id": "doKPCetPbeR0",
        "colab": {
          "base_uri": "https://localhost:8080/"
        },
        "outputId": "7a2da41e-9271-4c3c-cddb-18d7c8d55589"
      },
      "source": [
        "print('-=-' * 10)\r\n",
        "print(' Fibonacci Funções recursivas')\r\n",
        "print('-=-' * 10)\r\n",
        "def fibonacci(n):\r\n",
        "  if n <= 1:\r\n",
        "    return n\r\n",
        "  else:\r\n",
        "    return fibonacci(n-1) + fibonacci(n-2)\r\n",
        "fibonacci(10)"
      ],
      "execution_count": null,
      "outputs": [
        {
          "output_type": "stream",
          "text": [
            "-=--=--=--=--=--=--=--=--=--=-\n",
            " Fibonacci Funções recursivas\n",
            "-=--=--=--=--=--=--=--=--=--=-\n"
          ],
          "name": "stdout"
        },
        {
          "output_type": "execute_result",
          "data": {
            "text/plain": [
              "55"
            ]
          },
          "metadata": {
            "tags": []
          },
          "execution_count": 103
        }
      ]
    },
    {
      "cell_type": "code",
      "metadata": {
        "id": "PNydJn-Qc0YQ",
        "colab": {
          "base_uri": "https://localhost:8080/"
        },
        "outputId": "6df94f9e-a6df-4083-da69-a33d12eb9fc8"
      },
      "source": [
        "print('-=-' * 10)\r\n",
        "print('   Validação usando função')\r\n",
        "print('-=-' * 10)\r\n",
        "def faixa_int(pergunta, mínimo, máximo):\r\n",
        "    while True:\r\n",
        "        v = int(input(pergunta))\r\n",
        "        if v < mínimo or v > máximo:\r\n",
        "            print(f\"Valor inválido. Digite um valor entre {mínimo} e {máximo}\")\r\n",
        "        else:\r\n",
        "            return v\r\n",
        "faixa_int(1, 2, 10)\r\n",
        "\r\n",
        "def valida_string(s, mín, máx):\r\n",
        "    tamanho = len(s)\r\n",
        "    return mín <= tamanho <= máx\r\n",
        "print(valida_string(\"\", 1, 5))\r\n",
        "print(valida_string(\"ABC\", 2, 5))\r\n",
        "print(valida_string(\"ABCEFG\", 3, 5))\r\n",
        "print(valida_string(\"ABCEFG\", 1, 10))\r\n",
        "\r\n",
        "def procura_string(s, lista):\r\n",
        "    return s in lista\r\n",
        "\r\n",
        "\r\n",
        "L = [\"AB\",  \"CD\", \"EF\", \"FG\"]\r\n",
        "\r\n",
        "print(procura_string(\"AB\", L))\r\n",
        "print(procura_string(\"CD\", L))\r\n",
        "print(procura_string(\"EF\", L))\r\n",
        "print(procura_string(\"FG\", L))\r\n",
        "print(procura_string(\"XYZ\", L))\r\n",
        "\r\n",
        "import random\r\n",
        "\r\n",
        "n = random.randint(1, 10)\r\n",
        "tentativas = 0\r\n",
        "while tentativas < 3:\r\n",
        "    x = int(input(\"Escolha um número entre 1 e 10: \"))\r\n",
        "    if (x == n):\r\n",
        "        print(\"Você acertou!\")\r\n",
        "        break\r\n",
        "    else:\r\n",
        "        print(\"Você errou.\")\r\n",
        "    tentativas += 1\r\n"
      ],
      "execution_count": null,
      "outputs": [
        {
          "output_type": "stream",
          "text": [
            "-=--=--=--=--=--=--=--=--=--=-\n",
            "   Validação usando função\n",
            "-=--=--=--=--=--=--=--=--=--=-\n",
            "14\n",
            "False\n",
            "True\n",
            "False\n",
            "True\n",
            "True\n",
            "True\n",
            "True\n",
            "True\n",
            "False\n",
            "Escolha um número entre 1 e 10: 2\n",
            "Você errou.\n",
            "Escolha um número entre 1 e 10: 3\n",
            "Você errou.\n",
            "Escolha um número entre 1 e 10: 4\n",
            "Você errou.\n"
          ],
          "name": "stdout"
        }
      ]
    },
    {
      "cell_type": "code",
      "metadata": {
        "id": "OlLGu_H-zrC3",
        "outputId": "0f974432-2db8-43d2-f8d9-0929bf6f00df",
        "colab": {
          "base_uri": "https://localhost:8080/"
        }
      },
      "source": [
        "print('-=-' * 10)\r\n",
        "print('   Funções como parâmetro')\r\n",
        "print('-=-' * 10)\r\n",
        "def soma(a, b):\r\n",
        "  return a + b\r\n",
        "def subtração(a, b):\r\n",
        "  return a - b\r\n",
        "def imprime(a, b, foper):\r\n",
        "  print(foper(a, b))\r\n",
        "imprime(5, 4, soma)\r\n",
        "imprime(10, 1, subtração)"
      ],
      "execution_count": 3,
      "outputs": [
        {
          "output_type": "stream",
          "text": [
            "-=--=--=--=--=--=--=--=--=--=-\n",
            "   Funções como parâmetro\n",
            "-=--=--=--=--=--=--=--=--=--=-\n",
            "9\n",
            "9\n"
          ],
          "name": "stdout"
        }
      ]
    },
    {
      "cell_type": "code",
      "metadata": {
        "id": "IZEhE5mf9pjE",
        "outputId": "a055c315-9310-485b-ea7a-a3354aae4566",
        "colab": {
          "base_uri": "https://localhost:8080/"
        }
      },
      "source": [
        "print('-=-' * 12)\r\n",
        "print('Configuração de funções com funções')\r\n",
        "print('-=-' * 12)\r\n",
        "def imprime_lista(L, fimpressão, fcondição):\r\n",
        "  for e in L:\r\n",
        "    if fcondição(e):\r\n",
        "        fimpressão(e)\r\n",
        "def imprime_elemento(e):\r\n",
        "  print(f'Valor: {e}')\r\n",
        "def épar(x):\r\n",
        "  return x % 2 == 0\r\n",
        "def éimpar(x):\r\n",
        "  return not épar(x)\r\n",
        "L = [1, 7, 9, 2, 10, 0]\r\n",
        "imprime_lista(L, imprime_elemento, épar)\r\n",
        "imprime_lista(L, imprime_elemento, éimpar)  "
      ],
      "execution_count": 10,
      "outputs": [
        {
          "output_type": "stream",
          "text": [
            "-=--=--=--=--=--=--=--=--=--=--=--=-\n",
            "Configuração de funções com funções\n",
            "-=--=--=--=--=--=--=--=--=--=--=--=-\n",
            "Valor: 2\n",
            "Valor: 10\n",
            "Valor: 0\n",
            "Valor: 1\n",
            "Valor: 7\n",
            "Valor: 9\n"
          ],
          "name": "stdout"
        }
      ]
    },
    {
      "cell_type": "code",
      "metadata": {
        "id": "Ocn-vgyHAgVb",
        "outputId": "4d3f3cfe-5d42-4d8b-b865-47ab11f5cf24",
        "colab": {
          "base_uri": "https://localhost:8080/"
        }
      },
      "source": [
        "def soma(a, b):\r\n",
        "  print(a + b)\r\n",
        "L = [2, 3]\r\n",
        "soma(*L)\r\n",
        "print('-=-' * 12)\r\n",
        "def barra(n=10, c='*'):\r\n",
        "  print(c * n)\r\n",
        "L = [[5, '-'], [10, '*'], [5], [6, '.'], [5]]\r\n",
        "for e in L:\r\n",
        "  barra(*e)"
      ],
      "execution_count": 16,
      "outputs": [
        {
          "output_type": "stream",
          "text": [
            "5\n",
            "-=--=--=--=--=--=--=--=--=--=--=--=-\n",
            "-----\n",
            "**********\n",
            "*****\n",
            "......\n",
            "*****\n"
          ],
          "name": "stdout"
        }
      ]
    },
    {
      "cell_type": "code",
      "metadata": {
        "id": "SA7ECZmxGrP6",
        "outputId": "e3209ae1-4851-4cd6-f07f-422741725fa1",
        "colab": {
          "base_uri": "https://localhost:8080/"
        }
      },
      "source": [
        "def soma(*args):\r\n",
        "  s = 0\r\n",
        "  for x in args:\r\n",
        "    s += x\r\n",
        "  return s\r\n",
        "soma(1,2)\r\n",
        "soma(2)\r\n",
        "soma(5, 6, 7, 8)\r\n",
        "soma(9, 10, 20, 30, 40)"
      ],
      "execution_count": 21,
      "outputs": [
        {
          "output_type": "execute_result",
          "data": {
            "text/plain": [
              "109"
            ]
          },
          "metadata": {
            "tags": []
          },
          "execution_count": 21
        }
      ]
    },
    {
      "cell_type": "code",
      "metadata": {
        "id": "XKlwFi1VLUP5",
        "outputId": "34721377-281c-4c7c-d664-5ad47d8898cd",
        "colab": {
          "base_uri": "https://localhost:8080/"
        }
      },
      "source": [
        "def imprime_maior(mensagem, *numeros):\r\n",
        "  maior = None\r\n",
        "  for e in numeros:\r\n",
        "    if maior is None or maior < e:\r\n",
        "      maior = e\r\n",
        "    print(mensagem, maior)\r\n",
        "imprime_maior('Maior:', 2, 6, 3, 1)\r\n",
        "imprime_maior('Max:', *[1, 7, 9])"
      ],
      "execution_count": 27,
      "outputs": [
        {
          "output_type": "stream",
          "text": [
            "Maior: 2\n",
            "Maior: 6\n",
            "Maior: 6\n",
            "Maior: 6\n",
            "Max: 1\n",
            "Max: 7\n",
            "Max: 9\n"
          ],
          "name": "stdout"
        }
      ]
    },
    {
      "cell_type": "markdown",
      "metadata": {
        "id": "ZtOnyu2TxNR3"
      },
      "source": [
        "Fazer um programa (na linguagem de sua preferência) para gerar números\r\n",
        "pseudo-aleatórios utilizando o método congruente linear. Escolha parâmetros a e M suficientemente\r\n",
        "grandes para que os números gerados sejam, de fato, pseudo-aleatórios. Gerar 100\r\n",
        "números entre [0, 1] (dividir por M e pegar apenas a primeira casa decimal, para que os valores\r\n",
        "sorteados sejam discretizados em intervalos de 0.1 em 0.1, isto é, [0:0.1; 0.1:0.2; 0.2:0.3; ...\r\n",
        "0.9:1]). Gerar gráfco da frequencia relativa dos intervalos.\r\n",
        "Usando o gerador nativo da linguagem escolhida por você, repita o processo para gerar\r\n",
        "1000 números. HGere o gráfico e compare os resultados."
      ]
    },
    {
      "cell_type": "code",
      "metadata": {
        "id": "TkygFk7cw9b7",
        "colab": {
          "base_uri": "https://localhost:8080/",
          "height": 1000
        },
        "outputId": "234075ff-5dcf-41dc-a782-74727ded60e5"
      },
      "source": [
        "# -*- coding: utf-8 -*-\r\n",
        "\"\"\"Atividade5_AndreAraujo.ipynb\r\n",
        "\r\n",
        "Automatically generated by Colaboratory.\r\n",
        "\r\n",
        "Original file is located at\r\n",
        "    https://colab.research.google.com/drive/1-gaXqD-ipr2n_9w_27W6zjux1_ZbtEsQ\r\n",
        "\"\"\"\r\n",
        "\r\n",
        "# Função de geração de numero aleatorios\r\n",
        "def linearCongruentialMethod(Xo, m, a, c, randomNums, noOfRandomNums): \r\n",
        "\r\n",
        "# inicialização da semente \r\n",
        "    randomNums[0] = Xo \r\n",
        "\r\n",
        "   \r\n",
        "    for i in range(1, noOfRandomNums): \r\n",
        "\r\n",
        "        \r\n",
        "        randomNums[i] = ((randomNums[i - 1] * a) + c) % m \r\n",
        "\r\n",
        "\r\n",
        "if __name__ == '__main__': \r\n",
        "    \r\n",
        " # semente\r\n",
        "    Xo = 17 \r\n",
        "      \r\n",
        "    # parametro do modulo\r\n",
        "    m = 256 \r\n",
        "      \r\n",
        "    # termo multiplicador\r\n",
        "    a = 1\r\n",
        "\r\n",
        "    # termo multiplicador\r\n",
        "    c = 121\r\n",
        "    \r\n",
        "    noOfRandomNums = 100\r\n",
        "\r\n",
        "    # To store random numbers \r\n",
        "    randomNums = [0] * (noOfRandomNums) \r\n",
        "\r\n",
        "    # Function Call \r\n",
        "    linearCongruentialMethod(Xo, m, a, c, randomNums, noOfRandomNums) \r\n",
        "    \r\n",
        "    # Print the generated random numbers \r\n",
        "    for i in randomNums:\r\n",
        "        \r\n",
        "        print(i/m, end = \" \") \r\n",
        "\r\n",
        "\r\n",
        "import matplotlib.pyplot as plt\r\n",
        "\r\n",
        "Lista = [float(i) / m  for i in randomNums]\r\n",
        "\r\n",
        "plt.hist(Lista, 100, rwidth=1)\r\n",
        "plt.title('Gráfico Para 100')\r\n",
        "plt.ylabel('Frequência ')\r\n",
        "plt.show()\r\n",
        "\r\n",
        "\r\n",
        "\r\n",
        "# Função de geração de numero aleatorios\r\n",
        "def linearCongruentialMethod(Xo, m, a, c, randomNums, noOfRandomNums): \r\n",
        "\r\n",
        "# inicialização da semente \r\n",
        "    randomNums[0] = Xo \r\n",
        "\r\n",
        "   \r\n",
        "    for i in range(1, noOfRandomNums): \r\n",
        "\r\n",
        "        \r\n",
        "        randomNums[i] = ((randomNums[i - 1] * a) + c) % m \r\n",
        "\r\n",
        "\r\n",
        "if __name__ == '__main__': \r\n",
        "    \r\n",
        " # semente\r\n",
        "    Xo = 17 \r\n",
        "      \r\n",
        "    # parametro do modulo\r\n",
        "    m = 256 \r\n",
        "      \r\n",
        "    # termo multiplicador\r\n",
        "    a = 1\r\n",
        "\r\n",
        "    # termo multiplicador\r\n",
        "    c = 121\r\n",
        "    \r\n",
        "    noOfRandomNums = 1000\r\n",
        "\r\n",
        "    # To store random numbers \r\n",
        "    randomNums = [0] * (noOfRandomNums) \r\n",
        "\r\n",
        "    # Function Call \r\n",
        "    linearCongruentialMethod(Xo, m, a, c, randomNums, noOfRandomNums) \r\n",
        "    \r\n",
        "    # Print the generated random numbers \r\n",
        "    for i in randomNums:\r\n",
        "        \r\n",
        "        print(i/m, end = \" \") \r\n",
        "\r\n",
        "import matplotlib.pyplot as plt\r\n",
        "\r\n",
        "Lista = [float(i) / m for i in randomNums]\r\n",
        "\r\n",
        "plt.hist(Lista, 1000, rwidth=1)\r\n",
        "plt.title('Gráfico Para 1000')\r\n",
        "plt.ylabel('Frequência ')\r\n",
        "plt.show()# -*- coding: utf-8 -*-\r\n",
        "\"\"\"Atividade5_AndreAraujo.ipynb\r\n",
        "\r\n",
        "Automatically generated by Colaboratory.\r\n",
        "\r\n",
        "Original file is located at\r\n",
        "    https://colab.research.google.com/drive/1-gaXqD-ipr2n_9w_27W6zjux1_ZbtEsQ\r\n",
        "\"\"\"\r\n",
        "\r\n",
        "# Função de geração de numero aleatorios\r\n",
        "def linearCongruentialMethod(Xo, m, a, c, randomNums, noOfRandomNums): \r\n",
        "\r\n",
        "# inicialização da semente \r\n",
        "    randomNums[0] = Xo \r\n",
        "\r\n",
        "   \r\n",
        "    for i in range(1, noOfRandomNums): \r\n",
        "\r\n",
        "        \r\n",
        "        randomNums[i] = ((randomNums[i - 1] * a) + c) % m \r\n",
        "\r\n",
        "\r\n",
        "if __name__ == '__main__': \r\n",
        "    \r\n",
        " # semente\r\n",
        "    Xo = 17 \r\n",
        "      \r\n",
        "    # parametro do modulo\r\n",
        "    m = 256 \r\n",
        "      \r\n",
        "    # termo multiplicador\r\n",
        "    a = 1\r\n",
        "\r\n",
        "    # termo multiplicador\r\n",
        "    c = 121\r\n",
        "    \r\n",
        "    noOfRandomNums = 100\r\n",
        "\r\n",
        "    # To store random numbers \r\n",
        "    randomNums = [0] * (noOfRandomNums) \r\n",
        "\r\n",
        "    # Function Call \r\n",
        "    linearCongruentialMethod(Xo, m, a, c, randomNums, noOfRandomNums) \r\n",
        "    \r\n",
        "    # Print the generated random numbers \r\n",
        "    for i in randomNums:\r\n",
        "        \r\n",
        "        print(i/m, end = \" \") \r\n",
        "\r\n",
        "\r\n",
        "import matplotlib.pyplot as plt\r\n",
        "\r\n",
        "Lista = [float(i) / m  for i in randomNums]\r\n",
        "\r\n",
        "plt.hist(Lista, 100, rwidth=1)\r\n",
        "plt.title('Gráfico Para 100')\r\n",
        "plt.ylabel('Frequência ')\r\n",
        "plt.show()\r\n",
        "\r\n",
        "\r\n",
        "\r\n",
        "# Função de geração de numero aleatorios\r\n",
        "def linearCongruentialMethod(Xo, m, a, c, randomNums, noOfRandomNums): \r\n",
        "\r\n",
        "# inicialização da semente \r\n",
        "    randomNums[0] = Xo \r\n",
        "\r\n",
        "   \r\n",
        "    for i in range(1, noOfRandomNums): \r\n",
        "\r\n",
        "        \r\n",
        "        randomNums[i] = ((randomNums[i - 1] * a) + c) % m \r\n",
        "\r\n",
        "\r\n",
        "if __name__ == '__main__': \r\n",
        "    \r\n",
        " # semente\r\n",
        "    Xo = 17 \r\n",
        "      \r\n",
        "    # parametro do modulo\r\n",
        "    m = 256 \r\n",
        "      \r\n",
        "    # termo multiplicador\r\n",
        "    a = 1\r\n",
        "\r\n",
        "    # termo multiplicador\r\n",
        "    c = 121\r\n",
        "    \r\n",
        "    noOfRandomNums = 1000\r\n",
        "\r\n",
        "    # To store random numbers \r\n",
        "    randomNums = [0] * (noOfRandomNums) \r\n",
        "\r\n",
        "    # Function Call \r\n",
        "    linearCongruentialMethod(Xo, m, a, c, randomNums, noOfRandomNums) \r\n",
        "    \r\n",
        "    # Print the generated random numbers \r\n",
        "    for i in randomNums:\r\n",
        "        \r\n",
        "        print(i/m, end = \" \") \r\n",
        "\r\n",
        "import matplotlib.pyplot as plt\r\n",
        "\r\n",
        "Lista = [float(i) / m for i in randomNums]\r\n",
        "\r\n",
        "plt.hist(Lista, 1000, rwidth=1)\r\n",
        "plt.title('Gráfico Para 1000')\r\n",
        "plt.ylabel('Frequência ')\r\n",
        "plt.show()"
      ],
      "execution_count": null,
      "outputs": [
        {
          "output_type": "stream",
          "text": [
            "0.06640625 0.5390625 0.01171875 0.484375 0.95703125 0.4296875 0.90234375 0.375 0.84765625 0.3203125 0.79296875 0.265625 0.73828125 0.2109375 0.68359375 0.15625 0.62890625 0.1015625 0.57421875 0.046875 0.51953125 0.9921875 0.46484375 0.9375 0.41015625 0.8828125 0.35546875 0.828125 0.30078125 0.7734375 0.24609375 0.71875 0.19140625 0.6640625 0.13671875 0.609375 0.08203125 0.5546875 0.02734375 0.5 0.97265625 0.4453125 0.91796875 0.390625 0.86328125 0.3359375 0.80859375 0.28125 0.75390625 0.2265625 0.69921875 0.171875 0.64453125 0.1171875 0.58984375 0.0625 0.53515625 0.0078125 0.48046875 0.953125 0.42578125 0.8984375 0.37109375 0.84375 0.31640625 0.7890625 0.26171875 0.734375 0.20703125 0.6796875 0.15234375 0.625 0.09765625 0.5703125 0.04296875 0.515625 0.98828125 0.4609375 0.93359375 0.40625 0.87890625 0.3515625 0.82421875 0.296875 0.76953125 0.2421875 0.71484375 0.1875 0.66015625 0.1328125 0.60546875 0.078125 0.55078125 0.0234375 0.49609375 0.96875 0.44140625 0.9140625 0.38671875 0.859375 "
          ],
          "name": "stdout"
        },
        {
          "output_type": "display_data",
          "data": {
            "image/png": "[encoded data removed]",
            "text/plain": [
              "<Figure size 432x288 with 1 Axes>"
            ]
          },
          "metadata": {
            "tags": [],
            "needs_background": "light"
          }
        },
        {
          "output_type": "stream",
          "text": [
            "0.06640625 0.5390625 0.01171875 0.484375 0.95703125 0.4296875 0.90234375 0.375 0.84765625 0.3203125 0.79296875 0.265625 0.73828125 0.2109375 0.68359375 0.15625 0.62890625 0.1015625 0.57421875 0.046875 0.51953125 0.9921875 0.46484375 0.9375 0.41015625 0.8828125 0.35546875 0.828125 0.30078125 0.7734375 0.24609375 0.71875 0.19140625 0.6640625 0.13671875 0.609375 0.08203125 0.5546875 0.02734375 0.5 0.97265625 0.4453125 0.91796875 0.390625 0.86328125 0.3359375 0.80859375 0.28125 0.75390625 0.2265625 0.69921875 0.171875 0.64453125 0.1171875 0.58984375 0.0625 0.53515625 0.0078125 0.48046875 0.953125 0.42578125 0.8984375 0.37109375 0.84375 0.31640625 0.7890625 0.26171875 0.734375 0.20703125 0.6796875 0.15234375 0.625 0.09765625 0.5703125 0.04296875 0.515625 0.98828125 0.4609375 0.93359375 0.40625 0.87890625 0.3515625 0.82421875 0.296875 0.76953125 0.2421875 0.71484375 0.1875 0.66015625 0.1328125 0.60546875 0.078125 0.55078125 0.0234375 0.49609375 0.96875 0.44140625 0.9140625 0.38671875 0.859375 0.33203125 0.8046875 0.27734375 0.75 0.22265625 0.6953125 0.16796875 0.640625 0.11328125 0.5859375 0.05859375 0.53125 0.00390625 0.4765625 0.94921875 0.421875 0.89453125 0.3671875 0.83984375 0.3125 0.78515625 0.2578125 0.73046875 0.203125 0.67578125 0.1484375 0.62109375 0.09375 0.56640625 0.0390625 0.51171875 0.984375 0.45703125 0.9296875 0.40234375 0.875 0.34765625 0.8203125 0.29296875 0.765625 0.23828125 0.7109375 0.18359375 0.65625 0.12890625 0.6015625 0.07421875 0.546875 0.01953125 0.4921875 0.96484375 0.4375 0.91015625 0.3828125 0.85546875 0.328125 0.80078125 0.2734375 0.74609375 0.21875 0.69140625 0.1640625 0.63671875 0.109375 0.58203125 0.0546875 0.52734375 0.0 0.47265625 0.9453125 0.41796875 0.890625 0.36328125 0.8359375 0.30859375 0.78125 0.25390625 0.7265625 0.19921875 0.671875 0.14453125 0.6171875 0.08984375 0.5625 0.03515625 0.5078125 0.98046875 0.453125 0.92578125 0.3984375 0.87109375 0.34375 0.81640625 0.2890625 0.76171875 0.234375 0.70703125 0.1796875 0.65234375 0.125 0.59765625 0.0703125 0.54296875 0.015625 0.48828125 0.9609375 0.43359375 0.90625 0.37890625 0.8515625 0.32421875 0.796875 0.26953125 0.7421875 0.21484375 0.6875 0.16015625 0.6328125 0.10546875 0.578125 0.05078125 0.5234375 0.99609375 0.46875 0.94140625 0.4140625 0.88671875 0.359375 0.83203125 0.3046875 0.77734375 0.25 0.72265625 0.1953125 0.66796875 0.140625 0.61328125 0.0859375 0.55859375 0.03125 0.50390625 0.9765625 0.44921875 0.921875 0.39453125 0.8671875 0.33984375 0.8125 0.28515625 0.7578125 0.23046875 0.703125 0.17578125 0.6484375 0.12109375 0.59375 0.06640625 0.5390625 0.01171875 0.484375 0.95703125 0.4296875 0.90234375 0.375 0.84765625 0.3203125 0.79296875 0.265625 0.73828125 0.2109375 0.68359375 0.15625 0.62890625 0.1015625 0.57421875 0.046875 0.51953125 0.9921875 0.46484375 0.9375 0.41015625 0.8828125 0.35546875 0.828125 0.30078125 0.7734375 0.24609375 0.71875 0.19140625 0.6640625 0.13671875 0.609375 0.08203125 0.5546875 0.02734375 0.5 0.97265625 0.4453125 0.91796875 0.390625 0.86328125 0.3359375 0.80859375 0.28125 0.75390625 0.2265625 0.69921875 0.171875 0.64453125 0.1171875 0.58984375 0.0625 0.53515625 0.0078125 0.48046875 0.953125 0.42578125 0.8984375 0.37109375 0.84375 0.31640625 0.7890625 0.26171875 0.734375 0.20703125 0.6796875 0.15234375 0.625 0.09765625 0.5703125 0.04296875 0.515625 0.98828125 0.4609375 0.93359375 0.40625 0.87890625 0.3515625 0.82421875 0.296875 0.76953125 0.2421875 0.71484375 0.1875 0.66015625 0.1328125 0.60546875 0.078125 0.55078125 0.0234375 0.49609375 0.96875 0.44140625 0.9140625 0.38671875 0.859375 0.33203125 0.8046875 0.27734375 0.75 0.22265625 0.6953125 0.16796875 0.640625 0.11328125 0.5859375 0.05859375 0.53125 0.00390625 0.4765625 0.94921875 0.421875 0.89453125 0.3671875 0.83984375 0.3125 0.78515625 0.2578125 0.73046875 0.203125 0.67578125 0.1484375 0.62109375 0.09375 0.56640625 0.0390625 0.51171875 0.984375 0.45703125 0.9296875 0.40234375 0.875 0.34765625 0.8203125 0.29296875 0.765625 0.23828125 0.7109375 0.18359375 0.65625 0.12890625 0.6015625 0.07421875 0.546875 0.01953125 0.4921875 0.96484375 0.4375 0.91015625 0.3828125 0.85546875 0.328125 0.80078125 0.2734375 0.74609375 0.21875 0.69140625 0.1640625 0.63671875 0.109375 0.58203125 0.0546875 0.52734375 0.0 0.47265625 0.9453125 0.41796875 0.890625 0.36328125 0.8359375 0.30859375 0.78125 0.25390625 0.7265625 0.19921875 0.671875 0.14453125 0.6171875 0.08984375 0.5625 0.03515625 0.5078125 0.98046875 0.453125 0.92578125 0.3984375 0.87109375 0.34375 0.81640625 0.2890625 0.76171875 0.234375 0.70703125 0.1796875 0.65234375 0.125 0.59765625 0.0703125 0.54296875 0.015625 0.48828125 0.9609375 0.43359375 0.90625 0.37890625 0.8515625 0.32421875 0.796875 0.26953125 0.7421875 0.21484375 0.6875 0.16015625 0.6328125 0.10546875 0.578125 0.05078125 0.5234375 0.99609375 0.46875 0.94140625 0.4140625 0.88671875 0.359375 0.83203125 0.3046875 0.77734375 0.25 0.72265625 0.1953125 0.66796875 0.140625 0.61328125 0.0859375 0.55859375 0.03125 0.50390625 0.9765625 0.44921875 0.921875 0.39453125 0.8671875 0.33984375 0.8125 0.28515625 0.7578125 0.23046875 0.703125 0.17578125 0.6484375 0.12109375 0.59375 0.06640625 0.5390625 0.01171875 0.484375 0.95703125 0.4296875 0.90234375 0.375 0.84765625 0.3203125 0.79296875 0.265625 0.73828125 0.2109375 0.68359375 0.15625 0.62890625 0.1015625 0.57421875 0.046875 0.51953125 0.9921875 0.46484375 0.9375 0.41015625 0.8828125 0.35546875 0.828125 0.30078125 0.7734375 0.24609375 0.71875 0.19140625 0.6640625 0.13671875 0.609375 0.08203125 0.5546875 0.02734375 0.5 0.97265625 0.4453125 0.91796875 0.390625 0.86328125 0.3359375 0.80859375 0.28125 0.75390625 0.2265625 0.69921875 0.171875 0.64453125 0.1171875 0.58984375 0.0625 0.53515625 0.0078125 0.48046875 0.953125 0.42578125 0.8984375 0.37109375 0.84375 0.31640625 0.7890625 0.26171875 0.734375 0.20703125 0.6796875 0.15234375 0.625 0.09765625 0.5703125 0.04296875 0.515625 0.98828125 0.4609375 0.93359375 0.40625 0.87890625 0.3515625 0.82421875 0.296875 0.76953125 0.2421875 0.71484375 0.1875 0.66015625 0.1328125 0.60546875 0.078125 0.55078125 0.0234375 0.49609375 0.96875 0.44140625 0.9140625 0.38671875 0.859375 0.33203125 0.8046875 0.27734375 0.75 0.22265625 0.6953125 0.16796875 0.640625 0.11328125 0.5859375 0.05859375 0.53125 0.00390625 0.4765625 0.94921875 0.421875 0.89453125 0.3671875 0.83984375 0.3125 0.78515625 0.2578125 0.73046875 0.203125 0.67578125 0.1484375 0.62109375 0.09375 0.56640625 0.0390625 0.51171875 0.984375 0.45703125 0.9296875 0.40234375 0.875 0.34765625 0.8203125 0.29296875 0.765625 0.23828125 0.7109375 0.18359375 0.65625 0.12890625 0.6015625 0.07421875 0.546875 0.01953125 0.4921875 0.96484375 0.4375 0.91015625 0.3828125 0.85546875 0.328125 0.80078125 0.2734375 0.74609375 0.21875 0.69140625 0.1640625 0.63671875 0.109375 0.58203125 0.0546875 0.52734375 0.0 0.47265625 0.9453125 0.41796875 0.890625 0.36328125 0.8359375 0.30859375 0.78125 0.25390625 0.7265625 0.19921875 0.671875 0.14453125 0.6171875 0.08984375 0.5625 0.03515625 0.5078125 0.98046875 0.453125 0.92578125 0.3984375 0.87109375 0.34375 0.81640625 0.2890625 0.76171875 0.234375 0.70703125 0.1796875 0.65234375 0.125 0.59765625 0.0703125 0.54296875 0.015625 0.48828125 0.9609375 0.43359375 0.90625 0.37890625 0.8515625 0.32421875 0.796875 0.26953125 0.7421875 0.21484375 0.6875 0.16015625 0.6328125 0.10546875 0.578125 0.05078125 0.5234375 0.99609375 0.46875 0.94140625 0.4140625 0.88671875 0.359375 0.83203125 0.3046875 0.77734375 0.25 0.72265625 0.1953125 0.66796875 0.140625 0.61328125 0.0859375 0.55859375 0.03125 0.50390625 0.9765625 0.44921875 0.921875 0.39453125 0.8671875 0.33984375 0.8125 0.28515625 0.7578125 0.23046875 0.703125 0.17578125 0.6484375 0.12109375 0.59375 0.06640625 0.5390625 0.01171875 0.484375 0.95703125 0.4296875 0.90234375 0.375 0.84765625 0.3203125 0.79296875 0.265625 0.73828125 0.2109375 0.68359375 0.15625 0.62890625 0.1015625 0.57421875 0.046875 0.51953125 0.9921875 0.46484375 0.9375 0.41015625 0.8828125 0.35546875 0.828125 0.30078125 0.7734375 0.24609375 0.71875 0.19140625 0.6640625 0.13671875 0.609375 0.08203125 0.5546875 0.02734375 0.5 0.97265625 0.4453125 0.91796875 0.390625 0.86328125 0.3359375 0.80859375 0.28125 0.75390625 0.2265625 0.69921875 0.171875 0.64453125 0.1171875 0.58984375 0.0625 0.53515625 0.0078125 0.48046875 0.953125 0.42578125 0.8984375 0.37109375 0.84375 0.31640625 0.7890625 0.26171875 0.734375 0.20703125 0.6796875 0.15234375 0.625 0.09765625 0.5703125 0.04296875 0.515625 0.98828125 0.4609375 0.93359375 0.40625 0.87890625 0.3515625 0.82421875 0.296875 0.76953125 0.2421875 0.71484375 0.1875 0.66015625 0.1328125 0.60546875 0.078125 0.55078125 0.0234375 0.49609375 0.96875 0.44140625 0.9140625 0.38671875 0.859375 0.33203125 0.8046875 0.27734375 0.75 0.22265625 0.6953125 0.16796875 0.640625 0.11328125 0.5859375 0.05859375 0.53125 0.00390625 0.4765625 0.94921875 0.421875 0.89453125 0.3671875 0.83984375 0.3125 0.78515625 0.2578125 0.73046875 0.203125 0.67578125 0.1484375 0.62109375 0.09375 0.56640625 0.0390625 0.51171875 0.984375 0.45703125 0.9296875 0.40234375 0.875 0.34765625 0.8203125 0.29296875 0.765625 0.23828125 0.7109375 0.18359375 0.65625 0.12890625 0.6015625 0.07421875 0.546875 0.01953125 0.4921875 0.96484375 0.4375 0.91015625 0.3828125 0.85546875 0.328125 0.80078125 0.2734375 0.74609375 0.21875 0.69140625 0.1640625 0.63671875 0.109375 0.58203125 0.0546875 0.52734375 0.0 0.47265625 0.9453125 0.41796875 0.890625 0.36328125 0.8359375 0.30859375 0.78125 0.25390625 0.7265625 0.19921875 0.671875 0.14453125 0.6171875 0.08984375 0.5625 0.03515625 0.5078125 0.98046875 0.453125 0.92578125 0.3984375 0.87109375 0.34375 0.81640625 0.2890625 0.76171875 0.234375 0.70703125 0.1796875 0.65234375 0.125 0.59765625 0.0703125 0.54296875 0.015625 0.48828125 0.9609375 0.43359375 0.90625 0.37890625 0.8515625 0.32421875 0.796875 0.26953125 0.7421875 0.21484375 0.6875 0.16015625 0.6328125 0.10546875 0.578125 0.05078125 0.5234375 0.99609375 0.46875 0.94140625 0.4140625 0.88671875 0.359375 0.83203125 0.3046875 0.77734375 0.25 "
          ],
          "name": "stdout"
        },
        {
          "output_type": "display_data",
          "data": {
            "image/png": "[encoded data removed]",
            "text/plain": [
              "<Figure size 432x288 with 1 Axes>"
            ]
          },
          "metadata": {
            "tags": [],
            "needs_background": "light"
          }
        },
        {
          "output_type": "stream",
          "text": [
            "0.06640625 0.5390625 0.01171875 0.484375 0.95703125 0.4296875 0.90234375 0.375 0.84765625 0.3203125 0.79296875 0.265625 0.73828125 0.2109375 0.68359375 0.15625 0.62890625 0.1015625 0.57421875 0.046875 0.51953125 0.9921875 0.46484375 0.9375 0.41015625 0.8828125 0.35546875 0.828125 0.30078125 0.7734375 0.24609375 0.71875 0.19140625 0.6640625 0.13671875 0.609375 0.08203125 0.5546875 0.02734375 0.5 0.97265625 0.4453125 0.91796875 0.390625 0.86328125 0.3359375 0.80859375 0.28125 0.75390625 0.2265625 0.69921875 0.171875 0.64453125 0.1171875 0.58984375 0.0625 0.53515625 0.0078125 0.48046875 0.953125 0.42578125 0.8984375 0.37109375 0.84375 0.31640625 0.7890625 0.26171875 0.734375 0.20703125 0.6796875 0.15234375 0.625 0.09765625 0.5703125 0.04296875 0.515625 0.98828125 0.4609375 0.93359375 0.40625 0.87890625 0.3515625 0.82421875 0.296875 0.76953125 0.2421875 0.71484375 0.1875 0.66015625 0.1328125 0.60546875 0.078125 0.55078125 0.0234375 0.49609375 0.96875 0.44140625 0.9140625 0.38671875 0.859375 "
          ],
          "name": "stdout"
        },
        {
          "output_type": "display_data",
          "data": {
            "image/png": "[encoded data removed]",
            "text/plain": [
              "<Figure size 432x288 with 1 Axes>"
            ]
          },
          "metadata": {
            "tags": [],
            "needs_background": "light"
          }
        },
        {
          "output_type": "stream",
          "text": [
            "0.06640625 0.5390625 0.01171875 0.484375 0.95703125 0.4296875 0.90234375 0.375 0.84765625 0.3203125 0.79296875 0.265625 0.73828125 0.2109375 0.68359375 0.15625 0.62890625 0.1015625 0.57421875 0.046875 0.51953125 0.9921875 0.46484375 0.9375 0.41015625 0.8828125 0.35546875 0.828125 0.30078125 0.7734375 0.24609375 0.71875 0.19140625 0.6640625 0.13671875 0.609375 0.08203125 0.5546875 0.02734375 0.5 0.97265625 0.4453125 0.91796875 0.390625 0.86328125 0.3359375 0.80859375 0.28125 0.75390625 0.2265625 0.69921875 0.171875 0.64453125 0.1171875 0.58984375 0.0625 0.53515625 0.0078125 0.48046875 0.953125 0.42578125 0.8984375 0.37109375 0.84375 0.31640625 0.7890625 0.26171875 0.734375 0.20703125 0.6796875 0.15234375 0.625 0.09765625 0.5703125 0.04296875 0.515625 0.98828125 0.4609375 0.93359375 0.40625 0.87890625 0.3515625 0.82421875 0.296875 0.76953125 0.2421875 0.71484375 0.1875 0.66015625 0.1328125 0.60546875 0.078125 0.55078125 0.0234375 0.49609375 0.96875 0.44140625 0.9140625 0.38671875 0.859375 0.33203125 0.8046875 0.27734375 0.75 0.22265625 0.6953125 0.16796875 0.640625 0.11328125 0.5859375 0.05859375 0.53125 0.00390625 0.4765625 0.94921875 0.421875 0.89453125 0.3671875 0.83984375 0.3125 0.78515625 0.2578125 0.73046875 0.203125 0.67578125 0.1484375 0.62109375 0.09375 0.56640625 0.0390625 0.51171875 0.984375 0.45703125 0.9296875 0.40234375 0.875 0.34765625 0.8203125 0.29296875 0.765625 0.23828125 0.7109375 0.18359375 0.65625 0.12890625 0.6015625 0.07421875 0.546875 0.01953125 0.4921875 0.96484375 0.4375 0.91015625 0.3828125 0.85546875 0.328125 0.80078125 0.2734375 0.74609375 0.21875 0.69140625 0.1640625 0.63671875 0.109375 0.58203125 0.0546875 0.52734375 0.0 0.47265625 0.9453125 0.41796875 0.890625 0.36328125 0.8359375 0.30859375 0.78125 0.25390625 0.7265625 0.19921875 0.671875 0.14453125 0.6171875 0.08984375 0.5625 0.03515625 0.5078125 0.98046875 0.453125 0.92578125 0.3984375 0.87109375 0.34375 0.81640625 0.2890625 0.76171875 0.234375 0.70703125 0.1796875 0.65234375 0.125 0.59765625 0.0703125 0.54296875 0.015625 0.48828125 0.9609375 0.43359375 0.90625 0.37890625 0.8515625 0.32421875 0.796875 0.26953125 0.7421875 0.21484375 0.6875 0.16015625 0.6328125 0.10546875 0.578125 0.05078125 0.5234375 0.99609375 0.46875 0.94140625 0.4140625 0.88671875 0.359375 0.83203125 0.3046875 0.77734375 0.25 0.72265625 0.1953125 0.66796875 0.140625 0.61328125 0.0859375 0.55859375 0.03125 0.50390625 0.9765625 0.44921875 0.921875 0.39453125 0.8671875 0.33984375 0.8125 0.28515625 0.7578125 0.23046875 0.703125 0.17578125 0.6484375 0.12109375 0.59375 0.06640625 0.5390625 0.01171875 0.484375 0.95703125 0.4296875 0.90234375 0.375 0.84765625 0.3203125 0.79296875 0.265625 0.73828125 0.2109375 0.68359375 0.15625 0.62890625 0.1015625 0.57421875 0.046875 0.51953125 0.9921875 0.46484375 0.9375 0.41015625 0.8828125 0.35546875 0.828125 0.30078125 0.7734375 0.24609375 0.71875 0.19140625 0.6640625 0.13671875 0.609375 0.08203125 0.5546875 0.02734375 0.5 0.97265625 0.4453125 0.91796875 0.390625 0.86328125 0.3359375 0.80859375 0.28125 0.75390625 0.2265625 0.69921875 0.171875 0.64453125 0.1171875 0.58984375 0.0625 0.53515625 0.0078125 0.48046875 0.953125 0.42578125 0.8984375 0.37109375 0.84375 0.31640625 0.7890625 0.26171875 0.734375 0.20703125 0.6796875 0.15234375 0.625 0.09765625 0.5703125 0.04296875 0.515625 0.98828125 0.4609375 0.93359375 0.40625 0.87890625 0.3515625 0.82421875 0.296875 0.76953125 0.2421875 0.71484375 0.1875 0.66015625 0.1328125 0.60546875 0.078125 0.55078125 0.0234375 0.49609375 0.96875 0.44140625 0.9140625 0.38671875 0.859375 0.33203125 0.8046875 0.27734375 0.75 0.22265625 0.6953125 0.16796875 0.640625 0.11328125 0.5859375 0.05859375 0.53125 0.00390625 0.4765625 0.94921875 0.421875 0.89453125 0.3671875 0.83984375 0.3125 0.78515625 0.2578125 0.73046875 0.203125 0.67578125 0.1484375 0.62109375 0.09375 0.56640625 0.0390625 0.51171875 0.984375 0.45703125 0.9296875 0.40234375 0.875 0.34765625 0.8203125 0.29296875 0.765625 0.23828125 0.7109375 0.18359375 0.65625 0.12890625 0.6015625 0.07421875 0.546875 0.01953125 0.4921875 0.96484375 0.4375 0.91015625 0.3828125 0.85546875 0.328125 0.80078125 0.2734375 0.74609375 0.21875 0.69140625 0.1640625 0.63671875 0.109375 0.58203125 0.0546875 0.52734375 0.0 0.47265625 0.9453125 0.41796875 0.890625 0.36328125 0.8359375 0.30859375 0.78125 0.25390625 0.7265625 0.19921875 0.671875 0.14453125 0.6171875 0.08984375 0.5625 0.03515625 0.5078125 0.98046875 0.453125 0.92578125 0.3984375 0.87109375 0.34375 0.81640625 0.2890625 0.76171875 0.234375 0.70703125 0.1796875 0.65234375 0.125 0.59765625 0.0703125 0.54296875 0.015625 0.48828125 0.9609375 0.43359375 0.90625 0.37890625 0.8515625 0.32421875 0.796875 0.26953125 0.7421875 0.21484375 0.6875 0.16015625 0.6328125 0.10546875 0.578125 0.05078125 0.5234375 0.99609375 0.46875 0.94140625 0.4140625 0.88671875 0.359375 0.83203125 0.3046875 0.77734375 0.25 0.72265625 0.1953125 0.66796875 0.140625 0.61328125 0.0859375 0.55859375 0.03125 0.50390625 0.9765625 0.44921875 0.921875 0.39453125 0.8671875 0.33984375 0.8125 0.28515625 0.7578125 0.23046875 0.703125 0.17578125 0.6484375 0.12109375 0.59375 0.06640625 0.5390625 0.01171875 0.484375 0.95703125 0.4296875 0.90234375 0.375 0.84765625 0.3203125 0.79296875 0.265625 0.73828125 0.2109375 0.68359375 0.15625 0.62890625 0.1015625 0.57421875 0.046875 0.51953125 0.9921875 0.46484375 0.9375 0.41015625 0.8828125 0.35546875 0.828125 0.30078125 0.7734375 0.24609375 0.71875 0.19140625 0.6640625 0.13671875 0.609375 0.08203125 0.5546875 0.02734375 0.5 0.97265625 0.4453125 0.91796875 0.390625 0.86328125 0.3359375 0.80859375 0.28125 0.75390625 0.2265625 0.69921875 0.171875 0.64453125 0.1171875 0.58984375 0.0625 0.53515625 0.0078125 0.48046875 0.953125 0.42578125 0.8984375 0.37109375 0.84375 0.31640625 0.7890625 0.26171875 0.734375 0.20703125 0.6796875 0.15234375 0.625 0.09765625 0.5703125 0.04296875 0.515625 0.98828125 0.4609375 0.93359375 0.40625 0.87890625 0.3515625 0.82421875 0.296875 0.76953125 0.2421875 0.71484375 0.1875 0.66015625 0.1328125 0.60546875 0.078125 0.55078125 0.0234375 0.49609375 0.96875 0.44140625 0.9140625 0.38671875 0.859375 0.33203125 0.8046875 0.27734375 0.75 0.22265625 0.6953125 0.16796875 0.640625 0.11328125 0.5859375 0.05859375 0.53125 0.00390625 0.4765625 0.94921875 0.421875 0.89453125 0.3671875 0.83984375 0.3125 0.78515625 0.2578125 0.73046875 0.203125 0.67578125 0.1484375 0.62109375 0.09375 0.56640625 0.0390625 0.51171875 0.984375 0.45703125 0.9296875 0.40234375 0.875 0.34765625 0.8203125 0.29296875 0.765625 0.23828125 0.7109375 0.18359375 0.65625 0.12890625 0.6015625 0.07421875 0.546875 0.01953125 0.4921875 0.96484375 0.4375 0.91015625 0.3828125 0.85546875 0.328125 0.80078125 0.2734375 0.74609375 0.21875 0.69140625 0.1640625 0.63671875 0.109375 0.58203125 0.0546875 0.52734375 0.0 0.47265625 0.9453125 0.41796875 0.890625 0.36328125 0.8359375 0.30859375 0.78125 0.25390625 0.7265625 0.19921875 0.671875 0.14453125 0.6171875 0.08984375 0.5625 0.03515625 0.5078125 0.98046875 0.453125 0.92578125 0.3984375 0.87109375 0.34375 0.81640625 0.2890625 0.76171875 0.234375 0.70703125 0.1796875 0.65234375 0.125 0.59765625 0.0703125 0.54296875 0.015625 0.48828125 0.9609375 0.43359375 0.90625 0.37890625 0.8515625 0.32421875 0.796875 0.26953125 0.7421875 0.21484375 0.6875 0.16015625 0.6328125 0.10546875 0.578125 0.05078125 0.5234375 0.99609375 0.46875 0.94140625 0.4140625 0.88671875 0.359375 0.83203125 0.3046875 0.77734375 0.25 0.72265625 0.1953125 0.66796875 0.140625 0.61328125 0.0859375 0.55859375 0.03125 0.50390625 0.9765625 0.44921875 0.921875 0.39453125 0.8671875 0.33984375 0.8125 0.28515625 0.7578125 0.23046875 0.703125 0.17578125 0.6484375 0.12109375 0.59375 0.06640625 0.5390625 0.01171875 0.484375 0.95703125 0.4296875 0.90234375 0.375 0.84765625 0.3203125 0.79296875 0.265625 0.73828125 0.2109375 0.68359375 0.15625 0.62890625 0.1015625 0.57421875 0.046875 0.51953125 0.9921875 0.46484375 0.9375 0.41015625 0.8828125 0.35546875 0.828125 0.30078125 0.7734375 0.24609375 0.71875 0.19140625 0.6640625 0.13671875 0.609375 0.08203125 0.5546875 0.02734375 0.5 0.97265625 0.4453125 0.91796875 0.390625 0.86328125 0.3359375 0.80859375 0.28125 0.75390625 0.2265625 0.69921875 0.171875 0.64453125 0.1171875 0.58984375 0.0625 0.53515625 0.0078125 0.48046875 0.953125 0.42578125 0.8984375 0.37109375 0.84375 0.31640625 0.7890625 0.26171875 0.734375 0.20703125 0.6796875 0.15234375 0.625 0.09765625 0.5703125 0.04296875 0.515625 0.98828125 0.4609375 0.93359375 0.40625 0.87890625 0.3515625 0.82421875 0.296875 0.76953125 0.2421875 0.71484375 0.1875 0.66015625 0.1328125 0.60546875 0.078125 0.55078125 0.0234375 0.49609375 0.96875 0.44140625 0.9140625 0.38671875 0.859375 0.33203125 0.8046875 0.27734375 0.75 0.22265625 0.6953125 0.16796875 0.640625 0.11328125 0.5859375 0.05859375 0.53125 0.00390625 0.4765625 0.94921875 0.421875 0.89453125 0.3671875 0.83984375 0.3125 0.78515625 0.2578125 0.73046875 0.203125 0.67578125 0.1484375 0.62109375 0.09375 0.56640625 0.0390625 0.51171875 0.984375 0.45703125 0.9296875 0.40234375 0.875 0.34765625 0.8203125 0.29296875 0.765625 0.23828125 0.7109375 0.18359375 0.65625 0.12890625 0.6015625 0.07421875 0.546875 0.01953125 0.4921875 0.96484375 0.4375 0.91015625 0.3828125 0.85546875 0.328125 0.80078125 0.2734375 0.74609375 0.21875 0.69140625 0.1640625 0.63671875 0.109375 0.58203125 0.0546875 0.52734375 0.0 0.47265625 0.9453125 0.41796875 0.890625 0.36328125 0.8359375 0.30859375 0.78125 0.25390625 0.7265625 0.19921875 0.671875 0.14453125 0.6171875 0.08984375 0.5625 0.03515625 0.5078125 0.98046875 0.453125 0.92578125 0.3984375 0.87109375 0.34375 0.81640625 0.2890625 0.76171875 0.234375 0.70703125 0.1796875 0.65234375 0.125 0.59765625 0.0703125 0.54296875 0.015625 0.48828125 0.9609375 0.43359375 0.90625 0.37890625 0.8515625 0.32421875 0.796875 0.26953125 0.7421875 0.21484375 0.6875 0.16015625 0.6328125 0.10546875 0.578125 0.05078125 0.5234375 0.99609375 0.46875 0.94140625 0.4140625 0.88671875 0.359375 0.83203125 0.3046875 0.77734375 0.25 "
          ],
          "name": "stdout"
        },
        {
          "output_type": "display_data",
          "data": {
            "image/png": "[encoded data removed]",
            "text/plain": [
              "<Figure size 432x288 with 1 Axes>"
            ]
          },
          "metadata": {
            "tags": [],
            "needs_background": "light"
          }
        }
      ]
    },
    {
      "cell_type": "code",
      "metadata": {
        "colab": {
          "resources": {
            "http://localhost:8080/nbextensions/google.colab/files.js": {
              "data": "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",
              "ok": true,
              "headers": [
                [
                  "content-type",
                  "application/javascript"
                ]
              ],
              "status": 200,
              "status_text": ""
            }
          },
          "base_uri": "https://localhost:8080/",
          "height": 491
        },
        "id": "Uv6_LKvbKeUs",
        "outputId": "6a2e2131-e33e-40f9-e35a-7bdb1e7243a7"
      },
      "source": [
        "#!wget \"https://www.duckietown.org/wp-content/uploads/2018/05/duckietown_nice-1024x683.jpg\" -O dt.jpg\r\n",
        " \r\n",
        "from google.colab import files\r\n",
        "uploaded = files.upload()\r\n",
        "\r\n",
        "# np = common abbreviation for numpy\r\n",
        "import numpy as np\r\n",
        "\r\n",
        "# Constructing a numpy array from a list\r\n",
        "\r\n",
        "boring_list = [1, 2, 3]\r\n",
        "fun_array = np.array(boring_list) # Calling np.array(a_list) will cast your list into a numpy array!\r\n",
        "\r\n",
        "# Arrays can be added, and there are tons of convenient functions to make them\r\n",
        "ones = np.ones(3)\r\n",
        "result = fun_array + ones + np.zeros(3)\r\n",
        "\r\n",
        "print(result)\r\n",
        "\r\n",
        "# What about matrices?\r\n",
        "boring_mtx = [[1, 2], [3, 4]]\r\n",
        "ones = np.ones((2, 2)) # (2, 2) describes the shape that I want\r\n",
        "identity = np.eye(2) # an Identity matrix\r\n",
        "\r\n",
        "# Numpy will cast your lists into arrays if need be\r\n",
        "try:\r\n",
        "    result = boring_mtx + identity \r\n",
        "    print(result)\r\n",
        "except:\r\n",
        "    print(\"Can I do this?\")\r\n",
        "    \r\n",
        "# Random Sampling? No problem!\r\n",
        "rando_mtx = np.random.random((100, 100))\r\n",
        "\r\n",
        "# A lot of functions built in\r\n",
        "print(np.linalg.norm(rando_mtx))\r\n",
        "\r\n",
        "# But different behavior depending on the parameters you give it!\r\n",
        "print(np.linalg.norm(rando_mtx, axis=0))\r\n",
        "print(np.linalg.norm(rando_mtx, ord=2))\r\n",
        "\r\n",
        "# Matrix Operations work exactly how you think they would\r\n",
        "rando_mtx = np.eye(rando_mtx.shape[0]) * rando_mtx\r\n",
        "\r\n",
        "\r\n",
        "# Or not? One big (and subtle) feature: broadcasting\r\n",
        "rando_mtx += 1 # adding a scalar works, that's cool! \r\n",
        "\r\n",
        "mtx1 = np.random.random((8, 1, 7, 1))\r\n",
        "mtx2 = np.random.random((8, 2, 1, 9))\r\n",
        "\r\n",
        "# No error? \r\n",
        "res = mtx1 * mtx2 \r\n",
        "\r\n",
        "# Does the same? \r\n",
        "res2 = mtx1.dot(mtx2)\r\n",
        "\r\n",
        "print(np.array_equal(res, res2), res.shape, res2.shape)\r\n",
        "\r\n",
        "# Big takeaway: numpy docs are your friend! Look before you write!"
      ],
      "execution_count": null,
      "outputs": [
        {
          "output_type": "display_data",
          "data": {
            "text/html": [
              "\n",
              "     <input type=\"file\" id=\"files-7eade356-cb3d-45e9-ba04-83f91b8c7bdb\" name=\"files[]\" multiple disabled\n",
              "        style=\"border:none\" />\n",
              "     <output id=\"result-7eade356-cb3d-45e9-ba04-83f91b8c7bdb\">\n",
              "      Upload widget is only available when the cell has been executed in the\n",
              "      current browser session. Please rerun this cell to enable.\n",
              "      </output>\n",
              "      <script src=\"/nbextensions/google.colab/files.js\"></script> "
            ],
            "text/plain": [
              "<IPython.core.display.HTML object>"
            ]
          },
          "metadata": {
            "tags": []
          }
        },
        {
          "output_type": "stream",
          "text": [
            "Saving ufrn.jpg to ufrn.jpg\n",
            "[2. 3. 4.]\n",
            "[[2. 2.]\n",
            " [3. 5.]]\n",
            "57.86667077174661\n",
            "[6.13931243 5.79288045 5.63265074 6.10874245 5.82597499 6.01053912\n",
            " 5.82118396 6.13811535 5.84876784 5.27633931 5.78366297 5.64689737\n",
            " 5.69266126 5.46784546 5.84560888 5.85299878 5.77892058 6.14418227\n",
            " 6.06490972 5.71898513 5.37721099 5.73368733 5.43577508 6.14604756\n",
            " 5.92976071 5.81246656 5.57346686 5.89022192 6.4270756  5.46003537\n",
            " 5.86529929 5.68415745 5.21983409 6.07828497 5.57022471 5.66732016\n",
            " 6.06971255 6.13907674 6.24128103 5.75597878 5.63775589 5.89594483\n",
            " 5.75433856 5.96370435 5.84267736 5.71607619 5.6870077  5.91599819\n",
            " 6.09477515 5.58401666 5.64937065 5.49813856 5.65037732 5.68979172\n",
            " 5.72620457 6.25543016 5.37438642 5.31728012 5.37479376 5.80710166\n",
            " 5.228893   5.59751484 5.93317327 5.69917293 5.98021384 5.49409121\n",
            " 5.94273233 5.65764561 5.59870654 6.33558516 5.97566965 5.52998566\n",
            " 5.7685094  5.73060617 6.09303526 5.95818636 5.86024043 5.68403579\n",
            " 6.14018341 5.7521893  6.3206292  5.36034331 5.77639434 5.85321027\n",
            " 5.79437498 5.75677971 5.72132115 5.66512865 5.7770494  5.88910589\n",
            " 5.61599762 5.76999333 5.5225885  6.0670913  6.19528588 5.41501597\n",
            " 5.17266686 5.79478305 6.12942669 5.40293533]\n",
            "50.41362399753123\n",
            "False (8, 2, 7, 9) (8, 1, 7, 8, 2, 9)\n"
          ],
          "name": "stdout"
        }
      ]
    },
    {
      "cell_type": "code",
      "metadata": {
        "colab": {
          "base_uri": "https://localhost:8080/",
          "height": 243
        },
        "id": "_oCdOGlYKmqY",
        "outputId": "c35e79d2-615d-4ad3-d375-67dee595cf47"
      },
      "source": [
        "%matplotlib inline\r\n",
        "from matplotlib import pyplot as plt\r\n",
        "import cv2\r\n",
        "\r\n",
        "# Load in Grayscale\r\n",
        "img = cv2.imread('./ufrn.jpg', 0)\r\n",
        "\r\n",
        "# The underlying representation is a numpy array!\r\n",
        "print(type(img))\r\n",
        "\r\n",
        "plt.imshow(img)\r\n",
        "plt.show()\r\n",
        "\r\n",
        "img = cv2.imread('./ufrn.jpg')\r\n",
        "\r\n",
        "plt.imshow(img)\r\n",
        "plt.show()\r\n",
        "\r\n",
        "# This would work normally, but it will crash the colab kernel, so don't.\r\n",
        "# cv2.imshow('Image', img)"
      ],
      "execution_count": null,
      "outputs": [
        {
          "output_type": "stream",
          "text": [
            "<class 'numpy.ndarray'>\n"
          ],
          "name": "stdout"
        },
        {
          "output_type": "display_data",
          "data": {
            "image/png": "[encoded data removed]",
            "text/plain": [
              "<Figure size 432x288 with 1 Axes>"
            ]
          },
          "metadata": {
            "tags": [],
            "needs_background": "light"
          }
        },
        {
          "output_type": "display_data",
          "data": {
            "image/png": "[encoded data removed]",
            "text/plain": [
              "<Figure size 432x288 with 1 Axes>"
            ]
          },
          "metadata": {
            "tags": [],
            "needs_background": "light"
          }
        }
      ]
    },
    {
      "cell_type": "code",
      "metadata": {
        "colab": {
          "base_uri": "https://localhost:8080/",
          "height": 225
        },
        "id": "v1UbEzncNt_d",
        "outputId": "aebd0889-c0fe-479a-e4fe-b9ce46834a4f"
      },
      "source": [
        "imgrgb = cv2.cvtColor(img, cv2.COLOR_BGR2RGB)\r\n",
        "\r\n",
        "plt.imshow(imgrgb)\r\n",
        "plt.show()\r\n",
        "\r\n",
        "# Or, use fun numpy functions / indexing!\r\n",
        "imgrgb = img[:,:,::-1]\r\n",
        "plt.imshow(imgrgb)\r\n",
        "plt.show()\r\n"
      ],
      "execution_count": null,
      "outputs": [
        {
          "output_type": "display_data",
          "data": {
            "image/png": "[encoded data removed]",
            "text/plain": [
              "<Figure size 432x288 with 1 Axes>"
            ]
          },
          "metadata": {
            "tags": [],
            "needs_background": "light"
          }
        },
        {
          "output_type": "display_data",
          "data": {
            "image/png": "[encoded data removed]",
            "text/plain": [
              "<Figure size 432x288 with 1 Axes>"
            ]
          },
          "metadata": {
            "tags": [],
            "needs_background": "light"
          }
        }
      ]
    },
    {
      "cell_type": "code",
      "metadata": {
        "colab": {
          "base_uri": "https://localhost:8080/",
          "height": 222
        },
        "id": "ySMGcHELN0_d",
        "outputId": "27d3991d-824a-4b1c-8a89-da9b26082187"
      },
      "source": [
        "# Expanding\r\n",
        "res = cv2.resize(imgrgb, None,fx=2, fy=2, interpolation = cv2.INTER_CUBIC)\r\n",
        "plt.imshow(res)\r\n",
        "plt.show()\r\n",
        "\r\n",
        "# Shrinking\r\n",
        "res = cv2.resize(imgrgb, None,fx=.1, fy=.1, interpolation = cv2.INTER_CUBIC)\r\n",
        "plt.imshow(res)\r\n",
        "plt.show()\r\n",
        "\r\n",
        "# What are some practical constraints that have to do with image resizing?"
      ],
      "execution_count": null,
      "outputs": [
        {
          "output_type": "display_data",
          "data": {
            "image/png": "[encoded data removed]",
            "text/plain": [
              "<Figure size 432x288 with 1 Axes>"
            ]
          },
          "metadata": {
            "tags": [],
            "needs_background": "light"
          }
        },
        {
          "output_type": "display_data",
          "data": {
            "image/png": "[encoded data removed]",
            "text/plain": [
              "<Figure size 432x288 with 1 Axes>"
            ]
          },
          "metadata": {
            "tags": [],
            "needs_background": "light"
          }
        }
      ]
    },
    {
      "cell_type": "code",
      "metadata": {
        "colab": {
          "base_uri": "https://localhost:8080/",
          "height": 176
        },
        "id": "XsMqQwARN7tS",
        "outputId": "60a01257-f9d5-49d7-efbc-17d7fa3dd77c"
      },
      "source": [
        "#@title Transformation Parameters { run: \"auto\" }\r\n",
        "\r\n",
        "theta_degrees = 0 #@param {type:\"slider\", min:0, max:360, step:10}\r\n",
        "shift_x = 100 #@param {type:\"slider\", min:-100, max:100, step:2}\r\n",
        "shift_y = 100 #@param {type:\"slider\", min:-100, max:100, step:2}\r\n",
        "\r\n",
        "# We can also play around with rotations by defining our M matrix, \r\n",
        "# which has the form:\r\n",
        "\"\"\"\r\n",
        "| cos(theta) -sin(theta) tx | \r\n",
        "| sin(theta)  cos(theta) ty |\r\n",
        "\"\"\"\r\n",
        "\r\n",
        "rows, cols, _ = imgrgb.shape\r\n",
        "\r\n",
        "radians = theta_degrees * np.pi / 180\r\n",
        "M = [\r\n",
        "        [np.cos(radians), -np.sin(radians), shift_x], \r\n",
        "        [np.sin(radians),  np.cos(radians), shift_y]\r\n",
        "    ]\r\n",
        "\r\n",
        "M = np.array(M)\r\n",
        "rows += int(shift_x)\r\n",
        "cols += int(shift_y)\r\n",
        "\r\n",
        "res = cv2.warpAffine(imgrgb, M, (cols,rows))\r\n",
        "\r\n",
        "plt.imshow(res)\r\n",
        "plt.show()\r\n",
        "\r\n",
        "\r\n"
      ],
      "execution_count": null,
      "outputs": [
        {
          "output_type": "display_data",
          "data": {
            "image/png": "[encoded data removed]",
            "text/plain": [
              "<Figure size 432x288 with 1 Axes>"
            ]
          },
          "metadata": {
            "tags": [],
            "needs_background": "light"
          }
        }
      ]
    },
    {
      "cell_type": "code",
      "metadata": {
        "colab": {
          "base_uri": "https://localhost:8080/",
          "height": 537
        },
        "id": "DHSUxJZaOFYP",
        "outputId": "d611ea2d-c474-44a5-a058-9cbdbe90471e"
      },
      "source": [
        "# make things easier!\r\n",
        "img = imgrgb\r\n",
        "\r\n",
        "# Thresholding is cool\r\n",
        "ret,thresh1 = cv2.threshold(img,127,255,cv2.THRESH_BINARY)\r\n",
        "ret,thresh2 = cv2.threshold(img,127,255,cv2.THRESH_BINARY_INV)\r\n",
        "ret,thresh3 = cv2.threshold(img,127,255,cv2.THRESH_TRUNC)\r\n",
        "ret,thresh4 = cv2.threshold(img,127,255,cv2.THRESH_TOZERO)\r\n",
        "ret,thresh5 = cv2.threshold(img,127,255,cv2.THRESH_TOZERO_INV)\r\n",
        "\r\n",
        "titles = ['Original Image','BINARY','BINARY_INV','TRUNC','TOZERO','TOZERO_INV']\r\n",
        "images = [img, thresh1, thresh2, thresh3, thresh4, thresh5]\r\n",
        "\r\n",
        "for i in range(6):\r\n",
        "    plt.subplot(2,3,i+1),plt.imshow(images[i],'gray')\r\n",
        "    plt.title(titles[i])\r\n",
        "    plt.xticks([]),plt.yticks([])\r\n",
        "\r\n",
        "plt.show()\r\n",
        "\r\n",
        "# Blurring - smoothes the image out\r\n",
        "blur = cv2.blur(img,(10, 10))\r\n",
        "gblur = cv2.GaussianBlur(imgrgb,(5,5),0)\r\n",
        "\r\n",
        "plt.imshow(img), plt.title('Original')\r\n",
        "plt.show()\r\n",
        "plt.imshow(blur), plt.title('Blurred')\r\n",
        "plt.show()\r\n",
        "plt.imshow(gblur),plt.title('Gaussian Blur')\r\n",
        "plt.show()\r\n"
      ],
      "execution_count": null,
      "outputs": [
        {
          "output_type": "display_data",
          "data": {
            "image/png": "[encoded data removed]",
            "text/plain": [
              "<Figure size 432x288 with 6 Axes>"
            ]
          },
          "metadata": {
            "tags": []
          }
        },
        {
          "output_type": "display_data",
          "data": {
            "image/png": "[encoded data removed]",
            "text/plain": [
              "<Figure size 432x288 with 1 Axes>"
            ]
          },
          "metadata": {
            "tags": [],
            "needs_background": "light"
          }
        },
        {
          "output_type": "display_data",
          "data": {
            "image/png": "[encoded data removed]",
            "text/plain": [
              "<Figure size 432x288 with 1 Axes>"
            ]
          },
          "metadata": {
            "tags": [],
            "needs_background": "light"
          }
        },
        {
          "output_type": "display_data",
          "data": {
            "image/png": "[encoded data removed]",
            "text/plain": [
              "<Figure size 432x288 with 1 Axes>"
            ]
          },
          "metadata": {
            "tags": [],
            "needs_background": "light"
          }
        }
      ]
    },
    {
      "cell_type": "code",
      "metadata": {
        "colab": {
          "base_uri": "https://localhost:8080/",
          "height": 281
        },
        "id": "C4HZx7Gndbrh",
        "outputId": "46abc637-6abd-41b2-9bba-80a7ae992e06"
      },
      "source": [
        "import numpy as np\n",
        "from matplotlib import pyplot as plt\n",
        "\n",
        "ys = 200 + np.random.randn(100)\n",
        "x = [x for x in range(len(ys))]\n",
        "\n",
        "plt.plot(x, ys, '-')\n",
        "plt.fill_between(x, ys, 195, where=(ys > 195), facecolor='g', alpha=0.6)\n",
        "\n",
        "plt.title(\"Sample Visualization\")\n",
        "plt.show()"
      ],
      "execution_count": null,
      "outputs": [
        {
          "output_type": "display_data",
          "data": {
            "image/png": "[encoded data removed]",
            "text/plain": [
              "<Figure size 432x288 with 1 Axes>"
            ]
          },
          "metadata": {
            "tags": []
          }
        }
      ]
    }
  ]
}